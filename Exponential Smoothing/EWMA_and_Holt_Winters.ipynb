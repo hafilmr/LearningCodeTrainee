{
  "nbformat": 4,
  "nbformat_minor": 0,
  "metadata": {
    "colab": {
      "name": "EWMA and Holt Winters",
      "provenance": [],
      "collapsed_sections": [
        "ATfiigGoY2l1",
        "y6lin2j8adGy",
        "VYULDpH80jqy"
      ],
      "authorship_tag": "ABX9TyPFleTWIQTVtAMNo/40rzVe",
      "include_colab_link": true
    },
    "kernelspec": {
      "name": "python3",
      "display_name": "Python 3"
    },
    "language_info": {
      "name": "python"
    }
  },
  "cells": [
    {
      "cell_type": "markdown",
      "metadata": {
        "id": "view-in-github",
        "colab_type": "text"
      },
      "source": [
        "<a href=\"https://colab.research.google.com/github/hafilmr/LearningCodeTrainee/blob/main/Exponential%20Smoothing/EWMA_and_Holt_Winters.ipynb\" target=\"_parent\"><img src=\"https://colab.research.google.com/assets/colab-badge.svg\" alt=\"Open In Colab\"/></a>"
      ]
    },
    {
      "cell_type": "markdown",
      "source": [
        "## Exponentially-Weighted Moving Average (EWMA)\n",
        "\n"
      ],
      "metadata": {
        "id": "ATfiigGoY2l1"
      }
    },
    {
      "cell_type": "code",
      "execution_count": null,
      "metadata": {
        "colab": {
          "base_uri": "https://localhost:8080/"
        },
        "id": "YpsKbwSlTyu_",
        "outputId": "f8172226-c795-4719-d9ab-5c2ed21a115a"
      },
      "outputs": [
        {
          "output_type": "stream",
          "name": "stdout",
          "text": [
            "--2022-02-03 07:15:10--  http://nc/\n",
            "Resolving nc (nc)... failed: No address associated with hostname.\n",
            "wget: unable to resolve host address ‘nc’\n",
            "--2022-02-03 07:15:10--  https://lazyprogrammer.me/course_files/airline_passengers.csv\n",
            "Resolving lazyprogrammer.me (lazyprogrammer.me)... 104.21.23.210, 172.67.213.166, 2606:4700:3030::ac43:d5a6, ...\n",
            "Connecting to lazyprogrammer.me (lazyprogrammer.me)|104.21.23.210|:443... connected.\n",
            "HTTP request sent, awaiting response... 200 OK\n",
            "Length: 2036 (2.0K) [text/csv]\n",
            "Saving to: ‘airline_passengers.csv.1’\n",
            "\n",
            "airline_passengers. 100%[===================>]   1.99K  --.-KB/s    in 0s      \n",
            "\n",
            "2022-02-03 07:15:11 (21.7 MB/s) - ‘airline_passengers.csv.1’ saved [2036/2036]\n",
            "\n",
            "FINISHED --2022-02-03 07:15:11--\n",
            "Total wall clock time: 0.3s\n",
            "Downloaded: 1 files, 2.0K in 0s (21.7 MB/s)\n"
          ]
        }
      ],
      "source": [
        "!wget nc https://lazyprogrammer.me/course_files/airline_passengers.csv"
      ]
    },
    {
      "cell_type": "code",
      "source": [
        "import pandas as pd\n",
        "import numpy as np\n",
        "import matplotlib.pyplot as plt"
      ],
      "metadata": {
        "id": "fn260PN3UQqJ"
      },
      "execution_count": null,
      "outputs": []
    },
    {
      "cell_type": "code",
      "source": [
        "df = pd.read_csv('/content/airline_passengers.csv', index_col='Month', parse_dates=True)"
      ],
      "metadata": {
        "id": "1KIqqlNBUVDy"
      },
      "execution_count": null,
      "outputs": []
    },
    {
      "cell_type": "code",
      "source": [
        "df.head()"
      ],
      "metadata": {
        "colab": {
          "base_uri": "https://localhost:8080/",
          "height": 238
        },
        "id": "y6X8PYRqUVGm",
        "outputId": "2c4bb50e-5e3b-4e84-83e6-bf65e34b4ec9"
      },
      "execution_count": null,
      "outputs": [
        {
          "output_type": "execute_result",
          "data": {
            "text/html": [
              "\n",
              "  <div id=\"df-0a3deea5-dab9-489c-8e05-cbc0ab3f50cb\">\n",
              "    <div class=\"colab-df-container\">\n",
              "      <div>\n",
              "<style scoped>\n",
              "    .dataframe tbody tr th:only-of-type {\n",
              "        vertical-align: middle;\n",
              "    }\n",
              "\n",
              "    .dataframe tbody tr th {\n",
              "        vertical-align: top;\n",
              "    }\n",
              "\n",
              "    .dataframe thead th {\n",
              "        text-align: right;\n",
              "    }\n",
              "</style>\n",
              "<table border=\"1\" class=\"dataframe\">\n",
              "  <thead>\n",
              "    <tr style=\"text-align: right;\">\n",
              "      <th></th>\n",
              "      <th>Passengers</th>\n",
              "    </tr>\n",
              "    <tr>\n",
              "      <th>Month</th>\n",
              "      <th></th>\n",
              "    </tr>\n",
              "  </thead>\n",
              "  <tbody>\n",
              "    <tr>\n",
              "      <th>1949-01-01</th>\n",
              "      <td>112</td>\n",
              "    </tr>\n",
              "    <tr>\n",
              "      <th>1949-02-01</th>\n",
              "      <td>118</td>\n",
              "    </tr>\n",
              "    <tr>\n",
              "      <th>1949-03-01</th>\n",
              "      <td>132</td>\n",
              "    </tr>\n",
              "    <tr>\n",
              "      <th>1949-04-01</th>\n",
              "      <td>129</td>\n",
              "    </tr>\n",
              "    <tr>\n",
              "      <th>1949-05-01</th>\n",
              "      <td>121</td>\n",
              "    </tr>\n",
              "  </tbody>\n",
              "</table>\n",
              "</div>\n",
              "      <button class=\"colab-df-convert\" onclick=\"convertToInteractive('df-0a3deea5-dab9-489c-8e05-cbc0ab3f50cb')\"\n",
              "              title=\"Convert this dataframe to an interactive table.\"\n",
              "              style=\"display:none;\">\n",
              "        \n",
              "  <svg xmlns=\"http://www.w3.org/2000/svg\" height=\"24px\"viewBox=\"0 0 24 24\"\n",
              "       width=\"24px\">\n",
              "    <path d=\"M0 0h24v24H0V0z\" fill=\"none\"/>\n",
              "    <path d=\"M18.56 5.44l.94 2.06.94-2.06 2.06-.94-2.06-.94-.94-2.06-.94 2.06-2.06.94zm-11 1L8.5 8.5l.94-2.06 2.06-.94-2.06-.94L8.5 2.5l-.94 2.06-2.06.94zm10 10l.94 2.06.94-2.06 2.06-.94-2.06-.94-.94-2.06-.94 2.06-2.06.94z\"/><path d=\"M17.41 7.96l-1.37-1.37c-.4-.4-.92-.59-1.43-.59-.52 0-1.04.2-1.43.59L10.3 9.45l-7.72 7.72c-.78.78-.78 2.05 0 2.83L4 21.41c.39.39.9.59 1.41.59.51 0 1.02-.2 1.41-.59l7.78-7.78 2.81-2.81c.8-.78.8-2.07 0-2.86zM5.41 20L4 18.59l7.72-7.72 1.47 1.35L5.41 20z\"/>\n",
              "  </svg>\n",
              "      </button>\n",
              "      \n",
              "  <style>\n",
              "    .colab-df-container {\n",
              "      display:flex;\n",
              "      flex-wrap:wrap;\n",
              "      gap: 12px;\n",
              "    }\n",
              "\n",
              "    .colab-df-convert {\n",
              "      background-color: #E8F0FE;\n",
              "      border: none;\n",
              "      border-radius: 50%;\n",
              "      cursor: pointer;\n",
              "      display: none;\n",
              "      fill: #1967D2;\n",
              "      height: 32px;\n",
              "      padding: 0 0 0 0;\n",
              "      width: 32px;\n",
              "    }\n",
              "\n",
              "    .colab-df-convert:hover {\n",
              "      background-color: #E2EBFA;\n",
              "      box-shadow: 0px 1px 2px rgba(60, 64, 67, 0.3), 0px 1px 3px 1px rgba(60, 64, 67, 0.15);\n",
              "      fill: #174EA6;\n",
              "    }\n",
              "\n",
              "    [theme=dark] .colab-df-convert {\n",
              "      background-color: #3B4455;\n",
              "      fill: #D2E3FC;\n",
              "    }\n",
              "\n",
              "    [theme=dark] .colab-df-convert:hover {\n",
              "      background-color: #434B5C;\n",
              "      box-shadow: 0px 1px 3px 1px rgba(0, 0, 0, 0.15);\n",
              "      filter: drop-shadow(0px 1px 2px rgba(0, 0, 0, 0.3));\n",
              "      fill: #FFFFFF;\n",
              "    }\n",
              "  </style>\n",
              "\n",
              "      <script>\n",
              "        const buttonEl =\n",
              "          document.querySelector('#df-0a3deea5-dab9-489c-8e05-cbc0ab3f50cb button.colab-df-convert');\n",
              "        buttonEl.style.display =\n",
              "          google.colab.kernel.accessAllowed ? 'block' : 'none';\n",
              "\n",
              "        async function convertToInteractive(key) {\n",
              "          const element = document.querySelector('#df-0a3deea5-dab9-489c-8e05-cbc0ab3f50cb');\n",
              "          const dataTable =\n",
              "            await google.colab.kernel.invokeFunction('convertToInteractive',\n",
              "                                                     [key], {});\n",
              "          if (!dataTable) return;\n",
              "\n",
              "          const docLinkHtml = 'Like what you see? Visit the ' +\n",
              "            '<a target=\"_blank\" href=https://colab.research.google.com/notebooks/data_table.ipynb>data table notebook</a>'\n",
              "            + ' to learn more about interactive tables.';\n",
              "          element.innerHTML = '';\n",
              "          dataTable['output_type'] = 'display_data';\n",
              "          await google.colab.output.renderOutput(dataTable, element);\n",
              "          const docLink = document.createElement('div');\n",
              "          docLink.innerHTML = docLinkHtml;\n",
              "          element.appendChild(docLink);\n",
              "        }\n",
              "      </script>\n",
              "    </div>\n",
              "  </div>\n",
              "  "
            ],
            "text/plain": [
              "            Passengers\n",
              "Month                 \n",
              "1949-01-01         112\n",
              "1949-02-01         118\n",
              "1949-03-01         132\n",
              "1949-04-01         129\n",
              "1949-05-01         121"
            ]
          },
          "metadata": {},
          "execution_count": 53
        }
      ]
    },
    {
      "cell_type": "code",
      "source": [
        "df.isna().sum()"
      ],
      "metadata": {
        "colab": {
          "base_uri": "https://localhost:8080/"
        },
        "id": "5ZGq19alUVJd",
        "outputId": "943a7752-7a90-497b-f81e-418ee9046dc1"
      },
      "execution_count": null,
      "outputs": [
        {
          "output_type": "execute_result",
          "data": {
            "text/plain": [
              "Passengers    0\n",
              "dtype: int64"
            ]
          },
          "metadata": {},
          "execution_count": 54
        }
      ]
    },
    {
      "cell_type": "code",
      "source": [
        "df.plot()"
      ],
      "metadata": {
        "colab": {
          "base_uri": "https://localhost:8080/",
          "height": 296
        },
        "id": "6AquLAPAUjo-",
        "outputId": "e0b07255-ce4e-449b-ab47-a4494caea35f"
      },
      "execution_count": null,
      "outputs": [
        {
          "output_type": "execute_result",
          "data": {
            "text/plain": [
              "<matplotlib.axes._subplots.AxesSubplot at 0x7f50dc747f90>"
            ]
          },
          "metadata": {},
          "execution_count": 55
        },
        {
          "output_type": "display_data",
          "data": {
            "image/png": "[encoded data removed]",
            "text/plain": [
              "<Figure size 432x288 with 1 Axes>"
            ]
          },
          "metadata": {
            "needs_background": "light"
          }
        }
      ]
    },
    {
      "cell_type": "code",
      "source": [
        "# set alpha values\n",
        "alpha = 0.2\n",
        "\n",
        "# choose a small value for alpha between 0 and 1, example=0.1, 0.2\n",
        "# consider alpha = 1 = just copy original time series\n",
        "# consider alpha = 0 = just copy itself\n",
        "# consider alpha almost 1 = follow new samples more, more jagged\n",
        "# consider alpha almost 0 = follow existing average more, more smooth"
      ],
      "metadata": {
        "id": "BrkUUK5fUkTE"
      },
      "execution_count": null,
      "outputs": []
    },
    {
      "cell_type": "code",
      "source": [
        "df['EWMA'] = df['Passengers'].ewm(alpha=alpha, adjust=False).mean()\n",
        "\n",
        "# ewm() is for Provide exponentially weighted (EW) calculations."
      ],
      "metadata": {
        "id": "869ScodxUvgP"
      },
      "execution_count": null,
      "outputs": []
    },
    {
      "cell_type": "markdown",
      "source": [
        "* When adjust=True (default), the EW function is calculated using weights\n",
        "* When adjust=False, the exponentially weighted function is calculated recursively"
      ],
      "metadata": {
        "id": "c5RU4MwR0Myr"
      }
    },
    {
      "cell_type": "code",
      "source": [
        "df"
      ],
      "metadata": {
        "colab": {
          "base_uri": "https://localhost:8080/",
          "height": 455
        },
        "id": "IDeg2tCTWHeb",
        "outputId": "8720b2e3-56bd-4efd-a166-4a462b46e19b"
      },
      "execution_count": null,
      "outputs": [
        {
          "output_type": "execute_result",
          "data": {
            "text/html": [
              "\n",
              "  <div id=\"df-f10764e8-5d81-4730-bbbf-29234b855220\">\n",
              "    <div class=\"colab-df-container\">\n",
              "      <div>\n",
              "<style scoped>\n",
              "    .dataframe tbody tr th:only-of-type {\n",
              "        vertical-align: middle;\n",
              "    }\n",
              "\n",
              "    .dataframe tbody tr th {\n",
              "        vertical-align: top;\n",
              "    }\n",
              "\n",
              "    .dataframe thead th {\n",
              "        text-align: right;\n",
              "    }\n",
              "</style>\n",
              "<table border=\"1\" class=\"dataframe\">\n",
              "  <thead>\n",
              "    <tr style=\"text-align: right;\">\n",
              "      <th></th>\n",
              "      <th>Passengers</th>\n",
              "      <th>EWMA</th>\n",
              "    </tr>\n",
              "    <tr>\n",
              "      <th>Month</th>\n",
              "      <th></th>\n",
              "      <th></th>\n",
              "    </tr>\n",
              "  </thead>\n",
              "  <tbody>\n",
              "    <tr>\n",
              "      <th>1949-01-01</th>\n",
              "      <td>112</td>\n",
              "      <td>112.000000</td>\n",
              "    </tr>\n",
              "    <tr>\n",
              "      <th>1949-02-01</th>\n",
              "      <td>118</td>\n",
              "      <td>113.200000</td>\n",
              "    </tr>\n",
              "    <tr>\n",
              "      <th>1949-03-01</th>\n",
              "      <td>132</td>\n",
              "      <td>116.960000</td>\n",
              "    </tr>\n",
              "    <tr>\n",
              "      <th>1949-04-01</th>\n",
              "      <td>129</td>\n",
              "      <td>119.368000</td>\n",
              "    </tr>\n",
              "    <tr>\n",
              "      <th>1949-05-01</th>\n",
              "      <td>121</td>\n",
              "      <td>119.694400</td>\n",
              "    </tr>\n",
              "    <tr>\n",
              "      <th>...</th>\n",
              "      <td>...</td>\n",
              "      <td>...</td>\n",
              "    </tr>\n",
              "    <tr>\n",
              "      <th>1960-08-01</th>\n",
              "      <td>606</td>\n",
              "      <td>512.214093</td>\n",
              "    </tr>\n",
              "    <tr>\n",
              "      <th>1960-09-01</th>\n",
              "      <td>508</td>\n",
              "      <td>511.371274</td>\n",
              "    </tr>\n",
              "    <tr>\n",
              "      <th>1960-10-01</th>\n",
              "      <td>461</td>\n",
              "      <td>501.297019</td>\n",
              "    </tr>\n",
              "    <tr>\n",
              "      <th>1960-11-01</th>\n",
              "      <td>390</td>\n",
              "      <td>479.037615</td>\n",
              "    </tr>\n",
              "    <tr>\n",
              "      <th>1960-12-01</th>\n",
              "      <td>432</td>\n",
              "      <td>469.630092</td>\n",
              "    </tr>\n",
              "  </tbody>\n",
              "</table>\n",
              "<p>144 rows × 2 columns</p>\n",
              "</div>\n",
              "      <button class=\"colab-df-convert\" onclick=\"convertToInteractive('df-f10764e8-5d81-4730-bbbf-29234b855220')\"\n",
              "              title=\"Convert this dataframe to an interactive table.\"\n",
              "              style=\"display:none;\">\n",
              "        \n",
              "  <svg xmlns=\"http://www.w3.org/2000/svg\" height=\"24px\"viewBox=\"0 0 24 24\"\n",
              "       width=\"24px\">\n",
              "    <path d=\"M0 0h24v24H0V0z\" fill=\"none\"/>\n",
              "    <path d=\"M18.56 5.44l.94 2.06.94-2.06 2.06-.94-2.06-.94-.94-2.06-.94 2.06-2.06.94zm-11 1L8.5 8.5l.94-2.06 2.06-.94-2.06-.94L8.5 2.5l-.94 2.06-2.06.94zm10 10l.94 2.06.94-2.06 2.06-.94-2.06-.94-.94-2.06-.94 2.06-2.06.94z\"/><path d=\"M17.41 7.96l-1.37-1.37c-.4-.4-.92-.59-1.43-.59-.52 0-1.04.2-1.43.59L10.3 9.45l-7.72 7.72c-.78.78-.78 2.05 0 2.83L4 21.41c.39.39.9.59 1.41.59.51 0 1.02-.2 1.41-.59l7.78-7.78 2.81-2.81c.8-.78.8-2.07 0-2.86zM5.41 20L4 18.59l7.72-7.72 1.47 1.35L5.41 20z\"/>\n",
              "  </svg>\n",
              "      </button>\n",
              "      \n",
              "  <style>\n",
              "    .colab-df-container {\n",
              "      display:flex;\n",
              "      flex-wrap:wrap;\n",
              "      gap: 12px;\n",
              "    }\n",
              "\n",
              "    .colab-df-convert {\n",
              "      background-color: #E8F0FE;\n",
              "      border: none;\n",
              "      border-radius: 50%;\n",
              "      cursor: pointer;\n",
              "      display: none;\n",
              "      fill: #1967D2;\n",
              "      height: 32px;\n",
              "      padding: 0 0 0 0;\n",
              "      width: 32px;\n",
              "    }\n",
              "\n",
              "    .colab-df-convert:hover {\n",
              "      background-color: #E2EBFA;\n",
              "      box-shadow: 0px 1px 2px rgba(60, 64, 67, 0.3), 0px 1px 3px 1px rgba(60, 64, 67, 0.15);\n",
              "      fill: #174EA6;\n",
              "    }\n",
              "\n",
              "    [theme=dark] .colab-df-convert {\n",
              "      background-color: #3B4455;\n",
              "      fill: #D2E3FC;\n",
              "    }\n",
              "\n",
              "    [theme=dark] .colab-df-convert:hover {\n",
              "      background-color: #434B5C;\n",
              "      box-shadow: 0px 1px 3px 1px rgba(0, 0, 0, 0.15);\n",
              "      filter: drop-shadow(0px 1px 2px rgba(0, 0, 0, 0.3));\n",
              "      fill: #FFFFFF;\n",
              "    }\n",
              "  </style>\n",
              "\n",
              "      <script>\n",
              "        const buttonEl =\n",
              "          document.querySelector('#df-f10764e8-5d81-4730-bbbf-29234b855220 button.colab-df-convert');\n",
              "        buttonEl.style.display =\n",
              "          google.colab.kernel.accessAllowed ? 'block' : 'none';\n",
              "\n",
              "        async function convertToInteractive(key) {\n",
              "          const element = document.querySelector('#df-f10764e8-5d81-4730-bbbf-29234b855220');\n",
              "          const dataTable =\n",
              "            await google.colab.kernel.invokeFunction('convertToInteractive',\n",
              "                                                     [key], {});\n",
              "          if (!dataTable) return;\n",
              "\n",
              "          const docLinkHtml = 'Like what you see? Visit the ' +\n",
              "            '<a target=\"_blank\" href=https://colab.research.google.com/notebooks/data_table.ipynb>data table notebook</a>'\n",
              "            + ' to learn more about interactive tables.';\n",
              "          element.innerHTML = '';\n",
              "          dataTable['output_type'] = 'display_data';\n",
              "          await google.colab.output.renderOutput(dataTable, element);\n",
              "          const docLink = document.createElement('div');\n",
              "          docLink.innerHTML = docLinkHtml;\n",
              "          element.appendChild(docLink);\n",
              "        }\n",
              "      </script>\n",
              "    </div>\n",
              "  </div>\n",
              "  "
            ],
            "text/plain": [
              "            Passengers        EWMA\n",
              "Month                             \n",
              "1949-01-01         112  112.000000\n",
              "1949-02-01         118  113.200000\n",
              "1949-03-01         132  116.960000\n",
              "1949-04-01         129  119.368000\n",
              "1949-05-01         121  119.694400\n",
              "...                ...         ...\n",
              "1960-08-01         606  512.214093\n",
              "1960-09-01         508  511.371274\n",
              "1960-10-01         461  501.297019\n",
              "1960-11-01         390  479.037615\n",
              "1960-12-01         432  469.630092\n",
              "\n",
              "[144 rows x 2 columns]"
            ]
          },
          "metadata": {},
          "execution_count": 58
        }
      ]
    },
    {
      "cell_type": "code",
      "source": [
        "type(df['Passengers'].ewm(alpha=alpha, adjust=False))"
      ],
      "metadata": {
        "colab": {
          "base_uri": "https://localhost:8080/"
        },
        "id": "mO19UP5KVql6",
        "outputId": "0b15e0ff-aa17-4860-c0d9-0e91569410d6"
      },
      "execution_count": null,
      "outputs": [
        {
          "output_type": "execute_result",
          "data": {
            "text/plain": [
              "pandas.core.window.ewm.ExponentialMovingWindow"
            ]
          },
          "metadata": {},
          "execution_count": 59
        }
      ]
    },
    {
      "cell_type": "code",
      "source": [
        "df.plot()"
      ],
      "metadata": {
        "colab": {
          "base_uri": "https://localhost:8080/",
          "height": 296
        },
        "id": "k2GU56xXVxwj",
        "outputId": "9205d55b-c0b8-41f2-f13e-1cc3374d1be9"
      },
      "execution_count": null,
      "outputs": [
        {
          "output_type": "execute_result",
          "data": {
            "text/plain": [
              "<matplotlib.axes._subplots.AxesSubplot at 0x7f50dc3e3850>"
            ]
          },
          "metadata": {},
          "execution_count": 60
        },
        {
          "output_type": "display_data",
          "data": {
            "image/png": "[encoded data removed]",
            "text/plain": [
              "<Figure size 432x288 with 1 Axes>"
            ]
          },
          "metadata": {
            "needs_background": "light"
          }
        }
      ]
    },
    {
      "cell_type": "code",
      "source": [
        "# Doing manual ewma\n",
        "manual_ewma = []\n",
        "for x in df['Passengers'].to_numpy():\n",
        "  if len(manual_ewma) > 0:\n",
        "    xhat = alpha * x + (1 - alpha) * manual_ewma[-1]\n",
        "  else:\n",
        "    xhat = x\n",
        "  manual_ewma.append(xhat)\n",
        "df['Manual'] = manual_ewma"
      ],
      "metadata": {
        "id": "SbWE0zkaVzgO"
      },
      "execution_count": null,
      "outputs": []
    },
    {
      "cell_type": "code",
      "source": [
        "df.plot()"
      ],
      "metadata": {
        "colab": {
          "base_uri": "https://localhost:8080/",
          "height": 296
        },
        "id": "V1q53yfbWlD9",
        "outputId": "9e2f7521-a510-45e1-8251-78574668aad0"
      },
      "execution_count": null,
      "outputs": [
        {
          "output_type": "execute_result",
          "data": {
            "text/plain": [
              "<matplotlib.axes._subplots.AxesSubplot at 0x7f50dc2ee650>"
            ]
          },
          "metadata": {},
          "execution_count": 62
        },
        {
          "output_type": "display_data",
          "data": {
            "image/png": "[encoded data removed]",
            "text/plain": [
              "<Figure size 432x288 with 1 Axes>"
            ]
          },
          "metadata": {
            "needs_background": "light"
          }
        }
      ]
    },
    {
      "cell_type": "code",
      "source": [
        "df"
      ],
      "metadata": {
        "colab": {
          "base_uri": "https://localhost:8080/",
          "height": 455
        },
        "id": "b1I7JuSTWnfA",
        "outputId": "08c1d01b-f85b-4b7e-c603-a8a2ca5202a5"
      },
      "execution_count": null,
      "outputs": [
        {
          "output_type": "execute_result",
          "data": {
            "text/html": [
              "\n",
              "  <div id=\"df-8fbecc53-7d41-41fb-b853-bca9e3ac2401\">\n",
              "    <div class=\"colab-df-container\">\n",
              "      <div>\n",
              "<style scoped>\n",
              "    .dataframe tbody tr th:only-of-type {\n",
              "        vertical-align: middle;\n",
              "    }\n",
              "\n",
              "    .dataframe tbody tr th {\n",
              "        vertical-align: top;\n",
              "    }\n",
              "\n",
              "    .dataframe thead th {\n",
              "        text-align: right;\n",
              "    }\n",
              "</style>\n",
              "<table border=\"1\" class=\"dataframe\">\n",
              "  <thead>\n",
              "    <tr style=\"text-align: right;\">\n",
              "      <th></th>\n",
              "      <th>Passengers</th>\n",
              "      <th>EWMA</th>\n",
              "      <th>Manual</th>\n",
              "    </tr>\n",
              "    <tr>\n",
              "      <th>Month</th>\n",
              "      <th></th>\n",
              "      <th></th>\n",
              "      <th></th>\n",
              "    </tr>\n",
              "  </thead>\n",
              "  <tbody>\n",
              "    <tr>\n",
              "      <th>1949-01-01</th>\n",
              "      <td>112</td>\n",
              "      <td>112.000000</td>\n",
              "      <td>112.000000</td>\n",
              "    </tr>\n",
              "    <tr>\n",
              "      <th>1949-02-01</th>\n",
              "      <td>118</td>\n",
              "      <td>113.200000</td>\n",
              "      <td>113.200000</td>\n",
              "    </tr>\n",
              "    <tr>\n",
              "      <th>1949-03-01</th>\n",
              "      <td>132</td>\n",
              "      <td>116.960000</td>\n",
              "      <td>116.960000</td>\n",
              "    </tr>\n",
              "    <tr>\n",
              "      <th>1949-04-01</th>\n",
              "      <td>129</td>\n",
              "      <td>119.368000</td>\n",
              "      <td>119.368000</td>\n",
              "    </tr>\n",
              "    <tr>\n",
              "      <th>1949-05-01</th>\n",
              "      <td>121</td>\n",
              "      <td>119.694400</td>\n",
              "      <td>119.694400</td>\n",
              "    </tr>\n",
              "    <tr>\n",
              "      <th>...</th>\n",
              "      <td>...</td>\n",
              "      <td>...</td>\n",
              "      <td>...</td>\n",
              "    </tr>\n",
              "    <tr>\n",
              "      <th>1960-08-01</th>\n",
              "      <td>606</td>\n",
              "      <td>512.214093</td>\n",
              "      <td>512.214093</td>\n",
              "    </tr>\n",
              "    <tr>\n",
              "      <th>1960-09-01</th>\n",
              "      <td>508</td>\n",
              "      <td>511.371274</td>\n",
              "      <td>511.371274</td>\n",
              "    </tr>\n",
              "    <tr>\n",
              "      <th>1960-10-01</th>\n",
              "      <td>461</td>\n",
              "      <td>501.297019</td>\n",
              "      <td>501.297019</td>\n",
              "    </tr>\n",
              "    <tr>\n",
              "      <th>1960-11-01</th>\n",
              "      <td>390</td>\n",
              "      <td>479.037615</td>\n",
              "      <td>479.037615</td>\n",
              "    </tr>\n",
              "    <tr>\n",
              "      <th>1960-12-01</th>\n",
              "      <td>432</td>\n",
              "      <td>469.630092</td>\n",
              "      <td>469.630092</td>\n",
              "    </tr>\n",
              "  </tbody>\n",
              "</table>\n",
              "<p>144 rows × 3 columns</p>\n",
              "</div>\n",
              "      <button class=\"colab-df-convert\" onclick=\"convertToInteractive('df-8fbecc53-7d41-41fb-b853-bca9e3ac2401')\"\n",
              "              title=\"Convert this dataframe to an interactive table.\"\n",
              "              style=\"display:none;\">\n",
              "        \n",
              "  <svg xmlns=\"http://www.w3.org/2000/svg\" height=\"24px\"viewBox=\"0 0 24 24\"\n",
              "       width=\"24px\">\n",
              "    <path d=\"M0 0h24v24H0V0z\" fill=\"none\"/>\n",
              "    <path d=\"M18.56 5.44l.94 2.06.94-2.06 2.06-.94-2.06-.94-.94-2.06-.94 2.06-2.06.94zm-11 1L8.5 8.5l.94-2.06 2.06-.94-2.06-.94L8.5 2.5l-.94 2.06-2.06.94zm10 10l.94 2.06.94-2.06 2.06-.94-2.06-.94-.94-2.06-.94 2.06-2.06.94z\"/><path d=\"M17.41 7.96l-1.37-1.37c-.4-.4-.92-.59-1.43-.59-.52 0-1.04.2-1.43.59L10.3 9.45l-7.72 7.72c-.78.78-.78 2.05 0 2.83L4 21.41c.39.39.9.59 1.41.59.51 0 1.02-.2 1.41-.59l7.78-7.78 2.81-2.81c.8-.78.8-2.07 0-2.86zM5.41 20L4 18.59l7.72-7.72 1.47 1.35L5.41 20z\"/>\n",
              "  </svg>\n",
              "      </button>\n",
              "      \n",
              "  <style>\n",
              "    .colab-df-container {\n",
              "      display:flex;\n",
              "      flex-wrap:wrap;\n",
              "      gap: 12px;\n",
              "    }\n",
              "\n",
              "    .colab-df-convert {\n",
              "      background-color: #E8F0FE;\n",
              "      border: none;\n",
              "      border-radius: 50%;\n",
              "      cursor: pointer;\n",
              "      display: none;\n",
              "      fill: #1967D2;\n",
              "      height: 32px;\n",
              "      padding: 0 0 0 0;\n",
              "      width: 32px;\n",
              "    }\n",
              "\n",
              "    .colab-df-convert:hover {\n",
              "      background-color: #E2EBFA;\n",
              "      box-shadow: 0px 1px 2px rgba(60, 64, 67, 0.3), 0px 1px 3px 1px rgba(60, 64, 67, 0.15);\n",
              "      fill: #174EA6;\n",
              "    }\n",
              "\n",
              "    [theme=dark] .colab-df-convert {\n",
              "      background-color: #3B4455;\n",
              "      fill: #D2E3FC;\n",
              "    }\n",
              "\n",
              "    [theme=dark] .colab-df-convert:hover {\n",
              "      background-color: #434B5C;\n",
              "      box-shadow: 0px 1px 3px 1px rgba(0, 0, 0, 0.15);\n",
              "      filter: drop-shadow(0px 1px 2px rgba(0, 0, 0, 0.3));\n",
              "      fill: #FFFFFF;\n",
              "    }\n",
              "  </style>\n",
              "\n",
              "      <script>\n",
              "        const buttonEl =\n",
              "          document.querySelector('#df-8fbecc53-7d41-41fb-b853-bca9e3ac2401 button.colab-df-convert');\n",
              "        buttonEl.style.display =\n",
              "          google.colab.kernel.accessAllowed ? 'block' : 'none';\n",
              "\n",
              "        async function convertToInteractive(key) {\n",
              "          const element = document.querySelector('#df-8fbecc53-7d41-41fb-b853-bca9e3ac2401');\n",
              "          const dataTable =\n",
              "            await google.colab.kernel.invokeFunction('convertToInteractive',\n",
              "                                                     [key], {});\n",
              "          if (!dataTable) return;\n",
              "\n",
              "          const docLinkHtml = 'Like what you see? Visit the ' +\n",
              "            '<a target=\"_blank\" href=https://colab.research.google.com/notebooks/data_table.ipynb>data table notebook</a>'\n",
              "            + ' to learn more about interactive tables.';\n",
              "          element.innerHTML = '';\n",
              "          dataTable['output_type'] = 'display_data';\n",
              "          await google.colab.output.renderOutput(dataTable, element);\n",
              "          const docLink = document.createElement('div');\n",
              "          docLink.innerHTML = docLinkHtml;\n",
              "          element.appendChild(docLink);\n",
              "        }\n",
              "      </script>\n",
              "    </div>\n",
              "  </div>\n",
              "  "
            ],
            "text/plain": [
              "            Passengers        EWMA      Manual\n",
              "Month                                         \n",
              "1949-01-01         112  112.000000  112.000000\n",
              "1949-02-01         118  113.200000  113.200000\n",
              "1949-03-01         132  116.960000  116.960000\n",
              "1949-04-01         129  119.368000  119.368000\n",
              "1949-05-01         121  119.694400  119.694400\n",
              "...                ...         ...         ...\n",
              "1960-08-01         606  512.214093  512.214093\n",
              "1960-09-01         508  511.371274  511.371274\n",
              "1960-10-01         461  501.297019  501.297019\n",
              "1960-11-01         390  479.037615  479.037615\n",
              "1960-12-01         432  469.630092  469.630092\n",
              "\n",
              "[144 rows x 3 columns]"
            ]
          },
          "metadata": {},
          "execution_count": 63
        }
      ]
    },
    {
      "cell_type": "code",
      "source": [
        "df.drop(['Manual'], axis=1, inplace=True)"
      ],
      "metadata": {
        "id": "irRkAYJEb2gr"
      },
      "execution_count": null,
      "outputs": []
    },
    {
      "cell_type": "markdown",
      "source": [
        "## Simple Exponential Smoothing\n",
        "\n"
      ],
      "metadata": {
        "id": "y6lin2j8adGy"
      }
    },
    {
      "cell_type": "code",
      "source": [
        "!pip install -U statsmodels"
      ],
      "metadata": {
        "colab": {
          "base_uri": "https://localhost:8080/"
        },
        "id": "R1SXVs8Lce8h",
        "outputId": "ef80d04e-56ea-4bed-f6b5-055b4f90de41"
      },
      "execution_count": null,
      "outputs": [
        {
          "output_type": "stream",
          "name": "stdout",
          "text": [
            "Requirement already satisfied: statsmodels in /usr/local/lib/python3.7/dist-packages (0.13.1)\n",
            "Requirement already satisfied: pandas>=0.25 in /usr/local/lib/python3.7/dist-packages (from statsmodels) (1.3.5)\n",
            "Requirement already satisfied: scipy>=1.3 in /usr/local/lib/python3.7/dist-packages (from statsmodels) (1.4.1)\n",
            "Requirement already satisfied: numpy>=1.17 in /usr/local/lib/python3.7/dist-packages (from statsmodels) (1.19.5)\n",
            "Requirement already satisfied: patsy>=0.5.2 in /usr/local/lib/python3.7/dist-packages (from statsmodels) (0.5.2)\n",
            "Requirement already satisfied: pytz>=2017.3 in /usr/local/lib/python3.7/dist-packages (from pandas>=0.25->statsmodels) (2018.9)\n",
            "Requirement already satisfied: python-dateutil>=2.7.3 in /usr/local/lib/python3.7/dist-packages (from pandas>=0.25->statsmodels) (2.8.2)\n",
            "Requirement already satisfied: six in /usr/local/lib/python3.7/dist-packages (from patsy>=0.5.2->statsmodels) (1.15.0)\n"
          ]
        }
      ]
    },
    {
      "cell_type": "code",
      "source": [
        "# import models\n",
        "from statsmodels.tsa.holtwinters import SimpleExpSmoothing"
      ],
      "metadata": {
        "id": "NfHOAbWqW4uH"
      },
      "execution_count": null,
      "outputs": []
    },
    {
      "cell_type": "code",
      "source": [
        "# make the model - data is univariate (satu variabel)\n",
        "ses = SimpleExpSmoothing(df['Passengers'])"
      ],
      "metadata": {
        "colab": {
          "base_uri": "https://localhost:8080/"
        },
        "id": "XOTGub26YF5b",
        "outputId": "91a4bf56-ebd8-4b52-c26c-612d492c64c3"
      },
      "execution_count": null,
      "outputs": [
        {
          "output_type": "stream",
          "name": "stderr",
          "text": [
            "/usr/local/lib/python3.7/dist-packages/statsmodels/tsa/base/tsa_model.py:539: ValueWarning: No frequency information was provided, so inferred frequency MS will be used.\n",
            "  % freq, ValueWarning)\n"
          ]
        }
      ]
    },
    {
      "cell_type": "markdown",
      "source": [
        "Notice that we get a warning which says no frequency information was provided, so inferred frequency `MS` will be used.\n",
        "\n",
        "The reason for this is when we load it in our data frame, Pandas didn't automatically assign a frequency to the index.\n",
        "\n",
        "Also, notice this second warning, which says after zero 13` initialization must be handled their model creation.`\n",
        "\n",
        "So basically this controls how you determine the first value of the moving average in previous versions of Stats models. This was chosen automatically."
      ],
      "metadata": {
        "id": "B0EtKuNs8QUD"
      }
    },
    {
      "cell_type": "code",
      "source": [
        "df.index"
      ],
      "metadata": {
        "colab": {
          "base_uri": "https://localhost:8080/"
        },
        "id": "CgZlyi9fYJoJ",
        "outputId": "65293a04-25ec-45a0-c69e-90c74773ce9f"
      },
      "execution_count": null,
      "outputs": [
        {
          "output_type": "execute_result",
          "data": {
            "text/plain": [
              "DatetimeIndex(['1949-01-01', '1949-02-01', '1949-03-01', '1949-04-01',\n",
              "               '1949-05-01', '1949-06-01', '1949-07-01', '1949-08-01',\n",
              "               '1949-09-01', '1949-10-01',\n",
              "               ...\n",
              "               '1960-03-01', '1960-04-01', '1960-05-01', '1960-06-01',\n",
              "               '1960-07-01', '1960-08-01', '1960-09-01', '1960-10-01',\n",
              "               '1960-11-01', '1960-12-01'],\n",
              "              dtype='datetime64[ns]', name='Month', length=144, freq=None)"
            ]
          },
          "metadata": {},
          "execution_count": 68
        }
      ]
    },
    {
      "cell_type": "code",
      "source": [
        "# based on warning which says no frequency information was provided\n",
        "# so we inferred frequency `MS` will be used.\n",
        "df.index.freq = 'MS'\n",
        "\n",
        "# month start frequency"
      ],
      "metadata": {
        "id": "NY6shUKPYLC9"
      },
      "execution_count": null,
      "outputs": []
    },
    {
      "cell_type": "code",
      "source": [
        "# set initialization method to legacy heuristic.\n",
        "ses = SimpleExpSmoothing(\n",
        "    df['Passengers'],\n",
        "    initialization_method='legacy-heuristic' #“legacy-heuristic” uses the same values that were used in statsmodels 0.11 and earlier.\n",
        ")"
      ],
      "metadata": {
        "id": "f2xgDdjUeH8G"
      },
      "execution_count": null,
      "outputs": []
    },
    {
      "cell_type": "code",
      "source": [
        "# fit the model\n",
        "res = ses.fit(smoothing_level=alpha, optimized=False) "
      ],
      "metadata": {
        "id": "-vs_LBdXe9e2"
      },
      "execution_count": null,
      "outputs": []
    },
    {
      "cell_type": "code",
      "source": [
        "res"
      ],
      "metadata": {
        "colab": {
          "base_uri": "https://localhost:8080/"
        },
        "id": "eKxZem8gfD6R",
        "outputId": "4e77a355-c7b3-4658-9a88-0c14b62a7a82"
      },
      "execution_count": null,
      "outputs": [
        {
          "output_type": "execute_result",
          "data": {
            "text/plain": [
              "<statsmodels.tsa.holtwinters.results.HoltWintersResultsWrapper at 0x7f50dc22c250>"
            ]
          },
          "metadata": {},
          "execution_count": 72
        }
      ]
    },
    {
      "cell_type": "code",
      "source": [
        "# in sample predictions or our of sample forecast\n",
        "res.predict(start=df.index[0], end=df.index[-1])"
      ],
      "metadata": {
        "colab": {
          "base_uri": "https://localhost:8080/"
        },
        "id": "gdr_KK19fEKV",
        "outputId": "3afe671f-ecf9-4bb8-a8d7-3ea52d6b8612"
      },
      "execution_count": null,
      "outputs": [
        {
          "output_type": "execute_result",
          "data": {
            "text/plain": [
              "Month\n",
              "1949-01-01    112.000000\n",
              "1949-02-01    112.000000\n",
              "1949-03-01    113.200000\n",
              "1949-04-01    116.960000\n",
              "1949-05-01    119.368000\n",
              "                 ...    \n",
              "1960-08-01    488.767616\n",
              "1960-09-01    512.214093\n",
              "1960-10-01    511.371274\n",
              "1960-11-01    501.297019\n",
              "1960-12-01    479.037615\n",
              "Freq: MS, Length: 144, dtype: float64"
            ]
          },
          "metadata": {},
          "execution_count": 73
        }
      ]
    },
    {
      "cell_type": "code",
      "source": [
        "# in sample predictions or our of sample forecast\n",
        "\n",
        "df['SES'] = res.predict(start=df.index[0], end=df.index[-1])"
      ],
      "metadata": {
        "id": "Pai3irQofcq_"
      },
      "execution_count": null,
      "outputs": []
    },
    {
      "cell_type": "code",
      "source": [
        "# get all in-sample predictions\n",
        "np.allclose(df['SES'], res.fittedvalues)"
      ],
      "metadata": {
        "colab": {
          "base_uri": "https://localhost:8080/"
        },
        "id": "OUJbuDEufkEz",
        "outputId": "c255e97a-5352-4257-c40d-b9b1be870bff"
      },
      "execution_count": null,
      "outputs": [
        {
          "output_type": "execute_result",
          "data": {
            "text/plain": [
              "True"
            ]
          },
          "metadata": {},
          "execution_count": 75
        }
      ]
    },
    {
      "cell_type": "code",
      "source": [
        "df.plot()"
      ],
      "metadata": {
        "colab": {
          "base_uri": "https://localhost:8080/",
          "height": 296
        },
        "id": "kfJZdUyDfnAI",
        "outputId": "d6302b35-bf60-4262-fbd9-6e8c8261e206"
      },
      "execution_count": null,
      "outputs": [
        {
          "output_type": "execute_result",
          "data": {
            "text/plain": [
              "<matplotlib.axes._subplots.AxesSubplot at 0x7f50dc28e690>"
            ]
          },
          "metadata": {},
          "execution_count": 76
        },
        {
          "output_type": "display_data",
          "data": {
            "image/png": "[encoded data removed]",
            "text/plain": [
              "<Figure size 432x288 with 1 Axes>"
            ]
          },
          "metadata": {
            "needs_background": "light"
          }
        }
      ]
    },
    {
      "cell_type": "code",
      "source": [
        "df"
      ],
      "metadata": {
        "colab": {
          "base_uri": "https://localhost:8080/",
          "height": 455
        },
        "id": "QO5rDDQIfnu-",
        "outputId": "16db2279-a320-494f-e396-5547b55d0d63"
      },
      "execution_count": null,
      "outputs": [
        {
          "output_type": "execute_result",
          "data": {
            "text/html": [
              "\n",
              "  <div id=\"df-ed430201-6cf4-41df-a102-5a308f32db49\">\n",
              "    <div class=\"colab-df-container\">\n",
              "      <div>\n",
              "<style scoped>\n",
              "    .dataframe tbody tr th:only-of-type {\n",
              "        vertical-align: middle;\n",
              "    }\n",
              "\n",
              "    .dataframe tbody tr th {\n",
              "        vertical-align: top;\n",
              "    }\n",
              "\n",
              "    .dataframe thead th {\n",
              "        text-align: right;\n",
              "    }\n",
              "</style>\n",
              "<table border=\"1\" class=\"dataframe\">\n",
              "  <thead>\n",
              "    <tr style=\"text-align: right;\">\n",
              "      <th></th>\n",
              "      <th>Passengers</th>\n",
              "      <th>EWMA</th>\n",
              "      <th>SES</th>\n",
              "    </tr>\n",
              "    <tr>\n",
              "      <th>Month</th>\n",
              "      <th></th>\n",
              "      <th></th>\n",
              "      <th></th>\n",
              "    </tr>\n",
              "  </thead>\n",
              "  <tbody>\n",
              "    <tr>\n",
              "      <th>1949-01-01</th>\n",
              "      <td>112</td>\n",
              "      <td>112.000000</td>\n",
              "      <td>112.000000</td>\n",
              "    </tr>\n",
              "    <tr>\n",
              "      <th>1949-02-01</th>\n",
              "      <td>118</td>\n",
              "      <td>113.200000</td>\n",
              "      <td>112.000000</td>\n",
              "    </tr>\n",
              "    <tr>\n",
              "      <th>1949-03-01</th>\n",
              "      <td>132</td>\n",
              "      <td>116.960000</td>\n",
              "      <td>113.200000</td>\n",
              "    </tr>\n",
              "    <tr>\n",
              "      <th>1949-04-01</th>\n",
              "      <td>129</td>\n",
              "      <td>119.368000</td>\n",
              "      <td>116.960000</td>\n",
              "    </tr>\n",
              "    <tr>\n",
              "      <th>1949-05-01</th>\n",
              "      <td>121</td>\n",
              "      <td>119.694400</td>\n",
              "      <td>119.368000</td>\n",
              "    </tr>\n",
              "    <tr>\n",
              "      <th>...</th>\n",
              "      <td>...</td>\n",
              "      <td>...</td>\n",
              "      <td>...</td>\n",
              "    </tr>\n",
              "    <tr>\n",
              "      <th>1960-08-01</th>\n",
              "      <td>606</td>\n",
              "      <td>512.214093</td>\n",
              "      <td>488.767616</td>\n",
              "    </tr>\n",
              "    <tr>\n",
              "      <th>1960-09-01</th>\n",
              "      <td>508</td>\n",
              "      <td>511.371274</td>\n",
              "      <td>512.214093</td>\n",
              "    </tr>\n",
              "    <tr>\n",
              "      <th>1960-10-01</th>\n",
              "      <td>461</td>\n",
              "      <td>501.297019</td>\n",
              "      <td>511.371274</td>\n",
              "    </tr>\n",
              "    <tr>\n",
              "      <th>1960-11-01</th>\n",
              "      <td>390</td>\n",
              "      <td>479.037615</td>\n",
              "      <td>501.297019</td>\n",
              "    </tr>\n",
              "    <tr>\n",
              "      <th>1960-12-01</th>\n",
              "      <td>432</td>\n",
              "      <td>469.630092</td>\n",
              "      <td>479.037615</td>\n",
              "    </tr>\n",
              "  </tbody>\n",
              "</table>\n",
              "<p>144 rows × 3 columns</p>\n",
              "</div>\n",
              "      <button class=\"colab-df-convert\" onclick=\"convertToInteractive('df-ed430201-6cf4-41df-a102-5a308f32db49')\"\n",
              "              title=\"Convert this dataframe to an interactive table.\"\n",
              "              style=\"display:none;\">\n",
              "        \n",
              "  <svg xmlns=\"http://www.w3.org/2000/svg\" height=\"24px\"viewBox=\"0 0 24 24\"\n",
              "       width=\"24px\">\n",
              "    <path d=\"M0 0h24v24H0V0z\" fill=\"none\"/>\n",
              "    <path d=\"M18.56 5.44l.94 2.06.94-2.06 2.06-.94-2.06-.94-.94-2.06-.94 2.06-2.06.94zm-11 1L8.5 8.5l.94-2.06 2.06-.94-2.06-.94L8.5 2.5l-.94 2.06-2.06.94zm10 10l.94 2.06.94-2.06 2.06-.94-2.06-.94-.94-2.06-.94 2.06-2.06.94z\"/><path d=\"M17.41 7.96l-1.37-1.37c-.4-.4-.92-.59-1.43-.59-.52 0-1.04.2-1.43.59L10.3 9.45l-7.72 7.72c-.78.78-.78 2.05 0 2.83L4 21.41c.39.39.9.59 1.41.59.51 0 1.02-.2 1.41-.59l7.78-7.78 2.81-2.81c.8-.78.8-2.07 0-2.86zM5.41 20L4 18.59l7.72-7.72 1.47 1.35L5.41 20z\"/>\n",
              "  </svg>\n",
              "      </button>\n",
              "      \n",
              "  <style>\n",
              "    .colab-df-container {\n",
              "      display:flex;\n",
              "      flex-wrap:wrap;\n",
              "      gap: 12px;\n",
              "    }\n",
              "\n",
              "    .colab-df-convert {\n",
              "      background-color: #E8F0FE;\n",
              "      border: none;\n",
              "      border-radius: 50%;\n",
              "      cursor: pointer;\n",
              "      display: none;\n",
              "      fill: #1967D2;\n",
              "      height: 32px;\n",
              "      padding: 0 0 0 0;\n",
              "      width: 32px;\n",
              "    }\n",
              "\n",
              "    .colab-df-convert:hover {\n",
              "      background-color: #E2EBFA;\n",
              "      box-shadow: 0px 1px 2px rgba(60, 64, 67, 0.3), 0px 1px 3px 1px rgba(60, 64, 67, 0.15);\n",
              "      fill: #174EA6;\n",
              "    }\n",
              "\n",
              "    [theme=dark] .colab-df-convert {\n",
              "      background-color: #3B4455;\n",
              "      fill: #D2E3FC;\n",
              "    }\n",
              "\n",
              "    [theme=dark] .colab-df-convert:hover {\n",
              "      background-color: #434B5C;\n",
              "      box-shadow: 0px 1px 3px 1px rgba(0, 0, 0, 0.15);\n",
              "      filter: drop-shadow(0px 1px 2px rgba(0, 0, 0, 0.3));\n",
              "      fill: #FFFFFF;\n",
              "    }\n",
              "  </style>\n",
              "\n",
              "      <script>\n",
              "        const buttonEl =\n",
              "          document.querySelector('#df-ed430201-6cf4-41df-a102-5a308f32db49 button.colab-df-convert');\n",
              "        buttonEl.style.display =\n",
              "          google.colab.kernel.accessAllowed ? 'block' : 'none';\n",
              "\n",
              "        async function convertToInteractive(key) {\n",
              "          const element = document.querySelector('#df-ed430201-6cf4-41df-a102-5a308f32db49');\n",
              "          const dataTable =\n",
              "            await google.colab.kernel.invokeFunction('convertToInteractive',\n",
              "                                                     [key], {});\n",
              "          if (!dataTable) return;\n",
              "\n",
              "          const docLinkHtml = 'Like what you see? Visit the ' +\n",
              "            '<a target=\"_blank\" href=https://colab.research.google.com/notebooks/data_table.ipynb>data table notebook</a>'\n",
              "            + ' to learn more about interactive tables.';\n",
              "          element.innerHTML = '';\n",
              "          dataTable['output_type'] = 'display_data';\n",
              "          await google.colab.output.renderOutput(dataTable, element);\n",
              "          const docLink = document.createElement('div');\n",
              "          docLink.innerHTML = docLinkHtml;\n",
              "          element.appendChild(docLink);\n",
              "        }\n",
              "      </script>\n",
              "    </div>\n",
              "  </div>\n",
              "  "
            ],
            "text/plain": [
              "            Passengers        EWMA         SES\n",
              "Month                                         \n",
              "1949-01-01         112  112.000000  112.000000\n",
              "1949-02-01         118  113.200000  112.000000\n",
              "1949-03-01         132  116.960000  113.200000\n",
              "1949-04-01         129  119.368000  116.960000\n",
              "1949-05-01         121  119.694400  119.368000\n",
              "...                ...         ...         ...\n",
              "1960-08-01         606  512.214093  488.767616\n",
              "1960-09-01         508  511.371274  512.214093\n",
              "1960-10-01         461  501.297019  511.371274\n",
              "1960-11-01         390  479.037615  501.297019\n",
              "1960-12-01         432  469.630092  479.037615\n",
              "\n",
              "[144 rows x 3 columns]"
            ]
          },
          "metadata": {},
          "execution_count": 77
        }
      ]
    },
    {
      "cell_type": "code",
      "source": [
        "df['SES-1'] = df['SES'].shift(-1)"
      ],
      "metadata": {
        "id": "jGfFzHaofoZ8"
      },
      "execution_count": null,
      "outputs": []
    },
    {
      "cell_type": "code",
      "source": [
        "# NO!, dont do thiss, this is just example, and this is wrong\n",
        "df[['Passengers', 'EWMA', 'SES-1']].plot()"
      ],
      "metadata": {
        "colab": {
          "base_uri": "https://localhost:8080/",
          "height": 296
        },
        "id": "uSoqcABvf62Y",
        "outputId": "575ed33e-8cb5-43e5-bfcd-ed186bd9a928"
      },
      "execution_count": null,
      "outputs": [
        {
          "output_type": "execute_result",
          "data": {
            "text/plain": [
              "<matplotlib.axes._subplots.AxesSubplot at 0x7f50dc1c4a90>"
            ]
          },
          "metadata": {},
          "execution_count": 79
        },
        {
          "output_type": "display_data",
          "data": {
            "image/png": "[encoded data removed]",
            "text/plain": [
              "<Figure size 432x288 with 1 Axes>"
            ]
          },
          "metadata": {
            "needs_background": "light"
          }
        }
      ]
    },
    {
      "cell_type": "markdown",
      "source": [
        "**So why is this wrong?**\n",
        "\n",
        "Recall that the forecasting model is defined as slightly differently from the traditional EWM.\n",
        "\n",
        "As you recall from the theory lecture, the forecasting time index is actually moved up by one step.\n",
        "\n",
        "That EWM is represented by the level.\n",
        "\n",
        "But the prediction why hat is actually assigns the level at the previous time step.\n",
        "\n",
        "In other words, the SES model should be lagging behind by one time step.\n",
        "\n",
        "So what we had plotted originally was correct.\n",
        "\n",
        "You'll see in our later examples why this is true.\n",
        "\n",
        "Remember that if we shift this, then we have to shift everything.\n",
        "\n",
        "But you'll see that with whole winters', the full model, there is no need for shifting because it's actually the correct model and it will match up very nicely.\n",
        "\n",
        "If we shift this, then we have to shift that to be consistent and you'll see that would be completely wrong.\n",
        "\n"
      ],
      "metadata": {
        "id": "c4XPgjapDjjV"
      }
    },
    {
      "cell_type": "code",
      "source": [
        "# We're gonna treat this like machine learning\n",
        "\n",
        "N_test = 12\n",
        "train = df.iloc[:-N_test]\n",
        "test = df.iloc[-N_test:]"
      ],
      "metadata": {
        "id": "Ig2YCXj0f_vY"
      },
      "execution_count": null,
      "outputs": []
    },
    {
      "cell_type": "code",
      "source": [
        "train.head(), train.shape"
      ],
      "metadata": {
        "colab": {
          "base_uri": "https://localhost:8080/"
        },
        "id": "tqYcpqWfEVfq",
        "outputId": "3eecd66c-5b64-4adb-985d-6aad1216c489"
      },
      "execution_count": null,
      "outputs": [
        {
          "output_type": "execute_result",
          "data": {
            "text/plain": [
              "(            Passengers      EWMA      SES     SES-1\n",
              " Month                                              \n",
              " 1949-01-01         112  112.0000  112.000  112.0000\n",
              " 1949-02-01         118  113.2000  112.000  113.2000\n",
              " 1949-03-01         132  116.9600  113.200  116.9600\n",
              " 1949-04-01         129  119.3680  116.960  119.3680\n",
              " 1949-05-01         121  119.6944  119.368  119.6944, (132, 4))"
            ]
          },
          "metadata": {},
          "execution_count": 81
        }
      ]
    },
    {
      "cell_type": "code",
      "source": [
        "test.head(), test.shape"
      ],
      "metadata": {
        "colab": {
          "base_uri": "https://localhost:8080/"
        },
        "id": "cQA-a2SHEcZu",
        "outputId": "5e77eda8-9412-4bb3-b65a-30b0fd4e8819"
      },
      "execution_count": null,
      "outputs": [
        {
          "output_type": "execute_result",
          "data": {
            "text/plain": [
              "(            Passengers        EWMA         SES       SES-1\n",
              " Month                                                     \n",
              " 1960-01-01         417  424.179686  425.974608  424.179686\n",
              " 1960-02-01         391  417.543749  424.179686  417.543749\n",
              " 1960-03-01         419  417.834999  417.543749  417.834999\n",
              " 1960-04-01         461  426.467999  417.834999  426.467999\n",
              " 1960-05-01         472  435.574399  426.467999  435.574399, (12, 4))"
            ]
          },
          "metadata": {},
          "execution_count": 82
        }
      ]
    },
    {
      "cell_type": "code",
      "source": [
        "ses = SimpleExpSmoothing(\n",
        "    train['Passengers'],\n",
        "    initialization_method='legacy-heuristic')\n",
        "res = ses.fit()"
      ],
      "metadata": {
        "id": "Pge-yZEHgaGq"
      },
      "execution_count": null,
      "outputs": []
    },
    {
      "cell_type": "markdown",
      "source": [
        "The next step is to create indices which we can use to index our data frame.\n",
        "\n",
        "We need this if we want to index only the train points or only the test points one at a time.\n",
        "\n",
        "So to do this, we're basically going to create a one, array, of booleans.\n",
        "\n",
        "It's going to be true for the rows, which corresponds to the correct data set, whether that's train or test.\n"
      ],
      "metadata": {
        "id": "s0j_Bl4uE2lH"
      }
    },
    {
      "cell_type": "code",
      "source": [
        "# boolean series to index df rows\n",
        "train_idx = df.index <= train.index[-1]\n",
        "test_idx = df.index > train.index[-1]"
      ],
      "metadata": {
        "id": "vKI83Eo9gjmY"
      },
      "execution_count": null,
      "outputs": []
    },
    {
      "cell_type": "markdown",
      "source": [
        "So for the trains that we do, df dot index less than or equal to that train of minus one.\n",
        "\n",
        "That is to say, any row where the index is less than or equal to the last training point belongs to the train.\n",
        "\n",
        "So of course, this makes sense since the data set has been split in chronological order.\n",
        "\n",
        "And using that, we know that the test index is just the opposite.\n",
        "\n",
        "So we use greater then instead of less than or equal to."
      ],
      "metadata": {
        "id": "esDqtFCKFYRm"
      }
    },
    {
      "cell_type": "code",
      "source": [
        "df.loc[train_idx, 'SESfitted'] = res.fittedvalues #fitted values for data train\n",
        "df.loc[test_idx, 'SESfitted'] = res.forecast(N_test) #forecast for data test\n",
        "df[['Passengers', 'SESfitted']].plot()"
      ],
      "metadata": {
        "colab": {
          "base_uri": "https://localhost:8080/",
          "height": 296
        },
        "id": "GhnKgcCJgsxs",
        "outputId": "02beafd6-dd5e-4c96-f96b-1b6bd576ba15"
      },
      "execution_count": null,
      "outputs": [
        {
          "output_type": "execute_result",
          "data": {
            "text/plain": [
              "<matplotlib.axes._subplots.AxesSubplot at 0x7f50dc14c2d0>"
            ]
          },
          "metadata": {},
          "execution_count": 85
        },
        {
          "output_type": "display_data",
          "data": {
            "image/png": "[encoded data removed]",
            "text/plain": [
              "<Figure size 432x288 with 1 Axes>"
            ]
          },
          "metadata": {
            "needs_background": "light"
          }
        }
      ]
    },
    {
      "cell_type": "code",
      "source": [
        "res.params"
      ],
      "metadata": {
        "colab": {
          "base_uri": "https://localhost:8080/"
        },
        "id": "HTzLMB2Ag-m5",
        "outputId": "d61e094e-a53b-4bca-f249-14316a8eeb2a"
      },
      "execution_count": null,
      "outputs": [
        {
          "output_type": "execute_result",
          "data": {
            "text/plain": [
              "{'damping_trend': nan,\n",
              " 'initial_level': 112.0,\n",
              " 'initial_seasons': array([], dtype=float64),\n",
              " 'initial_trend': nan,\n",
              " 'lamda': None,\n",
              " 'remove_bias': False,\n",
              " 'smoothing_level': 0.995,\n",
              " 'smoothing_seasonal': nan,\n",
              " 'smoothing_trend': nan,\n",
              " 'use_boxcox': False}"
            ]
          },
          "metadata": {},
          "execution_count": 86
        }
      ]
    },
    {
      "cell_type": "markdown",
      "source": [
        "As you can see, the result is, in fact, very nearly one **(smoothing level)**, that means our fit and model is simply doing nearly the night forecast, or in other words, it simply copies the last known value in the series.\n"
      ],
      "metadata": {
        "id": "wtYBnHSHGHus"
      }
    },
    {
      "cell_type": "markdown",
      "source": [
        "## Holt Linear Trend Models\n",
        "\n",
        "Holt Linear Trend Models aka Double Exponential Smoothing"
      ],
      "metadata": {
        "id": "VYULDpH80jqy"
      }
    },
    {
      "cell_type": "code",
      "source": [
        "from statsmodels.tsa.holtwinters import Holt"
      ],
      "metadata": {
        "id": "5KdJu7PghX_m"
      },
      "execution_count": null,
      "outputs": []
    },
    {
      "cell_type": "code",
      "source": [
        "# Make the models\n",
        "holt = Holt(\n",
        "    df['Passengers'],\n",
        "    initialization_method ='legacy-heuristic'\n",
        ")"
      ],
      "metadata": {
        "id": "Zl2uQRAPyzmf"
      },
      "execution_count": null,
      "outputs": []
    },
    {
      "cell_type": "code",
      "source": [
        "# fit the models\n",
        "res_h = holt.fit()"
      ],
      "metadata": {
        "id": "07lI6cmCy7KA"
      },
      "execution_count": null,
      "outputs": []
    },
    {
      "cell_type": "code",
      "source": [
        "# in-sample prediction or out-of-sample-forecast\n",
        "df['Holt'] = res_h.fittedvalues"
      ],
      "metadata": {
        "id": "-SEqujQDzB7H"
      },
      "execution_count": null,
      "outputs": []
    },
    {
      "cell_type": "code",
      "source": [
        "df[['Passengers', 'Holt']].plot()"
      ],
      "metadata": {
        "colab": {
          "base_uri": "https://localhost:8080/",
          "height": 296
        },
        "id": "NpDFc-90zEh8",
        "outputId": "724cee29-08a2-465e-8162-374e0b37d8dc"
      },
      "execution_count": null,
      "outputs": [
        {
          "output_type": "execute_result",
          "data": {
            "text/plain": [
              "<matplotlib.axes._subplots.AxesSubplot at 0x7f50dc0e9910>"
            ]
          },
          "metadata": {},
          "execution_count": 91
        },
        {
          "output_type": "display_data",
          "data": {
            "image/png": "[encoded data removed]",
            "text/plain": [
              "<Figure size 432x288 with 1 Axes>"
            ]
          },
          "metadata": {
            "needs_background": "light"
          }
        }
      ]
    },
    {
      "cell_type": "code",
      "source": [
        "# NO!, DONT DO THIS\n",
        "df['Holt-1'] = df['Holt'].shift(-1)\n",
        "df[['Passengers', 'Holt-1']].plot()"
      ],
      "metadata": {
        "colab": {
          "base_uri": "https://localhost:8080/",
          "height": 296
        },
        "id": "rclgxo9rzIcZ",
        "outputId": "8d11aa16-b64e-4444-c48d-0532118ff3b5"
      },
      "execution_count": null,
      "outputs": [
        {
          "output_type": "execute_result",
          "data": {
            "text/plain": [
              "<matplotlib.axes._subplots.AxesSubplot at 0x7f50dc541190>"
            ]
          },
          "metadata": {},
          "execution_count": 92
        },
        {
          "output_type": "display_data",
          "data": {
            "image/png": "[encoded data removed]",
            "text/plain": [
              "<Figure size 432x288 with 1 Axes>"
            ]
          },
          "metadata": {
            "needs_background": "light"
          }
        }
      ]
    },
    {
      "cell_type": "code",
      "source": [
        "holt = Holt(\n",
        "    train['Passengers'], \n",
        "    initialization_method='legacy-heuristic')\n",
        "res_h = holt.fit()\n",
        "df.loc[train_idx, 'Holt'] = res_h.fittedvalues"
      ],
      "metadata": {
        "id": "ZqysWcjazYKN"
      },
      "execution_count": null,
      "outputs": []
    },
    {
      "cell_type": "code",
      "source": [
        "df.loc[test_idx, 'Holt'] = res_h.forecast(N_test)"
      ],
      "metadata": {
        "id": "C6tARIXDz0dv"
      },
      "execution_count": null,
      "outputs": []
    },
    {
      "cell_type": "code",
      "source": [
        "df[['Passengers', 'Holt']].plot()"
      ],
      "metadata": {
        "colab": {
          "base_uri": "https://localhost:8080/",
          "height": 296
        },
        "id": "4PY0V3-uz6dj",
        "outputId": "a359ac97-b242-4399-a4c7-6c374aaa5a93"
      },
      "execution_count": null,
      "outputs": [
        {
          "output_type": "execute_result",
          "data": {
            "text/plain": [
              "<matplotlib.axes._subplots.AxesSubplot at 0x7f50dc56c990>"
            ]
          },
          "metadata": {},
          "execution_count": 95
        },
        {
          "output_type": "display_data",
          "data": {
            "image/png": "[encoded data removed]",
            "text/plain": [
              "<Figure size 432x288 with 1 Axes>"
            ]
          },
          "metadata": {
            "needs_background": "light"
          }
        }
      ]
    },
    {
      "cell_type": "markdown",
      "source": [
        "## Holt Winters"
      ],
      "metadata": {
        "id": "E-7xJiFf1L_6"
      }
    },
    {
      "cell_type": "code",
      "source": [
        "from statsmodels.tsa.holtwinters import ExponentialSmoothing"
      ],
      "metadata": {
        "id": "XOmrmsbp0aNR"
      },
      "execution_count": null,
      "outputs": []
    },
    {
      "cell_type": "markdown",
      "source": [
        "So the first variation we're going to try is the additive trend and additive seasonality, we set the seasonal periods, the 12, since we know that the data cycles yearly and the frequency of the data is monthly.\n"
      ],
      "metadata": {
        "id": "1FuxkOWrgZz8"
      }
    },
    {
      "cell_type": "markdown",
      "source": [
        "**Parameter:**\n",
        "* Trend with value `add`\n",
        "* Seasonal with value `add`"
      ],
      "metadata": {
        "id": "NGKbuc22jmf9"
      }
    },
    {
      "cell_type": "code",
      "source": [
        "# make the model\n",
        "hw = ExponentialSmoothing(\n",
        "    train['Passengers'],\n",
        "    initialization_method='legacy-heuristic',\n",
        "    trend='add', seasonal='add', seasonal_periods=12 #because we gonna use holt winter, so we're implement parameter trend, seasonal\n",
        ") #trend/seasonal args can be add or mul. lets compare\n",
        "\n",
        "# fit the model\n",
        "res_hw = hw.fit()"
      ],
      "metadata": {
        "id": "go9REgeL0Fzh"
      },
      "execution_count": null,
      "outputs": []
    },
    {
      "cell_type": "code",
      "source": [
        "# in sample predictions (train)\n",
        "df.loc[train_idx, 'HoltWinters'] = res_hw.fittedvalues"
      ],
      "metadata": {
        "id": "FhK3oN5u0YgL"
      },
      "execution_count": null,
      "outputs": []
    },
    {
      "cell_type": "code",
      "source": [
        "# out of sample forecast (test)\n",
        "df.loc[test_idx, 'HoltWinters'] = res_hw.forecast(N_test)"
      ],
      "metadata": {
        "id": "_xEBDGfQ1yT0"
      },
      "execution_count": null,
      "outputs": []
    },
    {
      "cell_type": "code",
      "source": [
        "df[['Passengers', 'HoltWinters']].plot()"
      ],
      "metadata": {
        "colab": {
          "base_uri": "https://localhost:8080/",
          "height": 296
        },
        "id": "vm3eGWaj14O-",
        "outputId": "1c1b80ee-8f7c-4f03-e923-315af78e3814"
      },
      "execution_count": null,
      "outputs": [
        {
          "output_type": "execute_result",
          "data": {
            "text/plain": [
              "<matplotlib.axes._subplots.AxesSubplot at 0x7f50dbda5310>"
            ]
          },
          "metadata": {},
          "execution_count": 118
        },
        {
          "output_type": "display_data",
          "data": {
            "image/png": "[encoded data removed]",
            "text/plain": [
              "<Figure size 432x288 with 1 Axes>"
            ]
          },
          "metadata": {
            "needs_background": "light"
          }
        }
      ]
    },
    {
      "cell_type": "markdown",
      "source": [
        "\n",
        "So this is very encouraging, unlike the simple exponential smoothing model and the whole linear trend model.\n",
        "\n",
        "This model fits very well for both a train and test notice, importantly, that the predictions are not lagging behind the Time series.\n",
        "\n",
        "So hopefully now you are convinced that it is not correct to shift it backwards by one step. And in fact, the lagging is only due to model mis specification.\n",
        "\n",
        "Remember that you have to be consistent.\n",
        "\n",
        "If you shift back for one model, you have to shift back for all of them.\n",
        "And for this model, that would be very silly because then the predictions would be ahead of the data, which doesn't make any sense."
      ],
      "metadata": {
        "id": "XIg9tRdog-gg"
      }
    },
    {
      "cell_type": "code",
      "source": [
        "def rmse(y, t):\n",
        "  return np.sqrt(np.mean((y - t)**2))\n",
        "\n",
        "# y = predictions\n",
        "# t = target"
      ],
      "metadata": {
        "id": "hvhOuYBt18Dz"
      },
      "execution_count": null,
      "outputs": []
    },
    {
      "cell_type": "code",
      "source": [
        "def mae(y, t):\n",
        "  return np.mean(np.abs(y - t))"
      ],
      "metadata": {
        "id": "7J6p3-SD2QI7"
      },
      "execution_count": null,
      "outputs": []
    },
    {
      "cell_type": "code",
      "source": [
        "print('Train RMSE:', rmse(train['Passengers'], res_hw.fittedvalues))\n",
        "print('Test RMSE:', rmse(test['Passengers'], res_hw.forecast(N_test)))"
      ],
      "metadata": {
        "colab": {
          "base_uri": "https://localhost:8080/"
        },
        "id": "VhIDxA_s2VUj",
        "outputId": "629fc56e-3b81-4045-f472-f2a708d0eef0"
      },
      "execution_count": null,
      "outputs": [
        {
          "output_type": "stream",
          "name": "stdout",
          "text": [
            "Train RMSE: 11.6246803154745\n",
            "Test RMSE: 16.980328713846724\n"
          ]
        }
      ]
    },
    {
      "cell_type": "code",
      "source": [
        "print('Train MAE:', mae(train['Passengers'], res_hw.fittedvalues))\n",
        "print('Test MAE:', mae(test['Passengers'], res_hw.forecast(N_test)))"
      ],
      "metadata": {
        "colab": {
          "base_uri": "https://localhost:8080/"
        },
        "id": "3_w00X7w2kRl",
        "outputId": "71996165-a490-403e-af9c-5a2a13e63d43"
      },
      "execution_count": null,
      "outputs": [
        {
          "output_type": "stream",
          "name": "stdout",
          "text": [
            "Train MAE: 9.00812289021194\n",
            "Test MAE: 13.381017046079075\n"
          ]
        }
      ]
    },
    {
      "cell_type": "markdown",
      "source": [
        "Lets take a look to change parameter in trend and seasonal, between **`add`** or **`mul`**"
      ],
      "metadata": {
        "id": "V58CH9ZOjHNV"
      }
    },
    {
      "cell_type": "markdown",
      "source": [
        "**Parameter:**\n",
        "* Trend with value `add`\n",
        "* Seasonal with value `mul`"
      ],
      "metadata": {
        "id": "lddDXAyDja0Q"
      }
    },
    {
      "cell_type": "code",
      "source": [
        "hw = ExponentialSmoothing(\n",
        "    train['Passengers'],\n",
        "    initialization_method='legacy-heuristic',\n",
        "    trend='add', seasonal='mul', seasonal_periods=12)\n",
        "# add for additive\n",
        "# mul for multiplicative\n",
        "\n",
        "res_hw = hw.fit()"
      ],
      "metadata": {
        "id": "iYhSX1t-20mA"
      },
      "execution_count": null,
      "outputs": []
    },
    {
      "cell_type": "code",
      "source": [
        "df.loc[train_idx, 'HoltWinters'] = res_hw.fittedvalues\n",
        "df.loc[test_idx, 'HoltWinters'] = res_hw.forecast(N_test)\n",
        "df[['Passengers', 'HoltWinters']].plot()"
      ],
      "metadata": {
        "colab": {
          "base_uri": "https://localhost:8080/",
          "height": 296
        },
        "id": "DiPCF7Yi3CKj",
        "outputId": "4f07d7b9-bc5b-4cf9-923a-3aff78dad90b"
      },
      "execution_count": null,
      "outputs": [
        {
          "output_type": "execute_result",
          "data": {
            "text/plain": [
              "<matplotlib.axes._subplots.AxesSubplot at 0x7f50dbc17b50>"
            ]
          },
          "metadata": {},
          "execution_count": 127
        },
        {
          "output_type": "display_data",
          "data": {
            "image/png": "[encoded data removed]",
            "text/plain": [
              "<Figure size 432x288 with 1 Axes>"
            ]
          },
          "metadata": {
            "needs_background": "light"
          }
        }
      ]
    },
    {
      "cell_type": "markdown",
      "source": [
        "So from my perspective, at least, this model appears to fit better than the purely additive model.\n",
        "But let's check our accuracy metrics.\n"
      ],
      "metadata": {
        "id": "4-ykyE9AjAgC"
      }
    },
    {
      "cell_type": "code",
      "source": [
        "print('Train RMSE:', rmse(train['Passengers'], res_hw.fittedvalues))\n",
        "print('Test RMSE:', rmse(test['Passengers'], res_hw.forecast(N_test)))"
      ],
      "metadata": {
        "colab": {
          "base_uri": "https://localhost:8080/"
        },
        "id": "uMoAYHph3cw9",
        "outputId": "42ca56c0-0355-4328-a622-82957ba1bfbb"
      },
      "execution_count": null,
      "outputs": [
        {
          "output_type": "stream",
          "name": "stdout",
          "text": [
            "Train RMSE: 9.767995232544234\n",
            "Test RMSE: 15.810523438015542\n"
          ]
        }
      ]
    },
    {
      "cell_type": "code",
      "source": [
        "print('Train MAE:', mae(train['Passengers'], res_hw.fittedvalues))\n",
        "print('Test MAE:', mae(test['Passengers'], res_hw.forecast(N_test)))"
      ],
      "metadata": {
        "colab": {
          "base_uri": "https://localhost:8080/"
        },
        "id": "A6uLWirP36oL",
        "outputId": "d4fffea4-f300-42cb-9880-e7853aba3b42"
      },
      "execution_count": null,
      "outputs": [
        {
          "output_type": "stream",
          "name": "stdout",
          "text": [
            "Train MAE: 7.604256298010503\n",
            "Test MAE: 10.303303346874694\n"
          ]
        }
      ]
    },
    {
      "cell_type": "markdown",
      "source": [
        "**Parameter:**\n",
        "* Trend with value `mul`\n",
        "* Seasonal with value `mul`"
      ],
      "metadata": {
        "id": "8awD0V94jsMs"
      }
    },
    {
      "cell_type": "code",
      "source": [
        "hw = ExponentialSmoothing(\n",
        "    train['Passengers'],\n",
        "    initialization_method='legacy-heuristic',\n",
        "    trend='mul', seasonal='mul', seasonal_periods=12\n",
        ")\n",
        "res_hw = hw.fit()"
      ],
      "metadata": {
        "colab": {
          "base_uri": "https://localhost:8080/"
        },
        "id": "dZqBE9dS4BZG",
        "outputId": "38cd970a-1c1a-405d-a806-6cecc7dd660a"
      },
      "execution_count": null,
      "outputs": [
        {
          "output_type": "stream",
          "name": "stderr",
          "text": [
            "/usr/local/lib/python3.7/dist-packages/statsmodels/tsa/holtwinters/model.py:83: RuntimeWarning: overflow encountered in matmul\n",
            "  return err.T @ err\n"
          ]
        }
      ]
    },
    {
      "cell_type": "code",
      "source": [
        "df.loc[train_idx, 'HoltWinters'] = res_hw.fittedvalues\n",
        "df.loc[test_idx, 'HoltWinters'] = res_hw.forecast(N_test)\n",
        "df[['Passengers', 'HoltWinters']].plot()"
      ],
      "metadata": {
        "colab": {
          "base_uri": "https://localhost:8080/",
          "height": 296
        },
        "id": "_5pddzeE4Vqi",
        "outputId": "c203f511-5734-497d-d161-566da3094ccb"
      },
      "execution_count": null,
      "outputs": [
        {
          "output_type": "execute_result",
          "data": {
            "text/plain": [
              "<matplotlib.axes._subplots.AxesSubplot at 0x7f50dbb06c90>"
            ]
          },
          "metadata": {},
          "execution_count": 133
        },
        {
          "output_type": "display_data",
          "data": {
            "image/png": "[encoded data removed]",
            "text/plain": [
              "<Figure size 432x288 with 1 Axes>"
            ]
          },
          "metadata": {
            "needs_background": "light"
          }
        }
      ]
    },
    {
      "cell_type": "code",
      "source": [
        "print('Train RMSE:', rmse(train['Passengers'], res_hw.fittedvalues))\n",
        "print('Test RMSE:', rmse(test['Passengers'], res_hw.forecast(N_test)))"
      ],
      "metadata": {
        "colab": {
          "base_uri": "https://localhost:8080/"
        },
        "id": "Nv3ZCvmH4sWP",
        "outputId": "201bdd7b-b700-4568-c9d3-e23c78f33f78"
      },
      "execution_count": null,
      "outputs": [
        {
          "output_type": "stream",
          "name": "stdout",
          "text": [
            "Train RMSE: 9.617924823780886\n",
            "Test RMSE: 25.81030837798351\n"
          ]
        }
      ]
    },
    {
      "cell_type": "code",
      "source": [
        "print('Train RMSE:', mae(train['Passengers'], res_hw.fittedvalues))\n",
        "print('Test RMSE:', mae(test['Passengers'], res_hw.forecast(N_test)))"
      ],
      "metadata": {
        "colab": {
          "base_uri": "https://localhost:8080/"
        },
        "id": "_vgVaiXi430x",
        "outputId": "faba3bbb-374d-4a7d-b754-087410d8dab4"
      },
      "execution_count": null,
      "outputs": [
        {
          "output_type": "stream",
          "name": "stdout",
          "text": [
            "Train RMSE: 7.112421243670695\n",
            "Test RMSE: 20.84819954950004\n"
          ]
        }
      ]
    },
    {
      "cell_type": "markdown",
      "source": [
        "Therefore, while this Time series may look like a multiplicative model is a better fit, it actually overfit to the training data and we get a worse result.\n"
      ],
      "metadata": {
        "id": "YvzQM0CxkCMv"
      }
    },
    {
      "cell_type": "code",
      "source": [
        ""
      ],
      "metadata": {
        "id": "N1WhiH7246Fa"
      },
      "execution_count": null,
      "outputs": []
    }
  ]
}