{
  "nbformat": 4,
  "nbformat_minor": 0,
  "metadata": {
    "colab": {
      "name": "transform-time-series",
      "provenance": [],
      "authorship_tag": "ABX9TyPZ10i6UywE1WgK1aWQaGwv",
      "include_colab_link": true
    },
    "kernelspec": {
      "name": "python3",
      "display_name": "Python 3"
    },
    "language_info": {
      "name": "python"
    }
  },
  "cells": [
    {
      "cell_type": "markdown",
      "metadata": {
        "id": "view-in-github",
        "colab_type": "text"
      },
      "source": [
        "<a href=\"https://colab.research.google.com/github/hafilmr/LearningCodeTrainee/blob/main/Time%20Series%20Basics/transform_time_series.ipynb\" target=\"_parent\"><img src=\"https://colab.research.google.com/assets/colab-badge.svg\" alt=\"Open In Colab\"/></a>"
      ]
    },
    {
      "cell_type": "markdown",
      "source": [
        "# Introduction\n",
        "\n",
        "Data transforms are intended to remove noise and improve the signal in time series forecasting.\n",
        "\n",
        "It can be very difficult to select a good, or even best, transform for a given prediction problem. There are many transforms to choose from and each has a different mathematical intuition.\n",
        "\n",
        "In this tutorial, you will discover how to explore different power-based transforms for time series forecasting with Python.\n",
        "\n",
        "After completing this tutorial, you will know:\n",
        "\n",
        "> * How to identify when to use and how to explore a square root transform.\n",
        "* How to identify when to use and explore a log transform and the expectations on raw data.\n",
        "* How to use the Box-Cox transform to perform square root, log, and automatically discover the best power transform for your dataset.\n",
        "\n"
      ],
      "metadata": {
        "id": "DmNaN1FRNOLI"
      }
    },
    {
      "cell_type": "markdown",
      "source": [
        "# Dataset\n",
        "\n",
        "## Airline Passengers Dataset\n",
        "The Airline Passengers dataset describes a total number of airline passengers over time.\n",
        "\n",
        "The units are a count of the number of airline passengers in thousands. There are 144 monthly observations from 1949 to 1960.\n",
        "\n",
        "Download the dataset -> https://github.com/jbrownlee/Datasets/blob/master/airline-passengers.csv"
      ],
      "metadata": {
        "id": "pFIZ9cftNkWZ"
      }
    },
    {
      "cell_type": "markdown",
      "source": [
        "### Loads and Plot Datasets\n",
        "\n",
        "Running the example creates two plots, the first showing the time series as a line plot and the second showing the observations as a histogram."
      ],
      "metadata": {
        "id": "jl_Zy3RnOb4s"
      }
    },
    {
      "cell_type": "code",
      "execution_count": null,
      "metadata": {
        "colab": {
          "base_uri": "https://localhost:8080/",
          "height": 455
        },
        "id": "uJJFC7huMz44",
        "outputId": "3db4c73e-9fd3-40f9-efd2-d98a0ba42f2f"
      },
      "outputs": [
        {
          "output_type": "execute_result",
          "data": {
            "text/html": [
              "\n",
              "  <div id=\"df-d1ea2c9f-29ea-4768-9459-8751d3b6db6c\">\n",
              "    <div class=\"colab-df-container\">\n",
              "      <div>\n",
              "<style scoped>\n",
              "    .dataframe tbody tr th:only-of-type {\n",
              "        vertical-align: middle;\n",
              "    }\n",
              "\n",
              "    .dataframe tbody tr th {\n",
              "        vertical-align: top;\n",
              "    }\n",
              "\n",
              "    .dataframe thead th {\n",
              "        text-align: right;\n",
              "    }\n",
              "</style>\n",
              "<table border=\"1\" class=\"dataframe\">\n",
              "  <thead>\n",
              "    <tr style=\"text-align: right;\">\n",
              "      <th></th>\n",
              "      <th>Passengers</th>\n",
              "    </tr>\n",
              "    <tr>\n",
              "      <th>Month</th>\n",
              "      <th></th>\n",
              "    </tr>\n",
              "  </thead>\n",
              "  <tbody>\n",
              "    <tr>\n",
              "      <th>1949-01-01</th>\n",
              "      <td>112</td>\n",
              "    </tr>\n",
              "    <tr>\n",
              "      <th>1949-02-01</th>\n",
              "      <td>118</td>\n",
              "    </tr>\n",
              "    <tr>\n",
              "      <th>1949-03-01</th>\n",
              "      <td>132</td>\n",
              "    </tr>\n",
              "    <tr>\n",
              "      <th>1949-04-01</th>\n",
              "      <td>129</td>\n",
              "    </tr>\n",
              "    <tr>\n",
              "      <th>1949-05-01</th>\n",
              "      <td>121</td>\n",
              "    </tr>\n",
              "    <tr>\n",
              "      <th>...</th>\n",
              "      <td>...</td>\n",
              "    </tr>\n",
              "    <tr>\n",
              "      <th>1960-08-01</th>\n",
              "      <td>606</td>\n",
              "    </tr>\n",
              "    <tr>\n",
              "      <th>1960-09-01</th>\n",
              "      <td>508</td>\n",
              "    </tr>\n",
              "    <tr>\n",
              "      <th>1960-10-01</th>\n",
              "      <td>461</td>\n",
              "    </tr>\n",
              "    <tr>\n",
              "      <th>1960-11-01</th>\n",
              "      <td>390</td>\n",
              "    </tr>\n",
              "    <tr>\n",
              "      <th>1960-12-01</th>\n",
              "      <td>432</td>\n",
              "    </tr>\n",
              "  </tbody>\n",
              "</table>\n",
              "<p>144 rows × 1 columns</p>\n",
              "</div>\n",
              "      <button class=\"colab-df-convert\" onclick=\"convertToInteractive('df-d1ea2c9f-29ea-4768-9459-8751d3b6db6c')\"\n",
              "              title=\"Convert this dataframe to an interactive table.\"\n",
              "              style=\"display:none;\">\n",
              "        \n",
              "  <svg xmlns=\"http://www.w3.org/2000/svg\" height=\"24px\"viewBox=\"0 0 24 24\"\n",
              "       width=\"24px\">\n",
              "    <path d=\"M0 0h24v24H0V0z\" fill=\"none\"/>\n",
              "    <path d=\"M18.56 5.44l.94 2.06.94-2.06 2.06-.94-2.06-.94-.94-2.06-.94 2.06-2.06.94zm-11 1L8.5 8.5l.94-2.06 2.06-.94-2.06-.94L8.5 2.5l-.94 2.06-2.06.94zm10 10l.94 2.06.94-2.06 2.06-.94-2.06-.94-.94-2.06-.94 2.06-2.06.94z\"/><path d=\"M17.41 7.96l-1.37-1.37c-.4-.4-.92-.59-1.43-.59-.52 0-1.04.2-1.43.59L10.3 9.45l-7.72 7.72c-.78.78-.78 2.05 0 2.83L4 21.41c.39.39.9.59 1.41.59.51 0 1.02-.2 1.41-.59l7.78-7.78 2.81-2.81c.8-.78.8-2.07 0-2.86zM5.41 20L4 18.59l7.72-7.72 1.47 1.35L5.41 20z\"/>\n",
              "  </svg>\n",
              "      </button>\n",
              "      \n",
              "  <style>\n",
              "    .colab-df-container {\n",
              "      display:flex;\n",
              "      flex-wrap:wrap;\n",
              "      gap: 12px;\n",
              "    }\n",
              "\n",
              "    .colab-df-convert {\n",
              "      background-color: #E8F0FE;\n",
              "      border: none;\n",
              "      border-radius: 50%;\n",
              "      cursor: pointer;\n",
              "      display: none;\n",
              "      fill: #1967D2;\n",
              "      height: 32px;\n",
              "      padding: 0 0 0 0;\n",
              "      width: 32px;\n",
              "    }\n",
              "\n",
              "    .colab-df-convert:hover {\n",
              "      background-color: #E2EBFA;\n",
              "      box-shadow: 0px 1px 2px rgba(60, 64, 67, 0.3), 0px 1px 3px 1px rgba(60, 64, 67, 0.15);\n",
              "      fill: #174EA6;\n",
              "    }\n",
              "\n",
              "    [theme=dark] .colab-df-convert {\n",
              "      background-color: #3B4455;\n",
              "      fill: #D2E3FC;\n",
              "    }\n",
              "\n",
              "    [theme=dark] .colab-df-convert:hover {\n",
              "      background-color: #434B5C;\n",
              "      box-shadow: 0px 1px 3px 1px rgba(0, 0, 0, 0.15);\n",
              "      filter: drop-shadow(0px 1px 2px rgba(0, 0, 0, 0.3));\n",
              "      fill: #FFFFFF;\n",
              "    }\n",
              "  </style>\n",
              "\n",
              "      <script>\n",
              "        const buttonEl =\n",
              "          document.querySelector('#df-d1ea2c9f-29ea-4768-9459-8751d3b6db6c button.colab-df-convert');\n",
              "        buttonEl.style.display =\n",
              "          google.colab.kernel.accessAllowed ? 'block' : 'none';\n",
              "\n",
              "        async function convertToInteractive(key) {\n",
              "          const element = document.querySelector('#df-d1ea2c9f-29ea-4768-9459-8751d3b6db6c');\n",
              "          const dataTable =\n",
              "            await google.colab.kernel.invokeFunction('convertToInteractive',\n",
              "                                                     [key], {});\n",
              "          if (!dataTable) return;\n",
              "\n",
              "          const docLinkHtml = 'Like what you see? Visit the ' +\n",
              "            '<a target=\"_blank\" href=https://colab.research.google.com/notebooks/data_table.ipynb>data table notebook</a>'\n",
              "            + ' to learn more about interactive tables.';\n",
              "          element.innerHTML = '';\n",
              "          dataTable['output_type'] = 'display_data';\n",
              "          await google.colab.output.renderOutput(dataTable, element);\n",
              "          const docLink = document.createElement('div');\n",
              "          docLink.innerHTML = docLinkHtml;\n",
              "          element.appendChild(docLink);\n",
              "        }\n",
              "      </script>\n",
              "    </div>\n",
              "  </div>\n",
              "  "
            ],
            "text/plain": [
              "            Passengers\n",
              "Month                 \n",
              "1949-01-01         112\n",
              "1949-02-01         118\n",
              "1949-03-01         132\n",
              "1949-04-01         129\n",
              "1949-05-01         121\n",
              "...                ...\n",
              "1960-08-01         606\n",
              "1960-09-01         508\n",
              "1960-10-01         461\n",
              "1960-11-01         390\n",
              "1960-12-01         432\n",
              "\n",
              "[144 rows x 1 columns]"
            ]
          },
          "metadata": {},
          "execution_count": 59
        }
      ],
      "source": [
        "import pandas as pd\n",
        "import matplotlib.pyplot as plt\n",
        "\n",
        "series = pd.read_csv('/content/airline_passengers.csv', index_col = 'Month', parse_dates=True)\n",
        "series"
      ]
    },
    {
      "cell_type": "code",
      "source": [
        "plt.figure(1)\n",
        "# define size of figure"
      ],
      "metadata": {
        "colab": {
          "base_uri": "https://localhost:8080/",
          "height": 52
        },
        "id": "0IcGhrlxQOrf",
        "outputId": "7f2c4677-b993-4f6d-d814-572aa8ff6572"
      },
      "execution_count": null,
      "outputs": [
        {
          "output_type": "execute_result",
          "data": {
            "text/plain": [
              "<Figure size 432x288 with 0 Axes>"
            ]
          },
          "metadata": {},
          "execution_count": 60
        },
        {
          "output_type": "display_data",
          "data": {
            "text/plain": [
              "<Figure size 432x288 with 0 Axes>"
            ]
          },
          "metadata": {}
        }
      ]
    },
    {
      "cell_type": "code",
      "source": [
        "plt.subplot()\n",
        "# define plot"
      ],
      "metadata": {
        "colab": {
          "base_uri": "https://localhost:8080/",
          "height": 286
        },
        "id": "aSvDX7lQQS5n",
        "outputId": "e391a51d-6032-4da7-e4ee-52f9d4d10948"
      },
      "execution_count": null,
      "outputs": [
        {
          "output_type": "execute_result",
          "data": {
            "text/plain": [
              "<matplotlib.axes._subplots.AxesSubplot at 0x7fa5eb6a9bd0>"
            ]
          },
          "metadata": {},
          "execution_count": 61
        },
        {
          "output_type": "display_data",
          "data": {
            "image/png": "[encoded data removed]",
            "text/plain": [
              "<Figure size 432x288 with 1 Axes>"
            ]
          },
          "metadata": {
            "needs_background": "light"
          }
        }
      ]
    },
    {
      "cell_type": "markdown",
      "source": [
        "Line Plot"
      ],
      "metadata": {
        "id": "zxVD-jtlSHyy"
      }
    },
    {
      "cell_type": "code",
      "source": [
        "series.plot()\n",
        "# line plot for datasets"
      ],
      "metadata": {
        "colab": {
          "base_uri": "https://localhost:8080/",
          "height": 296
        },
        "id": "P1f1rB2MQc1H",
        "outputId": "a03e1b52-726a-480c-fad6-d0a72bdc6e6a"
      },
      "execution_count": null,
      "outputs": [
        {
          "output_type": "execute_result",
          "data": {
            "text/plain": [
              "<matplotlib.axes._subplots.AxesSubplot at 0x7fa5eb684fd0>"
            ]
          },
          "metadata": {},
          "execution_count": 62
        },
        {
          "output_type": "display_data",
          "data": {
            "image/png": "[encoded data removed]",
            "text/plain": [
              "<Figure size 432x288 with 1 Axes>"
            ]
          },
          "metadata": {
            "needs_background": "light"
          }
        }
      ]
    },
    {
      "cell_type": "code",
      "source": [
        "# x label was month, we gonna change it to year\n",
        "series.plot()\n",
        "plt.xlabel('Year')"
      ],
      "metadata": {
        "colab": {
          "base_uri": "https://localhost:8080/",
          "height": 296
        },
        "id": "hYvA4iP2QjAt",
        "outputId": "a0a1fb7b-0ed6-4607-d619-c186efbd022d"
      },
      "execution_count": null,
      "outputs": [
        {
          "output_type": "execute_result",
          "data": {
            "text/plain": [
              "Text(0.5, 0, 'Year')"
            ]
          },
          "metadata": {},
          "execution_count": 63
        },
        {
          "output_type": "display_data",
          "data": {
            "image/png": "[encoded data removed]",
            "text/plain": [
              "<Figure size 432x288 with 1 Axes>"
            ]
          },
          "metadata": {
            "needs_background": "light"
          }
        }
      ]
    },
    {
      "cell_type": "code",
      "source": [
        "# we gonna define y label also to passengers\n",
        "# and we gonna put title\n",
        "series.plot()\n",
        "plt.xlabel('Year')\n",
        "plt.ylabel('Passengers')\n",
        "plt.title('Airline Passengers')"
      ],
      "metadata": {
        "colab": {
          "base_uri": "https://localhost:8080/",
          "height": 312
        },
        "id": "GuTw-rRTRQb1",
        "outputId": "65217761-c557-44a4-8c9c-6e5e79282570"
      },
      "execution_count": null,
      "outputs": [
        {
          "output_type": "execute_result",
          "data": {
            "text/plain": [
              "Text(0.5, 1.0, 'Airline Passengers')"
            ]
          },
          "metadata": {},
          "execution_count": 64
        },
        {
          "output_type": "display_data",
          "data": {
            "image/png": "[encoded data removed]",
            "text/plain": [
              "<Figure size 432x288 with 1 Axes>"
            ]
          },
          "metadata": {
            "needs_background": "light"
          }
        }
      ]
    },
    {
      "cell_type": "markdown",
      "source": [
        "Histogram"
      ],
      "metadata": {
        "id": "XEq3VK3uSLSd"
      }
    },
    {
      "cell_type": "code",
      "source": [
        "# we will define 'hist' to create histogram\n",
        "series.plot(kind='hist')\n",
        "# the function of the kind variable is to define the type of graph/plot that we will use\n",
        "\n",
        "plt.xlabel('Passengers')\n",
        "# plt.ylabel('Passengers')\n",
        "plt.title('Airline Passengers')"
      ],
      "metadata": {
        "colab": {
          "base_uri": "https://localhost:8080/",
          "height": 312
        },
        "id": "_k8K251uRi3V",
        "outputId": "058decea-51a9-42f7-afbc-1e6d16f86b1d"
      },
      "execution_count": null,
      "outputs": [
        {
          "output_type": "execute_result",
          "data": {
            "text/plain": [
              "Text(0.5, 1.0, 'Airline Passengers')"
            ]
          },
          "metadata": {},
          "execution_count": 65
        },
        {
          "output_type": "display_data",
          "data": {
            "image/png": "[encoded data removed]",
            "text/plain": [
              "<Figure size 432x288 with 1 Axes>"
            ]
          },
          "metadata": {
            "needs_background": "light"
          }
        }
      ]
    },
    {
      "cell_type": "markdown",
      "source": [
        "# Transformations in Time Series\n",
        "\n",
        "## Square Root Transformations (Power Transformations)\n",
        "A time series that has a quadratic growth trend can be made linear by taking the square root.\n",
        "\n",
        "Let’s demonstrate this with a quick contrived example.\n",
        "\n",
        "Consider a series of the numbers 1 to 99 squared. The line plot of this series will show a quadratic growth trend and a histogram of the values will show an exponential distribution with a long trail."
      ],
      "metadata": {
        "id": "HnkeP4KybSAF"
      }
    },
    {
      "cell_type": "code",
      "source": [
        "import numpy as np\n",
        "\n",
        "power_transform = [i**2 for i in range(1, 100)]\n",
        "power_transform"
      ],
      "metadata": {
        "id": "9OmpAnfFSYDS",
        "colab": {
          "base_uri": "https://localhost:8080/"
        },
        "outputId": "1da28690-cc92-4580-9eee-be2a4a9d0c62"
      },
      "execution_count": null,
      "outputs": [
        {
          "output_type": "execute_result",
          "data": {
            "text/plain": [
              "[1,\n",
              " 4,\n",
              " 9,\n",
              " 16,\n",
              " 25,\n",
              " 36,\n",
              " 49,\n",
              " 64,\n",
              " 81,\n",
              " 100,\n",
              " 121,\n",
              " 144,\n",
              " 169,\n",
              " 196,\n",
              " 225,\n",
              " 256,\n",
              " 289,\n",
              " 324,\n",
              " 361,\n",
              " 400,\n",
              " 441,\n",
              " 484,\n",
              " 529,\n",
              " 576,\n",
              " 625,\n",
              " 676,\n",
              " 729,\n",
              " 784,\n",
              " 841,\n",
              " 900,\n",
              " 961,\n",
              " 1024,\n",
              " 1089,\n",
              " 1156,\n",
              " 1225,\n",
              " 1296,\n",
              " 1369,\n",
              " 1444,\n",
              " 1521,\n",
              " 1600,\n",
              " 1681,\n",
              " 1764,\n",
              " 1849,\n",
              " 1936,\n",
              " 2025,\n",
              " 2116,\n",
              " 2209,\n",
              " 2304,\n",
              " 2401,\n",
              " 2500,\n",
              " 2601,\n",
              " 2704,\n",
              " 2809,\n",
              " 2916,\n",
              " 3025,\n",
              " 3136,\n",
              " 3249,\n",
              " 3364,\n",
              " 3481,\n",
              " 3600,\n",
              " 3721,\n",
              " 3844,\n",
              " 3969,\n",
              " 4096,\n",
              " 4225,\n",
              " 4356,\n",
              " 4489,\n",
              " 4624,\n",
              " 4761,\n",
              " 4900,\n",
              " 5041,\n",
              " 5184,\n",
              " 5329,\n",
              " 5476,\n",
              " 5625,\n",
              " 5776,\n",
              " 5929,\n",
              " 6084,\n",
              " 6241,\n",
              " 6400,\n",
              " 6561,\n",
              " 6724,\n",
              " 6889,\n",
              " 7056,\n",
              " 7225,\n",
              " 7396,\n",
              " 7569,\n",
              " 7744,\n",
              " 7921,\n",
              " 8100,\n",
              " 8281,\n",
              " 8464,\n",
              " 8649,\n",
              " 8836,\n",
              " 9025,\n",
              " 9216,\n",
              " 9409,\n",
              " 9604,\n",
              " 9801]"
            ]
          },
          "metadata": {},
          "execution_count": 66
        }
      ]
    },
    {
      "cell_type": "markdown",
      "source": [
        "Line Plot"
      ],
      "metadata": {
        "id": "J7FAIFnKlh2w"
      }
    },
    {
      "cell_type": "code",
      "source": [
        "plt.plot(power_transform)"
      ],
      "metadata": {
        "colab": {
          "base_uri": "https://localhost:8080/",
          "height": 282
        },
        "id": "EzX3sqn6laWG",
        "outputId": "e700778b-188a-47a8-ec77-d84c8601169f"
      },
      "execution_count": null,
      "outputs": [
        {
          "output_type": "execute_result",
          "data": {
            "text/plain": [
              "[<matplotlib.lines.Line2D at 0x7fa5eb4542d0>]"
            ]
          },
          "metadata": {},
          "execution_count": 67
        },
        {
          "output_type": "display_data",
          "data": {
            "image/png": "[encoded data removed]",
            "text/plain": [
              "<Figure size 432x288 with 1 Axes>"
            ]
          },
          "metadata": {
            "needs_background": "light"
          }
        }
      ]
    },
    {
      "cell_type": "markdown",
      "source": [
        "Histogram"
      ],
      "metadata": {
        "id": "5NNKo3JVmNnC"
      }
    },
    {
      "cell_type": "code",
      "source": [
        "plt.hist(power_transform)"
      ],
      "metadata": {
        "colab": {
          "base_uri": "https://localhost:8080/",
          "height": 334
        },
        "id": "VxKkhvfFl0Wj",
        "outputId": "96cf920c-5996-4b59-8b94-2062ceb161d3"
      },
      "execution_count": null,
      "outputs": [
        {
          "output_type": "execute_result",
          "data": {
            "text/plain": [
              "(array([31., 13., 10.,  8.,  8.,  6.,  6.,  6.,  5.,  6.]),\n",
              " array([1.000e+00, 9.810e+02, 1.961e+03, 2.941e+03, 3.921e+03, 4.901e+03,\n",
              "        5.881e+03, 6.861e+03, 7.841e+03, 8.821e+03, 9.801e+03]),\n",
              " <a list of 10 Patch objects>)"
            ]
          },
          "metadata": {},
          "execution_count": 68
        },
        {
          "output_type": "display_data",
          "data": {
            "image/png": "[encoded data removed]",
            "text/plain": [
              "<Figure size 432x288 with 1 Axes>"
            ]
          },
          "metadata": {
            "needs_background": "light"
          }
        }
      ]
    },
    {
      "cell_type": "markdown",
      "source": [
        "If you see a structure like this in your own time series, you may have a quadratic growth trend. This can be removed or made linear by taking the inverse operation of the squaring procedure, which is the square root.\n",
        "\n",
        "Because the example is perfectly quadratic, we would expect the line plot of the transformed data to show a straight line. Because the source of the squared series is linear, we would expect the histogram to show a uniform distribution"
      ],
      "metadata": {
        "id": "OraH0eYImajn"
      }
    },
    {
      "cell_type": "code",
      "source": [
        "import numpy as np\n",
        "\n",
        "power_transform = [i**2 for i in range (1, 100)]\n",
        "power_transform"
      ],
      "metadata": {
        "colab": {
          "base_uri": "https://localhost:8080/"
        },
        "id": "0DdaeHOLmU8H",
        "outputId": "b4d8bf40-a33c-405d-d987-bdfd0c4e1db8"
      },
      "execution_count": null,
      "outputs": [
        {
          "output_type": "execute_result",
          "data": {
            "text/plain": [
              "[1,\n",
              " 4,\n",
              " 9,\n",
              " 16,\n",
              " 25,\n",
              " 36,\n",
              " 49,\n",
              " 64,\n",
              " 81,\n",
              " 100,\n",
              " 121,\n",
              " 144,\n",
              " 169,\n",
              " 196,\n",
              " 225,\n",
              " 256,\n",
              " 289,\n",
              " 324,\n",
              " 361,\n",
              " 400,\n",
              " 441,\n",
              " 484,\n",
              " 529,\n",
              " 576,\n",
              " 625,\n",
              " 676,\n",
              " 729,\n",
              " 784,\n",
              " 841,\n",
              " 900,\n",
              " 961,\n",
              " 1024,\n",
              " 1089,\n",
              " 1156,\n",
              " 1225,\n",
              " 1296,\n",
              " 1369,\n",
              " 1444,\n",
              " 1521,\n",
              " 1600,\n",
              " 1681,\n",
              " 1764,\n",
              " 1849,\n",
              " 1936,\n",
              " 2025,\n",
              " 2116,\n",
              " 2209,\n",
              " 2304,\n",
              " 2401,\n",
              " 2500,\n",
              " 2601,\n",
              " 2704,\n",
              " 2809,\n",
              " 2916,\n",
              " 3025,\n",
              " 3136,\n",
              " 3249,\n",
              " 3364,\n",
              " 3481,\n",
              " 3600,\n",
              " 3721,\n",
              " 3844,\n",
              " 3969,\n",
              " 4096,\n",
              " 4225,\n",
              " 4356,\n",
              " 4489,\n",
              " 4624,\n",
              " 4761,\n",
              " 4900,\n",
              " 5041,\n",
              " 5184,\n",
              " 5329,\n",
              " 5476,\n",
              " 5625,\n",
              " 5776,\n",
              " 5929,\n",
              " 6084,\n",
              " 6241,\n",
              " 6400,\n",
              " 6561,\n",
              " 6724,\n",
              " 6889,\n",
              " 7056,\n",
              " 7225,\n",
              " 7396,\n",
              " 7569,\n",
              " 7744,\n",
              " 7921,\n",
              " 8100,\n",
              " 8281,\n",
              " 8464,\n",
              " 8649,\n",
              " 8836,\n",
              " 9025,\n",
              " 9216,\n",
              " 9409,\n",
              " 9604,\n",
              " 9801]"
            ]
          },
          "metadata": {},
          "execution_count": 69
        }
      ]
    },
    {
      "cell_type": "code",
      "source": [
        "# SQRT Transforms\n",
        "transforms = np.sqrt(power_transform)\n",
        "transforms"
      ],
      "metadata": {
        "colab": {
          "base_uri": "https://localhost:8080/"
        },
        "id": "rsBH4M2_mtA1",
        "outputId": "2a47d2ae-8d38-46f3-d54b-c0024808fad5"
      },
      "execution_count": null,
      "outputs": [
        {
          "output_type": "execute_result",
          "data": {
            "text/plain": [
              "array([ 1.,  2.,  3.,  4.,  5.,  6.,  7.,  8.,  9., 10., 11., 12., 13.,\n",
              "       14., 15., 16., 17., 18., 19., 20., 21., 22., 23., 24., 25., 26.,\n",
              "       27., 28., 29., 30., 31., 32., 33., 34., 35., 36., 37., 38., 39.,\n",
              "       40., 41., 42., 43., 44., 45., 46., 47., 48., 49., 50., 51., 52.,\n",
              "       53., 54., 55., 56., 57., 58., 59., 60., 61., 62., 63., 64., 65.,\n",
              "       66., 67., 68., 69., 70., 71., 72., 73., 74., 75., 76., 77., 78.,\n",
              "       79., 80., 81., 82., 83., 84., 85., 86., 87., 88., 89., 90., 91.,\n",
              "       92., 93., 94., 95., 96., 97., 98., 99.])"
            ]
          },
          "metadata": {},
          "execution_count": 70
        }
      ]
    },
    {
      "cell_type": "markdown",
      "source": [
        "**Line Plot**\n",
        "\n",
        "Line Plot for Power Transform (SQRT)"
      ],
      "metadata": {
        "id": "NKiKlhjjm4PO"
      }
    },
    {
      "cell_type": "code",
      "source": [
        "plt.plot(transforms)"
      ],
      "metadata": {
        "colab": {
          "base_uri": "https://localhost:8080/",
          "height": 282
        },
        "id": "64Ba6K-lm2bc",
        "outputId": "b390e78e-9da0-4529-f56c-266ea21b444c"
      },
      "execution_count": null,
      "outputs": [
        {
          "output_type": "execute_result",
          "data": {
            "text/plain": [
              "[<matplotlib.lines.Line2D at 0x7fa5eb781510>]"
            ]
          },
          "metadata": {},
          "execution_count": 71
        },
        {
          "output_type": "display_data",
          "data": {
            "image/png": "[encoded data removed]",
            "text/plain": [
              "<Figure size 432x288 with 1 Axes>"
            ]
          },
          "metadata": {
            "needs_background": "light"
          }
        }
      ]
    },
    {
      "cell_type": "markdown",
      "source": [
        "**Histogram**\n",
        "\n",
        "Histogram for Power Transform (SQRT)"
      ],
      "metadata": {
        "id": "YsrYJjY7nXM7"
      }
    },
    {
      "cell_type": "code",
      "source": [
        "plt.hist(transforms)"
      ],
      "metadata": {
        "colab": {
          "base_uri": "https://localhost:8080/",
          "height": 317
        },
        "id": "AMnorxcanRJw",
        "outputId": "43a5193f-43bf-444f-b871-a8fe1f90a5a0"
      },
      "execution_count": null,
      "outputs": [
        {
          "output_type": "execute_result",
          "data": {
            "text/plain": [
              "(array([10., 10., 10., 10.,  9., 10., 10., 10., 10., 10.]),\n",
              " array([ 1. , 10.8, 20.6, 30.4, 40.2, 50. , 59.8, 69.6, 79.4, 89.2, 99. ]),\n",
              " <a list of 10 Patch objects>)"
            ]
          },
          "metadata": {},
          "execution_count": 72
        },
        {
          "output_type": "display_data",
          "data": {
            "image/png": "[encoded data removed]",
            "text/plain": [
              "<Figure size 432x288 with 1 Axes>"
            ]
          },
          "metadata": {
            "needs_background": "light"
          }
        }
      ]
    },
    {
      "cell_type": "markdown",
      "source": [
        "It is possible that the Airline Passengers dataset shows a quadratic growth. If this is the case, then we could expect a square root transform to reduce the growth trend to be linear and change the distribution of observations to be perhaps nearly Gaussian."
      ],
      "metadata": {
        "id": "lxy_cGhCnkWs"
      }
    },
    {
      "cell_type": "markdown",
      "source": [
        "### Implementation Power Transform (SQRT) on Real Datasets"
      ],
      "metadata": {
        "id": "95iJx1puoC1J"
      }
    },
    {
      "cell_type": "code",
      "source": [
        "!head /content/airline_passengers.csv"
      ],
      "metadata": {
        "colab": {
          "base_uri": "https://localhost:8080/"
        },
        "id": "kD1sp_pWn5SH",
        "outputId": "833b9832-3f05-43f0-f6ba-47c375be458e"
      },
      "execution_count": null,
      "outputs": [
        {
          "output_type": "stream",
          "name": "stdout",
          "text": [
            "\"Month\",\"Passengers\"\n",
            "\"1949-01\",112\n",
            "\"1949-02\",118\n",
            "\"1949-03\",132\n",
            "\"1949-04\",129\n",
            "\"1949-05\",121\n",
            "\"1949-06\",135\n",
            "\"1949-07\",148\n",
            "\"1949-08\",148\n",
            "\"1949-09\",136\n"
          ]
        }
      ]
    },
    {
      "cell_type": "code",
      "source": [
        "series = pd.read_csv('/content/airline_passengers.csv', index_col='Month', parse_dates=True)\n",
        "series"
      ],
      "metadata": {
        "colab": {
          "base_uri": "https://localhost:8080/",
          "height": 455
        },
        "id": "3pNoFK4rnfHD",
        "outputId": "0b7d34c6-6ee8-4e4d-ed25-d0133892ae29"
      },
      "execution_count": null,
      "outputs": [
        {
          "output_type": "execute_result",
          "data": {
            "text/html": [
              "\n",
              "  <div id=\"df-ae426b5e-2ac8-4280-bf3e-062989095bbf\">\n",
              "    <div class=\"colab-df-container\">\n",
              "      <div>\n",
              "<style scoped>\n",
              "    .dataframe tbody tr th:only-of-type {\n",
              "        vertical-align: middle;\n",
              "    }\n",
              "\n",
              "    .dataframe tbody tr th {\n",
              "        vertical-align: top;\n",
              "    }\n",
              "\n",
              "    .dataframe thead th {\n",
              "        text-align: right;\n",
              "    }\n",
              "</style>\n",
              "<table border=\"1\" class=\"dataframe\">\n",
              "  <thead>\n",
              "    <tr style=\"text-align: right;\">\n",
              "      <th></th>\n",
              "      <th>Passengers</th>\n",
              "    </tr>\n",
              "    <tr>\n",
              "      <th>Month</th>\n",
              "      <th></th>\n",
              "    </tr>\n",
              "  </thead>\n",
              "  <tbody>\n",
              "    <tr>\n",
              "      <th>1949-01-01</th>\n",
              "      <td>112</td>\n",
              "    </tr>\n",
              "    <tr>\n",
              "      <th>1949-02-01</th>\n",
              "      <td>118</td>\n",
              "    </tr>\n",
              "    <tr>\n",
              "      <th>1949-03-01</th>\n",
              "      <td>132</td>\n",
              "    </tr>\n",
              "    <tr>\n",
              "      <th>1949-04-01</th>\n",
              "      <td>129</td>\n",
              "    </tr>\n",
              "    <tr>\n",
              "      <th>1949-05-01</th>\n",
              "      <td>121</td>\n",
              "    </tr>\n",
              "    <tr>\n",
              "      <th>...</th>\n",
              "      <td>...</td>\n",
              "    </tr>\n",
              "    <tr>\n",
              "      <th>1960-08-01</th>\n",
              "      <td>606</td>\n",
              "    </tr>\n",
              "    <tr>\n",
              "      <th>1960-09-01</th>\n",
              "      <td>508</td>\n",
              "    </tr>\n",
              "    <tr>\n",
              "      <th>1960-10-01</th>\n",
              "      <td>461</td>\n",
              "    </tr>\n",
              "    <tr>\n",
              "      <th>1960-11-01</th>\n",
              "      <td>390</td>\n",
              "    </tr>\n",
              "    <tr>\n",
              "      <th>1960-12-01</th>\n",
              "      <td>432</td>\n",
              "    </tr>\n",
              "  </tbody>\n",
              "</table>\n",
              "<p>144 rows × 1 columns</p>\n",
              "</div>\n",
              "      <button class=\"colab-df-convert\" onclick=\"convertToInteractive('df-ae426b5e-2ac8-4280-bf3e-062989095bbf')\"\n",
              "              title=\"Convert this dataframe to an interactive table.\"\n",
              "              style=\"display:none;\">\n",
              "        \n",
              "  <svg xmlns=\"http://www.w3.org/2000/svg\" height=\"24px\"viewBox=\"0 0 24 24\"\n",
              "       width=\"24px\">\n",
              "    <path d=\"M0 0h24v24H0V0z\" fill=\"none\"/>\n",
              "    <path d=\"M18.56 5.44l.94 2.06.94-2.06 2.06-.94-2.06-.94-.94-2.06-.94 2.06-2.06.94zm-11 1L8.5 8.5l.94-2.06 2.06-.94-2.06-.94L8.5 2.5l-.94 2.06-2.06.94zm10 10l.94 2.06.94-2.06 2.06-.94-2.06-.94-.94-2.06-.94 2.06-2.06.94z\"/><path d=\"M17.41 7.96l-1.37-1.37c-.4-.4-.92-.59-1.43-.59-.52 0-1.04.2-1.43.59L10.3 9.45l-7.72 7.72c-.78.78-.78 2.05 0 2.83L4 21.41c.39.39.9.59 1.41.59.51 0 1.02-.2 1.41-.59l7.78-7.78 2.81-2.81c.8-.78.8-2.07 0-2.86zM5.41 20L4 18.59l7.72-7.72 1.47 1.35L5.41 20z\"/>\n",
              "  </svg>\n",
              "      </button>\n",
              "      \n",
              "  <style>\n",
              "    .colab-df-container {\n",
              "      display:flex;\n",
              "      flex-wrap:wrap;\n",
              "      gap: 12px;\n",
              "    }\n",
              "\n",
              "    .colab-df-convert {\n",
              "      background-color: #E8F0FE;\n",
              "      border: none;\n",
              "      border-radius: 50%;\n",
              "      cursor: pointer;\n",
              "      display: none;\n",
              "      fill: #1967D2;\n",
              "      height: 32px;\n",
              "      padding: 0 0 0 0;\n",
              "      width: 32px;\n",
              "    }\n",
              "\n",
              "    .colab-df-convert:hover {\n",
              "      background-color: #E2EBFA;\n",
              "      box-shadow: 0px 1px 2px rgba(60, 64, 67, 0.3), 0px 1px 3px 1px rgba(60, 64, 67, 0.15);\n",
              "      fill: #174EA6;\n",
              "    }\n",
              "\n",
              "    [theme=dark] .colab-df-convert {\n",
              "      background-color: #3B4455;\n",
              "      fill: #D2E3FC;\n",
              "    }\n",
              "\n",
              "    [theme=dark] .colab-df-convert:hover {\n",
              "      background-color: #434B5C;\n",
              "      box-shadow: 0px 1px 3px 1px rgba(0, 0, 0, 0.15);\n",
              "      filter: drop-shadow(0px 1px 2px rgba(0, 0, 0, 0.3));\n",
              "      fill: #FFFFFF;\n",
              "    }\n",
              "  </style>\n",
              "\n",
              "      <script>\n",
              "        const buttonEl =\n",
              "          document.querySelector('#df-ae426b5e-2ac8-4280-bf3e-062989095bbf button.colab-df-convert');\n",
              "        buttonEl.style.display =\n",
              "          google.colab.kernel.accessAllowed ? 'block' : 'none';\n",
              "\n",
              "        async function convertToInteractive(key) {\n",
              "          const element = document.querySelector('#df-ae426b5e-2ac8-4280-bf3e-062989095bbf');\n",
              "          const dataTable =\n",
              "            await google.colab.kernel.invokeFunction('convertToInteractive',\n",
              "                                                     [key], {});\n",
              "          if (!dataTable) return;\n",
              "\n",
              "          const docLinkHtml = 'Like what you see? Visit the ' +\n",
              "            '<a target=\"_blank\" href=https://colab.research.google.com/notebooks/data_table.ipynb>data table notebook</a>'\n",
              "            + ' to learn more about interactive tables.';\n",
              "          element.innerHTML = '';\n",
              "          dataTable['output_type'] = 'display_data';\n",
              "          await google.colab.output.renderOutput(dataTable, element);\n",
              "          const docLink = document.createElement('div');\n",
              "          docLink.innerHTML = docLinkHtml;\n",
              "          element.appendChild(docLink);\n",
              "        }\n",
              "      </script>\n",
              "    </div>\n",
              "  </div>\n",
              "  "
            ],
            "text/plain": [
              "            Passengers\n",
              "Month                 \n",
              "1949-01-01         112\n",
              "1949-02-01         118\n",
              "1949-03-01         132\n",
              "1949-04-01         129\n",
              "1949-05-01         121\n",
              "...                ...\n",
              "1960-08-01         606\n",
              "1960-09-01         508\n",
              "1960-10-01         461\n",
              "1960-11-01         390\n",
              "1960-12-01         432\n",
              "\n",
              "[144 rows x 1 columns]"
            ]
          },
          "metadata": {},
          "execution_count": 74
        }
      ]
    },
    {
      "cell_type": "code",
      "source": [
        "# Make a column for store values Square Root from passengers columns\n",
        "series['SqrtPassengers'] = np.sqrt(series['Passengers'])\n",
        "series['SqrtPassengers']"
      ],
      "metadata": {
        "colab": {
          "base_uri": "https://localhost:8080/"
        },
        "id": "s_yFYCwfoBUJ",
        "outputId": "6e7c6356-1422-4584-93e9-4cd1cdcef4ff"
      },
      "execution_count": null,
      "outputs": [
        {
          "output_type": "execute_result",
          "data": {
            "text/plain": [
              "Month\n",
              "1949-01-01    10.583005\n",
              "1949-02-01    10.862780\n",
              "1949-03-01    11.489125\n",
              "1949-04-01    11.357817\n",
              "1949-05-01    11.000000\n",
              "                ...    \n",
              "1960-08-01    24.617067\n",
              "1960-09-01    22.538855\n",
              "1960-10-01    21.470911\n",
              "1960-11-01    19.748418\n",
              "1960-12-01    20.784610\n",
              "Name: SqrtPassengers, Length: 144, dtype: float64"
            ]
          },
          "metadata": {},
          "execution_count": 75
        }
      ]
    },
    {
      "cell_type": "markdown",
      "source": [
        "**Line Plot**\n",
        "\n",
        "Line Plot for Dataset Airline Passengers"
      ],
      "metadata": {
        "id": "yWWeK5xDooZ8"
      }
    },
    {
      "cell_type": "code",
      "source": [
        "plt.plot(series['SqrtPassengers'])"
      ],
      "metadata": {
        "colab": {
          "base_uri": "https://localhost:8080/",
          "height": 282
        },
        "id": "Hpbtjm0uoY9L",
        "outputId": "51584c37-e3b2-498c-ec55-af012cbd6c12"
      },
      "execution_count": null,
      "outputs": [
        {
          "output_type": "execute_result",
          "data": {
            "text/plain": [
              "[<matplotlib.lines.Line2D at 0x7fa5eb47dd90>]"
            ]
          },
          "metadata": {},
          "execution_count": 76
        },
        {
          "output_type": "display_data",
          "data": {
            "image/png": "[encoded data removed]",
            "text/plain": [
              "<Figure size 432x288 with 1 Axes>"
            ]
          },
          "metadata": {
            "needs_background": "light"
          }
        }
      ]
    },
    {
      "cell_type": "markdown",
      "source": [
        "**Histogram**\n",
        "\n",
        "Histogram for Dataset Airline Passengers"
      ],
      "metadata": {
        "id": "it4V4-dlo67O"
      }
    },
    {
      "cell_type": "code",
      "source": [
        "plt.hist(series['SqrtPassengers'], bins=20)"
      ],
      "metadata": {
        "colab": {
          "base_uri": "https://localhost:8080/",
          "height": 404
        },
        "id": "ZwOwkAbfow5n",
        "outputId": "83888795-4c51-40cc-93d7-0cac922ada81"
      },
      "execution_count": null,
      "outputs": [
        {
          "output_type": "execute_result",
          "data": {
            "text/plain": [
              "(array([ 7.,  9.,  8.,  9.,  9., 11., 10.,  7., 10.,  7.,  8., 15.,  5.,\n",
              "        11.,  3.,  7.,  3.,  2.,  1.,  2.]),\n",
              " array([10.19803903, 10.93513347, 11.67222791, 12.40932235, 13.14641679,\n",
              "        13.88351123, 14.62060567, 15.35770011, 16.09479455, 16.83188899,\n",
              "        17.56898343, 18.30607787, 19.04317231, 19.78026675, 20.51736119,\n",
              "        21.25445563, 21.99155007, 22.72864451, 23.46573895, 24.20283339,\n",
              "        24.93992783]),\n",
              " <a list of 20 Patch objects>)"
            ]
          },
          "metadata": {},
          "execution_count": 77
        },
        {
          "output_type": "display_data",
          "data": {
            "image/png": "[encoded data removed]",
            "text/plain": [
              "<Figure size 432x288 with 1 Axes>"
            ]
          },
          "metadata": {
            "needs_background": "light"
          }
        }
      ]
    },
    {
      "cell_type": "markdown",
      "source": [
        "## Log Transform\n",
        "A class of more extreme trends are exponential, often graphed as a hockey stick.\n",
        "\n",
        "Time series with an exponential distribution can be made linear by taking the logarithm of the values. This is called a log transform.\n",
        "\n",
        "As with the square and square root case above, we can demonstrate this with a quick example."
      ],
      "metadata": {
        "id": "Uzh6btP0peOE"
      }
    },
    {
      "cell_type": "code",
      "source": [
        "from math import exp\n",
        "log_transform = [exp(i) for i in range(1, 100)]\n",
        "log_transform"
      ],
      "metadata": {
        "colab": {
          "base_uri": "https://localhost:8080/"
        },
        "id": "e6oFBJxYpLQT",
        "outputId": "57ab4d6a-0a93-4028-98ef-31931fcb7764"
      },
      "execution_count": null,
      "outputs": [
        {
          "output_type": "execute_result",
          "data": {
            "text/plain": [
              "[2.718281828459045,\n",
              " 7.38905609893065,\n",
              " 20.085536923187668,\n",
              " 54.598150033144236,\n",
              " 148.4131591025766,\n",
              " 403.4287934927351,\n",
              " 1096.6331584284585,\n",
              " 2980.9579870417283,\n",
              " 8103.083927575384,\n",
              " 22026.465794806718,\n",
              " 59874.14171519782,\n",
              " 162754.79141900392,\n",
              " 442413.3920089205,\n",
              " 1202604.2841647768,\n",
              " 3269017.3724721107,\n",
              " 8886110.520507872,\n",
              " 24154952.7535753,\n",
              " 65659969.13733051,\n",
              " 178482300.96318725,\n",
              " 485165195.4097903,\n",
              " 1318815734.4832146,\n",
              " 3584912846.131592,\n",
              " 9744803446.248903,\n",
              " 26489122129.84347,\n",
              " 72004899337.38588,\n",
              " 195729609428.83878,\n",
              " 532048240601.79865,\n",
              " 1446257064291.475,\n",
              " 3931334297144.042,\n",
              " 10686474581524.463,\n",
              " 29048849665247.426,\n",
              " 78962960182680.69,\n",
              " 214643579785916.06,\n",
              " 583461742527454.9,\n",
              " 1586013452313430.8,\n",
              " 4311231547115195.0,\n",
              " 1.1719142372802612e+16,\n",
              " 3.1855931757113756e+16,\n",
              " 8.659340042399374e+16,\n",
              " 2.3538526683702e+17,\n",
              " 6.398434935300549e+17,\n",
              " 1.739274941520501e+18,\n",
              " 4.727839468229346e+18,\n",
              " 1.2851600114359308e+19,\n",
              " 3.4934271057485095e+19,\n",
              " 9.496119420602448e+19,\n",
              " 2.5813128861900675e+20,\n",
              " 7.016735912097631e+20,\n",
              " 1.9073465724950998e+21,\n",
              " 5.184705528587072e+21,\n",
              " 1.4093490824269389e+22,\n",
              " 3.831008000716577e+22,\n",
              " 1.0413759433029089e+23,\n",
              " 2.830753303274694e+23,\n",
              " 7.694785265142018e+23,\n",
              " 2.091659496012996e+24,\n",
              " 5.685719999335932e+24,\n",
              " 1.545538935590104e+25,\n",
              " 4.2012104037905144e+25,\n",
              " 1.1420073898156842e+26,\n",
              " 3.10429793570192e+26,\n",
              " 8.438356668741454e+26,\n",
              " 2.29378315946961e+27,\n",
              " 6.235149080811617e+27,\n",
              " 1.6948892444103338e+28,\n",
              " 4.607186634331292e+28,\n",
              " 1.2523631708422137e+29,\n",
              " 3.404276049931741e+29,\n",
              " 9.253781725587787e+29,\n",
              " 2.515438670919167e+30,\n",
              " 6.837671229762744e+30,\n",
              " 1.8586717452841279e+31,\n",
              " 5.052393630276104e+31,\n",
              " 1.3733829795401761e+32,\n",
              " 3.7332419967990015e+32,\n",
              " 1.0148003881138887e+33,\n",
              " 2.7585134545231703e+33,\n",
              " 7.498416996990121e+33,\n",
              " 2.0382810665126688e+34,\n",
              " 5.54062238439351e+34,\n",
              " 1.5060973145850306e+35,\n",
              " 4.0939969621274545e+35,\n",
              " 1.1128637547917594e+36,\n",
              " 3.0250773222011426e+36,\n",
              " 8.223012714622913e+36,\n",
              " 2.235246603734715e+37,\n",
              " 6.076030225056872e+37,\n",
              " 1.6516362549940018e+38,\n",
              " 4.4896128191743455e+38,\n",
              " 1.2204032943178408e+39,\n",
              " 3.317400098335743e+39,\n",
              " 9.017628405034299e+39,\n",
              " 2.451245542920086e+40,\n",
              " 6.663176216410896e+40,\n",
              " 1.8112390828890233e+41,\n",
              " 4.923458286012058e+41,\n",
              " 1.3383347192042695e+42,\n",
              " 3.637970947608805e+42,\n",
              " 9.889030319346946e+42]"
            ]
          },
          "metadata": {},
          "execution_count": 78
        }
      ]
    },
    {
      "cell_type": "markdown",
      "source": [
        "**Line Plot**"
      ],
      "metadata": {
        "id": "CKtIlZ9cqUPn"
      }
    },
    {
      "cell_type": "code",
      "source": [
        "plt.plot(log_transform)"
      ],
      "metadata": {
        "colab": {
          "base_uri": "https://localhost:8080/",
          "height": 293
        },
        "id": "nJeGApT3qA-u",
        "outputId": "84f2ee93-df93-41ea-b5ad-09f5f01ee4ea"
      },
      "execution_count": null,
      "outputs": [
        {
          "output_type": "execute_result",
          "data": {
            "text/plain": [
              "[<matplotlib.lines.Line2D at 0x7fa5eb1815d0>]"
            ]
          },
          "metadata": {},
          "execution_count": 79
        },
        {
          "output_type": "display_data",
          "data": {
            "image/png": "[encoded data removed]",
            "text/plain": [
              "<Figure size 432x288 with 1 Axes>"
            ]
          },
          "metadata": {
            "needs_background": "light"
          }
        }
      ]
    },
    {
      "cell_type": "markdown",
      "source": [
        "**Histogram**\n"
      ],
      "metadata": {
        "id": "WiQf8sQvqYf6"
      }
    },
    {
      "cell_type": "code",
      "source": [
        "plt.hist(log_transform)"
      ],
      "metadata": {
        "colab": {
          "base_uri": "https://localhost:8080/",
          "height": 368
        },
        "id": "zMtF5JhNqXny",
        "outputId": "8800182e-93ec-42dd-e646-3c93e266d41f"
      },
      "execution_count": null,
      "outputs": [
        {
          "output_type": "execute_result",
          "data": {
            "text/plain": [
              "(array([96.,  1.,  0.,  1.,  0.,  0.,  0.,  0.,  0.,  1.]),\n",
              " array([2.71828183e+00, 9.88903032e+41, 1.97780606e+42, 2.96670910e+42,\n",
              "        3.95561213e+42, 4.94451516e+42, 5.93341819e+42, 6.92232122e+42,\n",
              "        7.91122426e+42, 8.90012729e+42, 9.88903032e+42]),\n",
              " <a list of 10 Patch objects>)"
            ]
          },
          "metadata": {},
          "execution_count": 80
        },
        {
          "output_type": "display_data",
          "data": {
            "image/png": "[encoded data removed]",
            "text/plain": [
              "<Figure size 432x288 with 1 Axes>"
            ]
          },
          "metadata": {
            "needs_background": "light"
          }
        }
      ]
    },
    {
      "cell_type": "markdown",
      "source": [
        "We see an extreme increase on the line graph and an equally extreme long tail distribution on the histogram.\n",
        "\n",
        "Again, we can transform this series back to linear by taking the natural logarithm of the values.\n",
        "\n",
        "This would make the series linear and the distribution uniform. The example below demonstrates this for completeness."
      ],
      "metadata": {
        "id": "m_74wJAIqjkE"
      }
    },
    {
      "cell_type": "code",
      "source": [
        "import numpy as np\n",
        "\n",
        "transform = np.log(log_transform)\n",
        "transform"
      ],
      "metadata": {
        "colab": {
          "base_uri": "https://localhost:8080/"
        },
        "id": "-Z6_MS7rqe6e",
        "outputId": "fad2ea1b-f764-4104-e841-3965a52d5b5c"
      },
      "execution_count": null,
      "outputs": [
        {
          "output_type": "execute_result",
          "data": {
            "text/plain": [
              "array([ 1.,  2.,  3.,  4.,  5.,  6.,  7.,  8.,  9., 10., 11., 12., 13.,\n",
              "       14., 15., 16., 17., 18., 19., 20., 21., 22., 23., 24., 25., 26.,\n",
              "       27., 28., 29., 30., 31., 32., 33., 34., 35., 36., 37., 38., 39.,\n",
              "       40., 41., 42., 43., 44., 45., 46., 47., 48., 49., 50., 51., 52.,\n",
              "       53., 54., 55., 56., 57., 58., 59., 60., 61., 62., 63., 64., 65.,\n",
              "       66., 67., 68., 69., 70., 71., 72., 73., 74., 75., 76., 77., 78.,\n",
              "       79., 80., 81., 82., 83., 84., 85., 86., 87., 88., 89., 90., 91.,\n",
              "       92., 93., 94., 95., 96., 97., 98., 99.])"
            ]
          },
          "metadata": {},
          "execution_count": 81
        }
      ]
    },
    {
      "cell_type": "markdown",
      "source": [
        "**Line Plot**\n",
        "\n",
        "Line Plot for Log Transform"
      ],
      "metadata": {
        "id": "HbP7fFU8q4g4"
      }
    },
    {
      "cell_type": "code",
      "source": [
        "plt.plot(transform)"
      ],
      "metadata": {
        "colab": {
          "base_uri": "https://localhost:8080/",
          "height": 282
        },
        "id": "bKpdYnYOqzAv",
        "outputId": "7129d5a9-8e05-40ae-f6f3-9215dbe5c3fc"
      },
      "execution_count": null,
      "outputs": [
        {
          "output_type": "execute_result",
          "data": {
            "text/plain": [
              "[<matplotlib.lines.Line2D at 0x7fa5eb082090>]"
            ]
          },
          "metadata": {},
          "execution_count": 82
        },
        {
          "output_type": "display_data",
          "data": {
            "image/png": "[encoded data removed]",
            "text/plain": [
              "<Figure size 432x288 with 1 Axes>"
            ]
          },
          "metadata": {
            "needs_background": "light"
          }
        }
      ]
    },
    {
      "cell_type": "markdown",
      "source": [
        "Histogram\n",
        "\n",
        "Histogram for Log Transform"
      ],
      "metadata": {
        "id": "esCCgz1IrGUG"
      }
    },
    {
      "cell_type": "code",
      "source": [
        "plt.hist(transform, bins=20)"
      ],
      "metadata": {
        "colab": {
          "base_uri": "https://localhost:8080/",
          "height": 352
        },
        "id": "z2iImz5qq3kz",
        "outputId": "0223fa34-6227-438b-a4a2-ba2bf1dfeb3c"
      },
      "execution_count": null,
      "outputs": [
        {
          "output_type": "execute_result",
          "data": {
            "text/plain": [
              "(array([5., 5., 5., 5., 5., 5., 5., 5., 5., 4., 5., 5., 5., 5., 5., 5., 5.,\n",
              "        5., 5., 5.]),\n",
              " array([ 1. ,  5.9, 10.8, 15.7, 20.6, 25.5, 30.4, 35.3, 40.2, 45.1, 50. ,\n",
              "        54.9, 59.8, 64.7, 69.6, 74.5, 79.4, 84.3, 89.2, 94.1, 99. ]),\n",
              " <a list of 20 Patch objects>)"
            ]
          },
          "metadata": {},
          "execution_count": 96
        },
        {
          "output_type": "display_data",
          "data": {
            "image/png": "[encoded data removed]",
            "text/plain": [
              "<Figure size 432x288 with 1 Axes>"
            ]
          },
          "metadata": {
            "needs_background": "light"
          }
        }
      ]
    },
    {
      "cell_type": "markdown",
      "source": [
        "Our Airline Passengers dataset has a distribution of this form, but perhaps not this extreme."
      ],
      "metadata": {
        "id": "MjDT64XqrVvb"
      }
    },
    {
      "cell_type": "markdown",
      "source": [
        "### Implementation Log Transform (Log) on Real Datasets"
      ],
      "metadata": {
        "id": "ftE1Via0rVeW"
      }
    },
    {
      "cell_type": "code",
      "source": [
        "# series = pd.read_csv('/content/airline_passengers.csv', index_col='Month', parse_dates=True)\n",
        "# series"
      ],
      "metadata": {
        "id": "MmiMz8zCrMAh"
      },
      "execution_count": null,
      "outputs": []
    },
    {
      "cell_type": "code",
      "source": [
        "# Make a column for log transform from Passengers column\n",
        "series['LogTransform'] = np.log(series['Passengers'])\n",
        "series['LogTransform']"
      ],
      "metadata": {
        "colab": {
          "base_uri": "https://localhost:8080/"
        },
        "id": "cRt1gBzyrlBw",
        "outputId": "3a0b92e4-6aa9-4f80-e467-d5e5febcdff4"
      },
      "execution_count": null,
      "outputs": [
        {
          "output_type": "execute_result",
          "data": {
            "text/plain": [
              "Month\n",
              "1949-01-01    4.718499\n",
              "1949-02-01    4.770685\n",
              "1949-03-01    4.882802\n",
              "1949-04-01    4.859812\n",
              "1949-05-01    4.795791\n",
              "                ...   \n",
              "1960-08-01    6.406880\n",
              "1960-09-01    6.230481\n",
              "1960-10-01    6.133398\n",
              "1960-11-01    5.966147\n",
              "1960-12-01    6.068426\n",
              "Name: LogTransform, Length: 144, dtype: float64"
            ]
          },
          "metadata": {},
          "execution_count": 85
        }
      ]
    },
    {
      "cell_type": "markdown",
      "source": [
        "Line Plot\n",
        "\n",
        "Line Plot for Log Transform in Airline Passengers"
      ],
      "metadata": {
        "id": "-m6yzzkGr4By"
      }
    },
    {
      "cell_type": "code",
      "source": [
        "plt.plot(series['LogTransform'])"
      ],
      "metadata": {
        "colab": {
          "base_uri": "https://localhost:8080/",
          "height": 284
        },
        "id": "ovXdNuLQr24n",
        "outputId": "695e7e4e-06ab-4145-caf1-e841bb7df3cd"
      },
      "execution_count": null,
      "outputs": [
        {
          "output_type": "execute_result",
          "data": {
            "text/plain": [
              "[<matplotlib.lines.Line2D at 0x7fa5eafbae10>]"
            ]
          },
          "metadata": {},
          "execution_count": 86
        },
        {
          "output_type": "display_data",
          "data": {
            "image/png": "[encoded data removed]",
            "text/plain": [
              "<Figure size 432x288 with 1 Axes>"
            ]
          },
          "metadata": {
            "needs_background": "light"
          }
        }
      ]
    },
    {
      "cell_type": "markdown",
      "source": [
        "**Histogram**\n",
        "\n",
        "Histogram for Log Transform in Airline Passengers"
      ],
      "metadata": {
        "id": "Ho4GopsgsCSX"
      }
    },
    {
      "cell_type": "code",
      "source": [
        "plt.hist(series['LogTransform'])"
      ],
      "metadata": {
        "colab": {
          "base_uri": "https://localhost:8080/",
          "height": 352
        },
        "id": "NzHf-lkEsAyS",
        "outputId": "3122f63d-4c83-4119-fd67-17c599f1f414"
      },
      "execution_count": null,
      "outputs": [
        {
          "output_type": "execute_result",
          "data": {
            "text/plain": [
              "(array([ 8., 14., 11., 20., 16., 15., 27., 17., 11.,  5.]),\n",
              " array([4.6443909 , 4.82324582, 5.00210074, 5.18095566, 5.35981058,\n",
              "        5.5386655 , 5.71752042, 5.89637533, 6.07523025, 6.25408517,\n",
              "        6.43294009]),\n",
              " <a list of 10 Patch objects>)"
            ]
          },
          "metadata": {},
          "execution_count": 87
        },
        {
          "output_type": "display_data",
          "data": {
            "image/png": "[encoded data removed]",
            "text/plain": [
              "<Figure size 432x288 with 1 Axes>"
            ]
          },
          "metadata": {
            "needs_background": "light"
          }
        }
      ]
    },
    {
      "cell_type": "markdown",
      "source": [
        "Log transforms are popular with time series data as they are effective at removing exponential variance.\n",
        "\n",
        "It is important to note that this operation assumes values are positive and non-zero. It is common to transform observations by adding a fixed constant to ensure all input values meet this requirement. For example:\n",
        "`transform = log(constant + x)`\n",
        "\n",
        "Where transform is the transformed series, constant is a fixed value that lifts all observations above zero, and x is the time series."
      ],
      "metadata": {
        "id": "-RwMyp2osQTq"
      }
    },
    {
      "cell_type": "markdown",
      "source": [
        "## Box-Cox Transform\n",
        "\n",
        "The square root transform and log transform belong to a class of transforms called power transforms.\n",
        "\n",
        "The Box-Cox transform is a configurable data transform method that supports both square root and log transform, as well as a suite of related transforms.\n",
        "\n",
        "More than that, it can be configured to evaluate a suite of transforms automatically and select a best fit. It can be thought of as a power tool to iron out power-based change in your time series. The resulting series may be more linear and the resulting distribution more Gaussian or Uniform, depending on the underlying process that generated it.\n",
        "\n",
        "The scipy.stats library provides an implementation of the Box-Cox transform. The boxcox() function takes an argument, called lambda, that controls the type of transform to perform.\n",
        "\n",
        "Below are some common values for lambda\n",
        "\n",
        "* lambda = -1. is a reciprocal transform.\n",
        "* lambda = -0.5 is a reciprocal square root transform.\n",
        "* lambda = 0.0 is a log transform.\n",
        "* lambda = 0.5 is a square root transform.\n",
        "* lambda = 1.0 is no transform."
      ],
      "metadata": {
        "id": "2QHPi_YfsY2R"
      }
    },
    {
      "cell_type": "code",
      "source": [
        "from scipy.stats import boxcox\n",
        "\n",
        "# series = pd.read_csv('/content/airline_passengers.csv', index_col='Month', parse_dates=True)\n",
        "# series"
      ],
      "metadata": {
        "id": "tDfqB3--sKsH"
      },
      "execution_count": null,
      "outputs": []
    },
    {
      "cell_type": "code",
      "source": [
        "# We're gonna define how big lam (lambda) from passengers using boxcox function\n",
        "data, lam = boxcox(series['Passengers'])"
      ],
      "metadata": {
        "id": "I8vxBXIetHP5"
      },
      "execution_count": null,
      "outputs": []
    },
    {
      "cell_type": "code",
      "source": [
        "lam"
      ],
      "metadata": {
        "colab": {
          "base_uri": "https://localhost:8080/"
        },
        "id": "yQHsyFTItj1y",
        "outputId": "e9662d11-e75c-4f9d-832e-f5a681d171d7"
      },
      "execution_count": null,
      "outputs": [
        {
          "output_type": "execute_result",
          "data": {
            "text/plain": [
              "0.14802265137037945"
            ]
          },
          "metadata": {},
          "execution_count": 90
        }
      ]
    },
    {
      "cell_type": "code",
      "source": [
        "# Declare new column based on result boxcox\n",
        "series['BoxCoxPassengers'] = data\n",
        "series.head()"
      ],
      "metadata": {
        "colab": {
          "base_uri": "https://localhost:8080/",
          "height": 238
        },
        "id": "wCfzoJaStkln",
        "outputId": "bf4112d6-d219-429e-fd0c-4c2d6eba4c59"
      },
      "execution_count": null,
      "outputs": [
        {
          "output_type": "execute_result",
          "data": {
            "text/html": [
              "\n",
              "  <div id=\"df-c4cf4587-cc31-459f-8d37-36b6148fc71c\">\n",
              "    <div class=\"colab-df-container\">\n",
              "      <div>\n",
              "<style scoped>\n",
              "    .dataframe tbody tr th:only-of-type {\n",
              "        vertical-align: middle;\n",
              "    }\n",
              "\n",
              "    .dataframe tbody tr th {\n",
              "        vertical-align: top;\n",
              "    }\n",
              "\n",
              "    .dataframe thead th {\n",
              "        text-align: right;\n",
              "    }\n",
              "</style>\n",
              "<table border=\"1\" class=\"dataframe\">\n",
              "  <thead>\n",
              "    <tr style=\"text-align: right;\">\n",
              "      <th></th>\n",
              "      <th>Passengers</th>\n",
              "      <th>SqrtPassengers</th>\n",
              "      <th>LogTransform</th>\n",
              "      <th>BoxCoxPassengers</th>\n",
              "    </tr>\n",
              "    <tr>\n",
              "      <th>Month</th>\n",
              "      <th></th>\n",
              "      <th></th>\n",
              "      <th></th>\n",
              "      <th></th>\n",
              "    </tr>\n",
              "  </thead>\n",
              "  <tbody>\n",
              "    <tr>\n",
              "      <th>1949-01-01</th>\n",
              "      <td>112</td>\n",
              "      <td>10.583005</td>\n",
              "      <td>4.718499</td>\n",
              "      <td>6.827490</td>\n",
              "    </tr>\n",
              "    <tr>\n",
              "      <th>1949-02-01</th>\n",
              "      <td>118</td>\n",
              "      <td>10.862780</td>\n",
              "      <td>4.770685</td>\n",
              "      <td>6.932822</td>\n",
              "    </tr>\n",
              "    <tr>\n",
              "      <th>1949-03-01</th>\n",
              "      <td>132</td>\n",
              "      <td>11.489125</td>\n",
              "      <td>4.882802</td>\n",
              "      <td>7.161892</td>\n",
              "    </tr>\n",
              "    <tr>\n",
              "      <th>1949-04-01</th>\n",
              "      <td>129</td>\n",
              "      <td>11.357817</td>\n",
              "      <td>4.859812</td>\n",
              "      <td>7.114611</td>\n",
              "    </tr>\n",
              "    <tr>\n",
              "      <th>1949-05-01</th>\n",
              "      <td>121</td>\n",
              "      <td>11.000000</td>\n",
              "      <td>4.795791</td>\n",
              "      <td>6.983787</td>\n",
              "    </tr>\n",
              "  </tbody>\n",
              "</table>\n",
              "</div>\n",
              "      <button class=\"colab-df-convert\" onclick=\"convertToInteractive('df-c4cf4587-cc31-459f-8d37-36b6148fc71c')\"\n",
              "              title=\"Convert this dataframe to an interactive table.\"\n",
              "              style=\"display:none;\">\n",
              "        \n",
              "  <svg xmlns=\"http://www.w3.org/2000/svg\" height=\"24px\"viewBox=\"0 0 24 24\"\n",
              "       width=\"24px\">\n",
              "    <path d=\"M0 0h24v24H0V0z\" fill=\"none\"/>\n",
              "    <path d=\"M18.56 5.44l.94 2.06.94-2.06 2.06-.94-2.06-.94-.94-2.06-.94 2.06-2.06.94zm-11 1L8.5 8.5l.94-2.06 2.06-.94-2.06-.94L8.5 2.5l-.94 2.06-2.06.94zm10 10l.94 2.06.94-2.06 2.06-.94-2.06-.94-.94-2.06-.94 2.06-2.06.94z\"/><path d=\"M17.41 7.96l-1.37-1.37c-.4-.4-.92-.59-1.43-.59-.52 0-1.04.2-1.43.59L10.3 9.45l-7.72 7.72c-.78.78-.78 2.05 0 2.83L4 21.41c.39.39.9.59 1.41.59.51 0 1.02-.2 1.41-.59l7.78-7.78 2.81-2.81c.8-.78.8-2.07 0-2.86zM5.41 20L4 18.59l7.72-7.72 1.47 1.35L5.41 20z\"/>\n",
              "  </svg>\n",
              "      </button>\n",
              "      \n",
              "  <style>\n",
              "    .colab-df-container {\n",
              "      display:flex;\n",
              "      flex-wrap:wrap;\n",
              "      gap: 12px;\n",
              "    }\n",
              "\n",
              "    .colab-df-convert {\n",
              "      background-color: #E8F0FE;\n",
              "      border: none;\n",
              "      border-radius: 50%;\n",
              "      cursor: pointer;\n",
              "      display: none;\n",
              "      fill: #1967D2;\n",
              "      height: 32px;\n",
              "      padding: 0 0 0 0;\n",
              "      width: 32px;\n",
              "    }\n",
              "\n",
              "    .colab-df-convert:hover {\n",
              "      background-color: #E2EBFA;\n",
              "      box-shadow: 0px 1px 2px rgba(60, 64, 67, 0.3), 0px 1px 3px 1px rgba(60, 64, 67, 0.15);\n",
              "      fill: #174EA6;\n",
              "    }\n",
              "\n",
              "    [theme=dark] .colab-df-convert {\n",
              "      background-color: #3B4455;\n",
              "      fill: #D2E3FC;\n",
              "    }\n",
              "\n",
              "    [theme=dark] .colab-df-convert:hover {\n",
              "      background-color: #434B5C;\n",
              "      box-shadow: 0px 1px 3px 1px rgba(0, 0, 0, 0.15);\n",
              "      filter: drop-shadow(0px 1px 2px rgba(0, 0, 0, 0.3));\n",
              "      fill: #FFFFFF;\n",
              "    }\n",
              "  </style>\n",
              "\n",
              "      <script>\n",
              "        const buttonEl =\n",
              "          document.querySelector('#df-c4cf4587-cc31-459f-8d37-36b6148fc71c button.colab-df-convert');\n",
              "        buttonEl.style.display =\n",
              "          google.colab.kernel.accessAllowed ? 'block' : 'none';\n",
              "\n",
              "        async function convertToInteractive(key) {\n",
              "          const element = document.querySelector('#df-c4cf4587-cc31-459f-8d37-36b6148fc71c');\n",
              "          const dataTable =\n",
              "            await google.colab.kernel.invokeFunction('convertToInteractive',\n",
              "                                                     [key], {});\n",
              "          if (!dataTable) return;\n",
              "\n",
              "          const docLinkHtml = 'Like what you see? Visit the ' +\n",
              "            '<a target=\"_blank\" href=https://colab.research.google.com/notebooks/data_table.ipynb>data table notebook</a>'\n",
              "            + ' to learn more about interactive tables.';\n",
              "          element.innerHTML = '';\n",
              "          dataTable['output_type'] = 'display_data';\n",
              "          await google.colab.output.renderOutput(dataTable, element);\n",
              "          const docLink = document.createElement('div');\n",
              "          docLink.innerHTML = docLinkHtml;\n",
              "          element.appendChild(docLink);\n",
              "        }\n",
              "      </script>\n",
              "    </div>\n",
              "  </div>\n",
              "  "
            ],
            "text/plain": [
              "            Passengers  SqrtPassengers  LogTransform  BoxCoxPassengers\n",
              "Month                                                                 \n",
              "1949-01-01         112       10.583005      4.718499          6.827490\n",
              "1949-02-01         118       10.862780      4.770685          6.932822\n",
              "1949-03-01         132       11.489125      4.882802          7.161892\n",
              "1949-04-01         129       11.357817      4.859812          7.114611\n",
              "1949-05-01         121       11.000000      4.795791          6.983787"
            ]
          },
          "metadata": {},
          "execution_count": 91
        }
      ]
    },
    {
      "cell_type": "markdown",
      "source": [
        "**Line Plot**\n",
        "\n",
        "Line Plot for BoxCox Transforms Airline Passengers"
      ],
      "metadata": {
        "id": "81B85Iuqt-A7"
      }
    },
    {
      "cell_type": "code",
      "source": [
        "plt.plot(series['BoxCoxPassengers'])"
      ],
      "metadata": {
        "colab": {
          "base_uri": "https://localhost:8080/",
          "height": 282
        },
        "id": "WNI-yaiVtyhG",
        "outputId": "50636105-dd0a-4cdd-f971-22213185f134"
      },
      "execution_count": null,
      "outputs": [
        {
          "output_type": "execute_result",
          "data": {
            "text/plain": [
              "[<matplotlib.lines.Line2D at 0x7fa5eaef5990>]"
            ]
          },
          "metadata": {},
          "execution_count": 92
        },
        {
          "output_type": "display_data",
          "data": {
            "image/png": "[encoded data removed]",
            "text/plain": [
              "<Figure size 432x288 with 1 Axes>"
            ]
          },
          "metadata": {
            "needs_background": "light"
          }
        }
      ]
    },
    {
      "cell_type": "markdown",
      "source": [
        "**Histogram**\n",
        "\n",
        "Histogram for BoxCox Transforms Airline Passengers"
      ],
      "metadata": {
        "id": "kYNOEAYEuTNj"
      }
    },
    {
      "cell_type": "code",
      "source": [
        "plt.hist(series['BoxCoxPassengers'])"
      ],
      "metadata": {
        "colab": {
          "base_uri": "https://localhost:8080/",
          "height": 352
        },
        "id": "FlTFT9HEt5PQ",
        "outputId": "ad96384b-85d2-4456-a971-a267e943a98a"
      },
      "execution_count": null,
      "outputs": [
        {
          "output_type": "execute_result",
          "data": {
            "text/plain": [
              "(array([10., 14., 16., 14., 20., 21., 18., 16., 10.,  5.]),\n",
              " array([ 6.67930112,  7.08651626,  7.4937314 ,  7.90094654,  8.30816169,\n",
              "         8.71537683,  9.12259197,  9.52980711,  9.93702225, 10.34423739,\n",
              "        10.75145254]),\n",
              " <a list of 10 Patch objects>)"
            ]
          },
          "metadata": {},
          "execution_count": 93
        },
        {
          "output_type": "display_data",
          "data": {
            "image/png": "[encoded data removed]",
            "text/plain": [
              "<Figure size 432x288 with 1 Axes>"
            ]
          },
          "metadata": {
            "needs_background": "light"
          }
        }
      ]
    },
    {
      "cell_type": "code",
      "source": [
        ""
      ],
      "metadata": {
        "id": "1YU81oy6ukk1"
      },
      "execution_count": null,
      "outputs": []
    }
  ]
}