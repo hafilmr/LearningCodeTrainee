{
  "nbformat": 4,
  "nbformat_minor": 0,
  "metadata": {
    "colab": {
      "name": "ANN Stocks",
      "provenance": [],
      "authorship_tag": "ABX9TyOA/elTHC3i1uTO6lJo7yb5",
      "include_colab_link": true
    },
    "kernelspec": {
      "name": "python3",
      "display_name": "Python 3"
    },
    "language_info": {
      "name": "python"
    }
  },
  "cells": [
    {
      "cell_type": "markdown",
      "metadata": {
        "id": "view-in-github",
        "colab_type": "text"
      },
      "source": [
        "<a href=\"https://colab.research.google.com/github/hafilmr/LearningCodeTrainee/blob/main/Deep%20Learning%20ANN/ANN_Stocks.ipynb\" target=\"_parent\"><img src=\"https://colab.research.google.com/assets/colab-badge.svg\" alt=\"Open In Colab\"/></a>"
      ]
    },
    {
      "cell_type": "markdown",
      "source": [
        "## **Import Library**"
      ],
      "metadata": {
        "id": "rNonJOPPp0cl"
      }
    },
    {
      "cell_type": "code",
      "execution_count": null,
      "metadata": {
        "id": "prjPZHT4ytL7"
      },
      "outputs": [],
      "source": [
        "import pandas as pd\n",
        "import numpy as np\n",
        "import matplotlib.pyplot as plt\n",
        "\n",
        "import tensorflow as tf\n",
        "from tensorflow.keras.layers import Dense, Input\n",
        "from tensorflow.keras.models import Model\n",
        "\n",
        "np.random.seed(123)\n",
        "tf.random.set_seed(123)"
      ]
    },
    {
      "cell_type": "code",
      "source": [
        "!pip install -U scikit-learn"
      ],
      "metadata": {
        "colab": {
          "base_uri": "https://localhost:8080/"
        },
        "id": "VoLr2KITyuRH",
        "outputId": "f97697da-0b52-405b-9268-7e1a72c056aa"
      },
      "execution_count": null,
      "outputs": [
        {
          "output_type": "stream",
          "name": "stdout",
          "text": [
            "Requirement already satisfied: scikit-learn in /usr/local/lib/python3.7/dist-packages (1.0.2)\n",
            "Requirement already satisfied: numpy>=1.14.6 in /usr/local/lib/python3.7/dist-packages (from scikit-learn) (1.19.5)\n",
            "Requirement already satisfied: scipy>=1.1.0 in /usr/local/lib/python3.7/dist-packages (from scikit-learn) (1.4.1)\n",
            "Requirement already satisfied: joblib>=0.11 in /usr/local/lib/python3.7/dist-packages (from scikit-learn) (1.1.0)\n",
            "Requirement already satisfied: threadpoolctl>=2.0.0 in /usr/local/lib/python3.7/dist-packages (from scikit-learn) (3.1.0)\n"
          ]
        }
      ]
    },
    {
      "cell_type": "code",
      "source": [
        "from sklearn.metrics import mean_absolute_percentage_error\n",
        "from sklearn.preprocessing import StandardScaler"
      ],
      "metadata": {
        "id": "Fz9RDMNqyybz"
      },
      "execution_count": null,
      "outputs": []
    },
    {
      "cell_type": "markdown",
      "source": [
        "## **Import Data**"
      ],
      "metadata": {
        "id": "KmdFK9MFpxD2"
      }
    },
    {
      "cell_type": "code",
      "source": [
        "!wget -nc https://lazyprogrammer.me/course_files/sp500sub.csv"
      ],
      "metadata": {
        "colab": {
          "base_uri": "https://localhost:8080/"
        },
        "id": "Zeyyc2Mhy92Z",
        "outputId": "e997fec7-c6ee-437d-bc19-f86fc3f11b16"
      },
      "execution_count": null,
      "outputs": [
        {
          "output_type": "stream",
          "name": "stdout",
          "text": [
            "File ‘sp500sub.csv’ already there; not retrieving.\n",
            "\n"
          ]
        }
      ]
    },
    {
      "cell_type": "code",
      "source": [
        "df0 = pd.read_csv('sp500sub.csv', index_col='Date', parse_dates=True)\n",
        "df0.head()"
      ],
      "metadata": {
        "colab": {
          "base_uri": "https://localhost:8080/",
          "height": 237
        },
        "id": "swK5CADDzB8u",
        "outputId": "daf8c972-165e-4751-ee79-befe8411f604"
      },
      "execution_count": null,
      "outputs": [
        {
          "output_type": "execute_result",
          "data": {
            "text/html": [
              "\n",
              "  <div id=\"df-7d5214ef-a070-429e-9e63-b5db0ca103b3\">\n",
              "    <div class=\"colab-df-container\">\n",
              "      <div>\n",
              "<style scoped>\n",
              "    .dataframe tbody tr th:only-of-type {\n",
              "        vertical-align: middle;\n",
              "    }\n",
              "\n",
              "    .dataframe tbody tr th {\n",
              "        vertical-align: top;\n",
              "    }\n",
              "\n",
              "    .dataframe thead th {\n",
              "        text-align: right;\n",
              "    }\n",
              "</style>\n",
              "<table border=\"1\" class=\"dataframe\">\n",
              "  <thead>\n",
              "    <tr style=\"text-align: right;\">\n",
              "      <th></th>\n",
              "      <th>Open</th>\n",
              "      <th>High</th>\n",
              "      <th>Low</th>\n",
              "      <th>Close</th>\n",
              "      <th>Adj Close</th>\n",
              "      <th>Volume</th>\n",
              "      <th>Name</th>\n",
              "    </tr>\n",
              "    <tr>\n",
              "      <th>Date</th>\n",
              "      <th></th>\n",
              "      <th></th>\n",
              "      <th></th>\n",
              "      <th></th>\n",
              "      <th></th>\n",
              "      <th></th>\n",
              "      <th></th>\n",
              "    </tr>\n",
              "  </thead>\n",
              "  <tbody>\n",
              "    <tr>\n",
              "      <th>2010-01-04</th>\n",
              "      <td>9.22</td>\n",
              "      <td>9.51</td>\n",
              "      <td>9.17</td>\n",
              "      <td>9.50</td>\n",
              "      <td>9.50</td>\n",
              "      <td>1865400.0</td>\n",
              "      <td>INCY</td>\n",
              "    </tr>\n",
              "    <tr>\n",
              "      <th>2010-01-05</th>\n",
              "      <td>9.51</td>\n",
              "      <td>10.29</td>\n",
              "      <td>9.45</td>\n",
              "      <td>10.27</td>\n",
              "      <td>10.27</td>\n",
              "      <td>7608900.0</td>\n",
              "      <td>INCY</td>\n",
              "    </tr>\n",
              "    <tr>\n",
              "      <th>2010-01-06</th>\n",
              "      <td>10.38</td>\n",
              "      <td>11.09</td>\n",
              "      <td>10.35</td>\n",
              "      <td>11.00</td>\n",
              "      <td>11.00</td>\n",
              "      <td>8046700.0</td>\n",
              "      <td>INCY</td>\n",
              "    </tr>\n",
              "    <tr>\n",
              "      <th>2010-01-07</th>\n",
              "      <td>11.00</td>\n",
              "      <td>11.06</td>\n",
              "      <td>10.62</td>\n",
              "      <td>10.82</td>\n",
              "      <td>10.82</td>\n",
              "      <td>3680300.0</td>\n",
              "      <td>INCY</td>\n",
              "    </tr>\n",
              "    <tr>\n",
              "      <th>2010-01-08</th>\n",
              "      <td>10.82</td>\n",
              "      <td>11.00</td>\n",
              "      <td>10.75</td>\n",
              "      <td>10.94</td>\n",
              "      <td>10.94</td>\n",
              "      <td>1529300.0</td>\n",
              "      <td>INCY</td>\n",
              "    </tr>\n",
              "  </tbody>\n",
              "</table>\n",
              "</div>\n",
              "      <button class=\"colab-df-convert\" onclick=\"convertToInteractive('df-7d5214ef-a070-429e-9e63-b5db0ca103b3')\"\n",
              "              title=\"Convert this dataframe to an interactive table.\"\n",
              "              style=\"display:none;\">\n",
              "        \n",
              "  <svg xmlns=\"http://www.w3.org/2000/svg\" height=\"24px\"viewBox=\"0 0 24 24\"\n",
              "       width=\"24px\">\n",
              "    <path d=\"M0 0h24v24H0V0z\" fill=\"none\"/>\n",
              "    <path d=\"M18.56 5.44l.94 2.06.94-2.06 2.06-.94-2.06-.94-.94-2.06-.94 2.06-2.06.94zm-11 1L8.5 8.5l.94-2.06 2.06-.94-2.06-.94L8.5 2.5l-.94 2.06-2.06.94zm10 10l.94 2.06.94-2.06 2.06-.94-2.06-.94-.94-2.06-.94 2.06-2.06.94z\"/><path d=\"M17.41 7.96l-1.37-1.37c-.4-.4-.92-.59-1.43-.59-.52 0-1.04.2-1.43.59L10.3 9.45l-7.72 7.72c-.78.78-.78 2.05 0 2.83L4 21.41c.39.39.9.59 1.41.59.51 0 1.02-.2 1.41-.59l7.78-7.78 2.81-2.81c.8-.78.8-2.07 0-2.86zM5.41 20L4 18.59l7.72-7.72 1.47 1.35L5.41 20z\"/>\n",
              "  </svg>\n",
              "      </button>\n",
              "      \n",
              "  <style>\n",
              "    .colab-df-container {\n",
              "      display:flex;\n",
              "      flex-wrap:wrap;\n",
              "      gap: 12px;\n",
              "    }\n",
              "\n",
              "    .colab-df-convert {\n",
              "      background-color: #E8F0FE;\n",
              "      border: none;\n",
              "      border-radius: 50%;\n",
              "      cursor: pointer;\n",
              "      display: none;\n",
              "      fill: #1967D2;\n",
              "      height: 32px;\n",
              "      padding: 0 0 0 0;\n",
              "      width: 32px;\n",
              "    }\n",
              "\n",
              "    .colab-df-convert:hover {\n",
              "      background-color: #E2EBFA;\n",
              "      box-shadow: 0px 1px 2px rgba(60, 64, 67, 0.3), 0px 1px 3px 1px rgba(60, 64, 67, 0.15);\n",
              "      fill: #174EA6;\n",
              "    }\n",
              "\n",
              "    [theme=dark] .colab-df-convert {\n",
              "      background-color: #3B4455;\n",
              "      fill: #D2E3FC;\n",
              "    }\n",
              "\n",
              "    [theme=dark] .colab-df-convert:hover {\n",
              "      background-color: #434B5C;\n",
              "      box-shadow: 0px 1px 3px 1px rgba(0, 0, 0, 0.15);\n",
              "      filter: drop-shadow(0px 1px 2px rgba(0, 0, 0, 0.3));\n",
              "      fill: #FFFFFF;\n",
              "    }\n",
              "  </style>\n",
              "\n",
              "      <script>\n",
              "        const buttonEl =\n",
              "          document.querySelector('#df-7d5214ef-a070-429e-9e63-b5db0ca103b3 button.colab-df-convert');\n",
              "        buttonEl.style.display =\n",
              "          google.colab.kernel.accessAllowed ? 'block' : 'none';\n",
              "\n",
              "        async function convertToInteractive(key) {\n",
              "          const element = document.querySelector('#df-7d5214ef-a070-429e-9e63-b5db0ca103b3');\n",
              "          const dataTable =\n",
              "            await google.colab.kernel.invokeFunction('convertToInteractive',\n",
              "                                                     [key], {});\n",
              "          if (!dataTable) return;\n",
              "\n",
              "          const docLinkHtml = 'Like what you see? Visit the ' +\n",
              "            '<a target=\"_blank\" href=https://colab.research.google.com/notebooks/data_table.ipynb>data table notebook</a>'\n",
              "            + ' to learn more about interactive tables.';\n",
              "          element.innerHTML = '';\n",
              "          dataTable['output_type'] = 'display_data';\n",
              "          await google.colab.output.renderOutput(dataTable, element);\n",
              "          const docLink = document.createElement('div');\n",
              "          docLink.innerHTML = docLinkHtml;\n",
              "          element.appendChild(docLink);\n",
              "        }\n",
              "      </script>\n",
              "    </div>\n",
              "  </div>\n",
              "  "
            ],
            "text/plain": [
              "             Open   High    Low  Close  Adj Close     Volume  Name\n",
              "Date                                                              \n",
              "2010-01-04   9.22   9.51   9.17   9.50       9.50  1865400.0  INCY\n",
              "2010-01-05   9.51  10.29   9.45  10.27      10.27  7608900.0  INCY\n",
              "2010-01-06  10.38  11.09  10.35  11.00      11.00  8046700.0  INCY\n",
              "2010-01-07  11.00  11.06  10.62  10.82      10.82  3680300.0  INCY\n",
              "2010-01-08  10.82  11.00  10.75  10.94      10.94  1529300.0  INCY"
            ]
          },
          "metadata": {},
          "execution_count": 108
        }
      ]
    },
    {
      "cell_type": "markdown",
      "source": [
        "**Get Starbucks Stocks for Dataset**"
      ],
      "metadata": {
        "id": "T53KPxrGqdOp"
      }
    },
    {
      "cell_type": "code",
      "source": [
        "df = df0[df0['Name'] == 'SBUX'][['Close']].copy()"
      ],
      "metadata": {
        "id": "UWHtP9iczO-y"
      },
      "execution_count": null,
      "outputs": []
    },
    {
      "cell_type": "markdown",
      "source": [
        "**Log Transform**"
      ],
      "metadata": {
        "id": "eDnt3MsJq13N"
      }
    },
    {
      "cell_type": "code",
      "source": [
        "df['LogClose'] = np.log(df['Close'])"
      ],
      "metadata": {
        "id": "C8aO_LiUzdIm"
      },
      "execution_count": null,
      "outputs": []
    },
    {
      "cell_type": "code",
      "source": [
        "df['DiffLogClose'] = df['LogClose'].diff()"
      ],
      "metadata": {
        "id": "6iXK_xZyzf_Q"
      },
      "execution_count": null,
      "outputs": []
    },
    {
      "cell_type": "code",
      "source": [
        "df.head()"
      ],
      "metadata": {
        "colab": {
          "base_uri": "https://localhost:8080/",
          "height": 423
        },
        "id": "8WXWhd9OFAGI",
        "outputId": "72797e50-6f4d-4487-abe2-a9568dde6954"
      },
      "execution_count": null,
      "outputs": [
        {
          "output_type": "execute_result",
          "data": {
            "text/html": [
              "\n",
              "  <div id=\"df-66af7e59-8ee8-443e-84db-745f0e474dd9\">\n",
              "    <div class=\"colab-df-container\">\n",
              "      <div>\n",
              "<style scoped>\n",
              "    .dataframe tbody tr th:only-of-type {\n",
              "        vertical-align: middle;\n",
              "    }\n",
              "\n",
              "    .dataframe tbody tr th {\n",
              "        vertical-align: top;\n",
              "    }\n",
              "\n",
              "    .dataframe thead th {\n",
              "        text-align: right;\n",
              "    }\n",
              "</style>\n",
              "<table border=\"1\" class=\"dataframe\">\n",
              "  <thead>\n",
              "    <tr style=\"text-align: right;\">\n",
              "      <th></th>\n",
              "      <th>Close</th>\n",
              "      <th>LogClose</th>\n",
              "      <th>DiffLogClose</th>\n",
              "      <th>ScaledLogReturn</th>\n",
              "      <th>Diff ANN Train Prediction</th>\n",
              "      <th>Diff ANN Test Prediction</th>\n",
              "      <th>ShiftLogClose</th>\n",
              "      <th>1step_train</th>\n",
              "      <th>1step_test</th>\n",
              "      <th>multistep</th>\n",
              "      <th>multioutput</th>\n",
              "    </tr>\n",
              "    <tr>\n",
              "      <th>Date</th>\n",
              "      <th></th>\n",
              "      <th></th>\n",
              "      <th></th>\n",
              "      <th></th>\n",
              "      <th></th>\n",
              "      <th></th>\n",
              "      <th></th>\n",
              "      <th></th>\n",
              "      <th></th>\n",
              "      <th></th>\n",
              "      <th></th>\n",
              "    </tr>\n",
              "  </thead>\n",
              "  <tbody>\n",
              "    <tr>\n",
              "      <th>2010-01-04</th>\n",
              "      <td>11.525</td>\n",
              "      <td>2.444519</td>\n",
              "      <td>NaN</td>\n",
              "      <td>NaN</td>\n",
              "      <td>NaN</td>\n",
              "      <td>NaN</td>\n",
              "      <td>NaN</td>\n",
              "      <td>NaN</td>\n",
              "      <td>NaN</td>\n",
              "      <td>NaN</td>\n",
              "      <td>NaN</td>\n",
              "    </tr>\n",
              "    <tr>\n",
              "      <th>2010-01-05</th>\n",
              "      <td>11.795</td>\n",
              "      <td>2.467676</td>\n",
              "      <td>0.023157</td>\n",
              "      <td>1.474542</td>\n",
              "      <td>NaN</td>\n",
              "      <td>NaN</td>\n",
              "      <td>2.444519</td>\n",
              "      <td>NaN</td>\n",
              "      <td>NaN</td>\n",
              "      <td>NaN</td>\n",
              "      <td>NaN</td>\n",
              "    </tr>\n",
              "    <tr>\n",
              "      <th>2010-01-06</th>\n",
              "      <td>11.710</td>\n",
              "      <td>2.460443</td>\n",
              "      <td>-0.007233</td>\n",
              "      <td>-0.527921</td>\n",
              "      <td>NaN</td>\n",
              "      <td>NaN</td>\n",
              "      <td>2.467676</td>\n",
              "      <td>NaN</td>\n",
              "      <td>NaN</td>\n",
              "      <td>NaN</td>\n",
              "      <td>NaN</td>\n",
              "    </tr>\n",
              "    <tr>\n",
              "      <th>2010-01-07</th>\n",
              "      <td>11.680</td>\n",
              "      <td>2.457878</td>\n",
              "      <td>-0.002565</td>\n",
              "      <td>-0.220375</td>\n",
              "      <td>NaN</td>\n",
              "      <td>NaN</td>\n",
              "      <td>2.460443</td>\n",
              "      <td>NaN</td>\n",
              "      <td>NaN</td>\n",
              "      <td>NaN</td>\n",
              "      <td>NaN</td>\n",
              "    </tr>\n",
              "    <tr>\n",
              "      <th>2010-01-08</th>\n",
              "      <td>11.640</td>\n",
              "      <td>2.454447</td>\n",
              "      <td>-0.003431</td>\n",
              "      <td>-0.277396</td>\n",
              "      <td>NaN</td>\n",
              "      <td>NaN</td>\n",
              "      <td>2.457878</td>\n",
              "      <td>NaN</td>\n",
              "      <td>NaN</td>\n",
              "      <td>NaN</td>\n",
              "      <td>NaN</td>\n",
              "    </tr>\n",
              "  </tbody>\n",
              "</table>\n",
              "</div>\n",
              "      <button class=\"colab-df-convert\" onclick=\"convertToInteractive('df-66af7e59-8ee8-443e-84db-745f0e474dd9')\"\n",
              "              title=\"Convert this dataframe to an interactive table.\"\n",
              "              style=\"display:none;\">\n",
              "        \n",
              "  <svg xmlns=\"http://www.w3.org/2000/svg\" height=\"24px\"viewBox=\"0 0 24 24\"\n",
              "       width=\"24px\">\n",
              "    <path d=\"M0 0h24v24H0V0z\" fill=\"none\"/>\n",
              "    <path d=\"M18.56 5.44l.94 2.06.94-2.06 2.06-.94-2.06-.94-.94-2.06-.94 2.06-2.06.94zm-11 1L8.5 8.5l.94-2.06 2.06-.94-2.06-.94L8.5 2.5l-.94 2.06-2.06.94zm10 10l.94 2.06.94-2.06 2.06-.94-2.06-.94-.94-2.06-.94 2.06-2.06.94z\"/><path d=\"M17.41 7.96l-1.37-1.37c-.4-.4-.92-.59-1.43-.59-.52 0-1.04.2-1.43.59L10.3 9.45l-7.72 7.72c-.78.78-.78 2.05 0 2.83L4 21.41c.39.39.9.59 1.41.59.51 0 1.02-.2 1.41-.59l7.78-7.78 2.81-2.81c.8-.78.8-2.07 0-2.86zM5.41 20L4 18.59l7.72-7.72 1.47 1.35L5.41 20z\"/>\n",
              "  </svg>\n",
              "      </button>\n",
              "      \n",
              "  <style>\n",
              "    .colab-df-container {\n",
              "      display:flex;\n",
              "      flex-wrap:wrap;\n",
              "      gap: 12px;\n",
              "    }\n",
              "\n",
              "    .colab-df-convert {\n",
              "      background-color: #E8F0FE;\n",
              "      border: none;\n",
              "      border-radius: 50%;\n",
              "      cursor: pointer;\n",
              "      display: none;\n",
              "      fill: #1967D2;\n",
              "      height: 32px;\n",
              "      padding: 0 0 0 0;\n",
              "      width: 32px;\n",
              "    }\n",
              "\n",
              "    .colab-df-convert:hover {\n",
              "      background-color: #E2EBFA;\n",
              "      box-shadow: 0px 1px 2px rgba(60, 64, 67, 0.3), 0px 1px 3px 1px rgba(60, 64, 67, 0.15);\n",
              "      fill: #174EA6;\n",
              "    }\n",
              "\n",
              "    [theme=dark] .colab-df-convert {\n",
              "      background-color: #3B4455;\n",
              "      fill: #D2E3FC;\n",
              "    }\n",
              "\n",
              "    [theme=dark] .colab-df-convert:hover {\n",
              "      background-color: #434B5C;\n",
              "      box-shadow: 0px 1px 3px 1px rgba(0, 0, 0, 0.15);\n",
              "      filter: drop-shadow(0px 1px 2px rgba(0, 0, 0, 0.3));\n",
              "      fill: #FFFFFF;\n",
              "    }\n",
              "  </style>\n",
              "\n",
              "      <script>\n",
              "        const buttonEl =\n",
              "          document.querySelector('#df-66af7e59-8ee8-443e-84db-745f0e474dd9 button.colab-df-convert');\n",
              "        buttonEl.style.display =\n",
              "          google.colab.kernel.accessAllowed ? 'block' : 'none';\n",
              "\n",
              "        async function convertToInteractive(key) {\n",
              "          const element = document.querySelector('#df-66af7e59-8ee8-443e-84db-745f0e474dd9');\n",
              "          const dataTable =\n",
              "            await google.colab.kernel.invokeFunction('convertToInteractive',\n",
              "                                                     [key], {});\n",
              "          if (!dataTable) return;\n",
              "\n",
              "          const docLinkHtml = 'Like what you see? Visit the ' +\n",
              "            '<a target=\"_blank\" href=https://colab.research.google.com/notebooks/data_table.ipynb>data table notebook</a>'\n",
              "            + ' to learn more about interactive tables.';\n",
              "          element.innerHTML = '';\n",
              "          dataTable['output_type'] = 'display_data';\n",
              "          await google.colab.output.renderOutput(dataTable, element);\n",
              "          const docLink = document.createElement('div');\n",
              "          docLink.innerHTML = docLinkHtml;\n",
              "          element.appendChild(docLink);\n",
              "        }\n",
              "      </script>\n",
              "    </div>\n",
              "  </div>\n",
              "  "
            ],
            "text/plain": [
              "             Close  LogClose  DiffLogClose  ...  1step_test  multistep  multioutput\n",
              "Date                                        ...                                    \n",
              "2010-01-04  11.525  2.444519           NaN  ...         NaN        NaN          NaN\n",
              "2010-01-05  11.795  2.467676      0.023157  ...         NaN        NaN          NaN\n",
              "2010-01-06  11.710  2.460443     -0.007233  ...         NaN        NaN          NaN\n",
              "2010-01-07  11.680  2.457878     -0.002565  ...         NaN        NaN          NaN\n",
              "2010-01-08  11.640  2.454447     -0.003431  ...         NaN        NaN          NaN\n",
              "\n",
              "[5 rows x 11 columns]"
            ]
          },
          "metadata": {},
          "execution_count": 159
        }
      ]
    },
    {
      "cell_type": "code",
      "source": [
        "Ntest = 21\n",
        "train = df.iloc[:-Ntest]\n",
        "test = df.iloc[-Ntest:]"
      ],
      "metadata": {
        "id": "JqNXqMuuzlrK"
      },
      "execution_count": null,
      "outputs": []
    },
    {
      "cell_type": "markdown",
      "source": [
        "We're going to do is `standardize the Time series`, as you can see, we're\n",
        "doing this on the column `DiffLogClose`, which is really just the `LogReturn`.\n",
        "\n",
        "So why do we want to standardize this data set?\n",
        "\n",
        "Well, I want to avoid any in-depth mathematical details.\n",
        "\n",
        "But usually in deep learning, `standardizing` or` normalizing` your data is a `good idea`. \n",
        "For intuition you can simply test this on various data sets.\n",
        "\n",
        "What you should observe is that `standardization` seems to help more often than not."
      ],
      "metadata": {
        "id": "sGOsxugqrIpa"
      }
    },
    {
      "cell_type": "code",
      "source": [
        "train['DiffLogClose']"
      ],
      "metadata": {
        "colab": {
          "base_uri": "https://localhost:8080/"
        },
        "id": "7U5qae8MFPcL",
        "outputId": "31bc23f9-e1d2-46b7-f6bf-19f7a0547b24"
      },
      "execution_count": null,
      "outputs": [
        {
          "output_type": "execute_result",
          "data": {
            "text/plain": [
              "Date\n",
              "2010-01-04         NaN\n",
              "2010-01-05    0.023157\n",
              "2010-01-06   -0.007233\n",
              "2010-01-07   -0.002565\n",
              "2010-01-08   -0.003431\n",
              "                ...   \n",
              "2018-11-20   -0.010808\n",
              "2018-11-21   -0.006122\n",
              "2018-11-23   -0.016155\n",
              "2018-11-26   -0.000152\n",
              "2018-11-27    0.005919\n",
              "Name: DiffLogClose, Length: 2242, dtype: float64"
            ]
          },
          "metadata": {},
          "execution_count": 162
        }
      ]
    },
    {
      "cell_type": "code",
      "source": [
        "scaler = StandardScaler()\n",
        "train_scaled = scaler.fit_transform(train[['DiffLogClose']])\n",
        "test_scaled = scaler.transform(test[['DiffLogClose']])"
      ],
      "metadata": {
        "id": "6Vye8VlUzt04"
      },
      "execution_count": null,
      "outputs": []
    },
    {
      "cell_type": "code",
      "source": [
        "train_scaled"
      ],
      "metadata": {
        "colab": {
          "base_uri": "https://localhost:8080/"
        },
        "id": "UA4d92xQFKK6",
        "outputId": "c1159c37-cd9e-41a6-c24a-5c21ee783efc"
      },
      "execution_count": null,
      "outputs": [
        {
          "output_type": "execute_result",
          "data": {
            "text/plain": [
              "array([[        nan],\n",
              "       [ 1.47454198],\n",
              "       [-0.5279206 ],\n",
              "       ...,\n",
              "       [-1.1158432 ],\n",
              "       [-0.06137299],\n",
              "       [ 0.33869831]])"
            ]
          },
          "metadata": {},
          "execution_count": 160
        }
      ]
    },
    {
      "cell_type": "code",
      "source": [
        "df['DiffLogClose']"
      ],
      "metadata": {
        "colab": {
          "base_uri": "https://localhost:8080/"
        },
        "id": "S9f-EXO00as4",
        "outputId": "6461a633-2b9b-4301-e374-85da2d84e0c0"
      },
      "execution_count": null,
      "outputs": [
        {
          "output_type": "execute_result",
          "data": {
            "text/plain": [
              "Date\n",
              "2010-01-04         NaN\n",
              "2010-01-05    0.023157\n",
              "2010-01-06   -0.007233\n",
              "2010-01-07   -0.002565\n",
              "2010-01-08   -0.003431\n",
              "                ...   \n",
              "2018-12-21   -0.012304\n",
              "2018-12-24   -0.013612\n",
              "2018-12-26    0.040769\n",
              "2018-12-27    0.001901\n",
              "2018-12-28    0.003002\n",
              "Name: DiffLogClose, Length: 2263, dtype: float64"
            ]
          },
          "metadata": {},
          "execution_count": 114
        }
      ]
    },
    {
      "cell_type": "code",
      "source": [
        "train_scaled"
      ],
      "metadata": {
        "colab": {
          "base_uri": "https://localhost:8080/"
        },
        "id": "xxD5PoHe0YrK",
        "outputId": "43d7b848-109a-45a8-ed3b-5dc4f9b79f9b"
      },
      "execution_count": null,
      "outputs": [
        {
          "output_type": "execute_result",
          "data": {
            "text/plain": [
              "array([[        nan],\n",
              "       [ 1.47454198],\n",
              "       [-0.5279206 ],\n",
              "       ...,\n",
              "       [-1.1158432 ],\n",
              "       [-0.06137299],\n",
              "       [ 0.33869831]])"
            ]
          },
          "metadata": {},
          "execution_count": 115
        }
      ]
    },
    {
      "cell_type": "code",
      "source": [
        "# Boolean series to index df rows\n",
        "train_idx = df.index <= train.index[-1]\n",
        "test_idx = df.index > train.index[-1]"
      ],
      "metadata": {
        "id": "O54c_pjTz5Rr"
      },
      "execution_count": null,
      "outputs": []
    },
    {
      "cell_type": "code",
      "source": [
        "df.index"
      ],
      "metadata": {
        "id": "gD6ow7x_FibC",
        "outputId": "147045b5-a53a-4cf5-9d8c-438975c9aff9",
        "colab": {
          "base_uri": "https://localhost:8080/"
        }
      },
      "execution_count": null,
      "outputs": [
        {
          "output_type": "execute_result",
          "data": {
            "text/plain": [
              "DatetimeIndex(['2010-01-04', '2010-01-05', '2010-01-06', '2010-01-07',\n",
              "               '2010-01-08', '2010-01-11', '2010-01-12', '2010-01-13',\n",
              "               '2010-01-14', '2010-01-15',\n",
              "               ...\n",
              "               '2018-12-14', '2018-12-17', '2018-12-18', '2018-12-19',\n",
              "               '2018-12-20', '2018-12-21', '2018-12-24', '2018-12-26',\n",
              "               '2018-12-27', '2018-12-28'],\n",
              "              dtype='datetime64[ns]', name='Date', length=2263, freq=None)"
            ]
          },
          "metadata": {},
          "execution_count": 165
        }
      ]
    },
    {
      "cell_type": "code",
      "source": [
        "train.index[-1]"
      ],
      "metadata": {
        "id": "FCtjo6J3FlFn",
        "outputId": "e609d40b-bd47-4e60-9c9f-3b6da3b2331d",
        "colab": {
          "base_uri": "https://localhost:8080/"
        }
      },
      "execution_count": null,
      "outputs": [
        {
          "output_type": "execute_result",
          "data": {
            "text/plain": [
              "Timestamp('2018-11-27 00:00:00')"
            ]
          },
          "metadata": {},
          "execution_count": 167
        }
      ]
    },
    {
      "cell_type": "code",
      "source": [
        "train_idx"
      ],
      "metadata": {
        "colab": {
          "base_uri": "https://localhost:8080/"
        },
        "id": "hTPzEPllFZym",
        "outputId": "0ebf8f4d-760d-49b0-d3e7-2df4bcd3d29b"
      },
      "execution_count": null,
      "outputs": [
        {
          "output_type": "execute_result",
          "data": {
            "text/plain": [
              "array([False, False, False, ..., False, False, False])"
            ]
          },
          "metadata": {},
          "execution_count": 163
        }
      ]
    },
    {
      "cell_type": "code",
      "source": [
        "test_idx"
      ],
      "metadata": {
        "colab": {
          "base_uri": "https://localhost:8080/"
        },
        "id": "z1eiqKEhFbrB",
        "outputId": "0c5a444e-8e59-4470-bdb1-e972813be0d8"
      },
      "execution_count": null,
      "outputs": [
        {
          "output_type": "execute_result",
          "data": {
            "text/plain": [
              "array([False, False, False, ...,  True,  True,  True])"
            ]
          },
          "metadata": {},
          "execution_count": 164
        }
      ]
    },
    {
      "cell_type": "code",
      "source": [
        "df.loc[train_idx, 'ScaledLogReturn'] = train_scaled.flatten()\n",
        "df.loc[test_idx, 'ScaledLogReturn'] = test_scaled.flatten()"
      ],
      "metadata": {
        "id": "hwWUgqfx0EN_"
      },
      "execution_count": null,
      "outputs": []
    },
    {
      "cell_type": "code",
      "source": [
        "# Make supervised dataset\n",
        "series = df['ScaledLogReturn'].dropna().to_numpy()\n",
        "series"
      ],
      "metadata": {
        "colab": {
          "base_uri": "https://localhost:8080/"
        },
        "id": "QkB7mgLc0P2l",
        "outputId": "fb973f09-44a2-43a4-af9e-30c29d0bd508"
      },
      "execution_count": null,
      "outputs": [
        {
          "output_type": "execute_result",
          "data": {
            "text/plain": [
              "array([ 1.47454198, -0.5279206 , -0.22037511, ...,  2.63504571,\n",
              "        0.07388234,  0.14644845])"
            ]
          },
          "metadata": {},
          "execution_count": 118
        }
      ]
    },
    {
      "cell_type": "code",
      "source": [
        "T = 10\n",
        "x = []\n",
        "y = []\n",
        "for t in range(len(series) - T):\n",
        "  X = series[t:t+T]\n",
        "  x.append(X)\n",
        "  Y = series[t+T]\n",
        "  y.append(Y)\n",
        "\n",
        "x = np.array(x).reshape(-1, T)\n",
        "y = np.array(y)\n",
        "N = len(x)\n",
        "print('x.shape', x.shape, 'y.shape', y.shape)"
      ],
      "metadata": {
        "colab": {
          "base_uri": "https://localhost:8080/"
        },
        "id": "NW2FYkhu0vQ6",
        "outputId": "4edb6764-13ea-4d66-a1ca-00ccb5938d44"
      },
      "execution_count": null,
      "outputs": [
        {
          "output_type": "stream",
          "name": "stdout",
          "text": [
            "x.shape (2252, 10) y.shape (2252,)\n"
          ]
        }
      ]
    },
    {
      "cell_type": "markdown",
      "source": [
        "**Split Data**"
      ],
      "metadata": {
        "id": "I6fZzKDHsCNw"
      }
    },
    {
      "cell_type": "code",
      "source": [
        "xtrain, ytrain = x[:-Ntest], y[:-Ntest]\n",
        "xtest, ytest = x[-Ntest:], y[-Ntest:]"
      ],
      "metadata": {
        "id": "3fdgqLup1Q7G"
      },
      "execution_count": null,
      "outputs": []
    },
    {
      "cell_type": "code",
      "source": [
        "# Basic ANN\n",
        "i = Input(shape=(T,)) #input\n",
        "x = Dense(32, activation='relu')(i) #hidden units 32 size\n",
        "x = Dense(1)(x) #output\n",
        "model = Model(i, x)"
      ],
      "metadata": {
        "id": "QV5QOYBC1non"
      },
      "execution_count": null,
      "outputs": []
    },
    {
      "cell_type": "code",
      "source": [
        "model.compile(\n",
        "    loss='mse',\n",
        "    optimizer='adam'\n",
        ")"
      ],
      "metadata": {
        "id": "ZMkdjpYe14pd"
      },
      "execution_count": null,
      "outputs": []
    },
    {
      "cell_type": "code",
      "source": [
        "r = model.fit(\n",
        "    xtrain,\n",
        "    ytrain,\n",
        "    epochs=200,\n",
        "    validation_data =(xtest, ytest)\n",
        ")"
      ],
      "metadata": {
        "colab": {
          "base_uri": "https://localhost:8080/"
        },
        "id": "vdJDlRWF2IDF",
        "outputId": "8fdc3292-3869-412e-9b1f-f8bed9e8ba36"
      },
      "execution_count": null,
      "outputs": [
        {
          "output_type": "stream",
          "name": "stdout",
          "text": [
            "Epoch 1/200\n",
            "70/70 [==============================] - 1s 5ms/step - loss: 1.2007 - val_loss: 1.0208\n",
            "Epoch 2/200\n",
            "70/70 [==============================] - 0s 2ms/step - loss: 1.0575 - val_loss: 0.9873\n",
            "Epoch 3/200\n",
            "70/70 [==============================] - 0s 2ms/step - loss: 1.0324 - val_loss: 0.9807\n",
            "Epoch 4/200\n",
            "70/70 [==============================] - 0s 2ms/step - loss: 1.0160 - val_loss: 0.9870\n",
            "Epoch 5/200\n",
            "70/70 [==============================] - 0s 2ms/step - loss: 1.0058 - val_loss: 0.9779\n",
            "Epoch 6/200\n",
            "70/70 [==============================] - 0s 2ms/step - loss: 0.9959 - val_loss: 0.9783\n",
            "Epoch 7/200\n",
            "70/70 [==============================] - 0s 2ms/step - loss: 0.9871 - val_loss: 0.9868\n",
            "Epoch 8/200\n",
            "70/70 [==============================] - 0s 2ms/step - loss: 0.9807 - val_loss: 0.9754\n",
            "Epoch 9/200\n",
            "70/70 [==============================] - 0s 2ms/step - loss: 0.9754 - val_loss: 0.9974\n",
            "Epoch 10/200\n",
            "70/70 [==============================] - 0s 2ms/step - loss: 0.9711 - val_loss: 0.9977\n",
            "Epoch 11/200\n",
            "70/70 [==============================] - 0s 2ms/step - loss: 0.9680 - val_loss: 1.0052\n",
            "Epoch 12/200\n",
            "70/70 [==============================] - 0s 2ms/step - loss: 0.9638 - val_loss: 0.9953\n",
            "Epoch 13/200\n",
            "70/70 [==============================] - 0s 4ms/step - loss: 0.9600 - val_loss: 1.0145\n",
            "Epoch 14/200\n",
            "70/70 [==============================] - 0s 2ms/step - loss: 0.9569 - val_loss: 0.9875\n",
            "Epoch 15/200\n",
            "70/70 [==============================] - 0s 2ms/step - loss: 0.9549 - val_loss: 1.0076\n",
            "Epoch 16/200\n",
            "70/70 [==============================] - 0s 2ms/step - loss: 0.9538 - val_loss: 0.9804\n",
            "Epoch 17/200\n",
            "70/70 [==============================] - 0s 2ms/step - loss: 0.9502 - val_loss: 0.9936\n",
            "Epoch 18/200\n",
            "70/70 [==============================] - 0s 2ms/step - loss: 0.9486 - val_loss: 0.9931\n",
            "Epoch 19/200\n",
            "70/70 [==============================] - 0s 2ms/step - loss: 0.9465 - val_loss: 1.0001\n",
            "Epoch 20/200\n",
            "70/70 [==============================] - 0s 2ms/step - loss: 0.9450 - val_loss: 0.9916\n",
            "Epoch 21/200\n",
            "70/70 [==============================] - 0s 2ms/step - loss: 0.9429 - val_loss: 0.9982\n",
            "Epoch 22/200\n",
            "70/70 [==============================] - 0s 2ms/step - loss: 0.9418 - val_loss: 0.9928\n",
            "Epoch 23/200\n",
            "70/70 [==============================] - 0s 2ms/step - loss: 0.9399 - val_loss: 0.9844\n",
            "Epoch 24/200\n",
            "70/70 [==============================] - 0s 2ms/step - loss: 0.9392 - val_loss: 0.9794\n",
            "Epoch 25/200\n",
            "70/70 [==============================] - 0s 2ms/step - loss: 0.9370 - val_loss: 1.0016\n",
            "Epoch 26/200\n",
            "70/70 [==============================] - 0s 2ms/step - loss: 0.9352 - val_loss: 1.0032\n",
            "Epoch 27/200\n",
            "70/70 [==============================] - 0s 2ms/step - loss: 0.9332 - val_loss: 0.9880\n",
            "Epoch 28/200\n",
            "70/70 [==============================] - 0s 2ms/step - loss: 0.9308 - val_loss: 0.9976\n",
            "Epoch 29/200\n",
            "70/70 [==============================] - 0s 2ms/step - loss: 0.9300 - val_loss: 0.9878\n",
            "Epoch 30/200\n",
            "70/70 [==============================] - 0s 2ms/step - loss: 0.9297 - val_loss: 0.9868\n",
            "Epoch 31/200\n",
            "70/70 [==============================] - 0s 2ms/step - loss: 0.9274 - val_loss: 1.0151\n",
            "Epoch 32/200\n",
            "70/70 [==============================] - 0s 2ms/step - loss: 0.9268 - val_loss: 0.9959\n",
            "Epoch 33/200\n",
            "70/70 [==============================] - 0s 3ms/step - loss: 0.9240 - val_loss: 1.0062\n",
            "Epoch 34/200\n",
            "70/70 [==============================] - 0s 3ms/step - loss: 0.9237 - val_loss: 0.9901\n",
            "Epoch 35/200\n",
            "70/70 [==============================] - 0s 2ms/step - loss: 0.9224 - val_loss: 0.9893\n",
            "Epoch 36/200\n",
            "70/70 [==============================] - 0s 2ms/step - loss: 0.9214 - val_loss: 0.9753\n",
            "Epoch 37/200\n",
            "70/70 [==============================] - 0s 2ms/step - loss: 0.9195 - val_loss: 0.9925\n",
            "Epoch 38/200\n",
            "70/70 [==============================] - 0s 2ms/step - loss: 0.9185 - val_loss: 0.9834\n",
            "Epoch 39/200\n",
            "70/70 [==============================] - 0s 2ms/step - loss: 0.9178 - val_loss: 0.9784\n",
            "Epoch 40/200\n",
            "70/70 [==============================] - 0s 2ms/step - loss: 0.9155 - val_loss: 0.9792\n",
            "Epoch 41/200\n",
            "70/70 [==============================] - 0s 2ms/step - loss: 0.9135 - val_loss: 0.9802\n",
            "Epoch 42/200\n",
            "70/70 [==============================] - 0s 2ms/step - loss: 0.9121 - val_loss: 0.9874\n",
            "Epoch 43/200\n",
            "70/70 [==============================] - 0s 2ms/step - loss: 0.9120 - val_loss: 0.9977\n",
            "Epoch 44/200\n",
            "70/70 [==============================] - 0s 2ms/step - loss: 0.9106 - val_loss: 0.9949\n",
            "Epoch 45/200\n",
            "70/70 [==============================] - 0s 2ms/step - loss: 0.9116 - val_loss: 0.9892\n",
            "Epoch 46/200\n",
            "70/70 [==============================] - 0s 2ms/step - loss: 0.9090 - val_loss: 0.9749\n",
            "Epoch 47/200\n",
            "70/70 [==============================] - 0s 2ms/step - loss: 0.9061 - val_loss: 0.9820\n",
            "Epoch 48/200\n",
            "70/70 [==============================] - 0s 2ms/step - loss: 0.9051 - val_loss: 0.9800\n",
            "Epoch 49/200\n",
            "70/70 [==============================] - 0s 2ms/step - loss: 0.9038 - val_loss: 0.9956\n",
            "Epoch 50/200\n",
            "70/70 [==============================] - 0s 2ms/step - loss: 0.9033 - val_loss: 1.0012\n",
            "Epoch 51/200\n",
            "70/70 [==============================] - 0s 2ms/step - loss: 0.9013 - val_loss: 1.0027\n",
            "Epoch 52/200\n",
            "70/70 [==============================] - 0s 2ms/step - loss: 0.9039 - val_loss: 0.9926\n",
            "Epoch 53/200\n",
            "70/70 [==============================] - 0s 3ms/step - loss: 0.9023 - val_loss: 0.9936\n",
            "Epoch 54/200\n",
            "70/70 [==============================] - 0s 2ms/step - loss: 0.9009 - val_loss: 1.0122\n",
            "Epoch 55/200\n",
            "70/70 [==============================] - 0s 3ms/step - loss: 0.9004 - val_loss: 1.0103\n",
            "Epoch 56/200\n",
            "70/70 [==============================] - 0s 3ms/step - loss: 0.8974 - val_loss: 1.0164\n",
            "Epoch 57/200\n",
            "70/70 [==============================] - 0s 3ms/step - loss: 0.8945 - val_loss: 0.9964\n",
            "Epoch 58/200\n",
            "70/70 [==============================] - 0s 3ms/step - loss: 0.8952 - val_loss: 0.9823\n",
            "Epoch 59/200\n",
            "70/70 [==============================] - 0s 4ms/step - loss: 0.8958 - val_loss: 0.9942\n",
            "Epoch 60/200\n",
            "70/70 [==============================] - 0s 3ms/step - loss: 0.8931 - val_loss: 0.9949\n",
            "Epoch 61/200\n",
            "70/70 [==============================] - 0s 3ms/step - loss: 0.8943 - val_loss: 1.0031\n",
            "Epoch 62/200\n",
            "70/70 [==============================] - 0s 3ms/step - loss: 0.8910 - val_loss: 1.0163\n",
            "Epoch 63/200\n",
            "70/70 [==============================] - 0s 3ms/step - loss: 0.8904 - val_loss: 0.9933\n",
            "Epoch 64/200\n",
            "70/70 [==============================] - 0s 3ms/step - loss: 0.8889 - val_loss: 0.9951\n",
            "Epoch 65/200\n",
            "70/70 [==============================] - 0s 4ms/step - loss: 0.8881 - val_loss: 0.9896\n",
            "Epoch 66/200\n",
            "70/70 [==============================] - 0s 3ms/step - loss: 0.8876 - val_loss: 0.9889\n",
            "Epoch 67/200\n",
            "70/70 [==============================] - 0s 4ms/step - loss: 0.8883 - val_loss: 0.9920\n",
            "Epoch 68/200\n",
            "70/70 [==============================] - 0s 5ms/step - loss: 0.8842 - val_loss: 1.0053\n",
            "Epoch 69/200\n",
            "70/70 [==============================] - 0s 3ms/step - loss: 0.8839 - val_loss: 1.0046\n",
            "Epoch 70/200\n",
            "70/70 [==============================] - 0s 2ms/step - loss: 0.8842 - val_loss: 1.0162\n",
            "Epoch 71/200\n",
            "70/70 [==============================] - 0s 3ms/step - loss: 0.8815 - val_loss: 1.0146\n",
            "Epoch 72/200\n",
            "70/70 [==============================] - 0s 4ms/step - loss: 0.8810 - val_loss: 1.0153\n",
            "Epoch 73/200\n",
            "70/70 [==============================] - 0s 3ms/step - loss: 0.8802 - val_loss: 1.0125\n",
            "Epoch 74/200\n",
            "70/70 [==============================] - 0s 4ms/step - loss: 0.8783 - val_loss: 1.0014\n",
            "Epoch 75/200\n",
            "70/70 [==============================] - 0s 3ms/step - loss: 0.8769 - val_loss: 1.0034\n",
            "Epoch 76/200\n",
            "70/70 [==============================] - 0s 3ms/step - loss: 0.8767 - val_loss: 1.0148\n",
            "Epoch 77/200\n",
            "70/70 [==============================] - 0s 4ms/step - loss: 0.8748 - val_loss: 1.0226\n",
            "Epoch 78/200\n",
            "70/70 [==============================] - 0s 3ms/step - loss: 0.8740 - val_loss: 1.0245\n",
            "Epoch 79/200\n",
            "70/70 [==============================] - 0s 3ms/step - loss: 0.8737 - val_loss: 1.0111\n",
            "Epoch 80/200\n",
            "70/70 [==============================] - 0s 2ms/step - loss: 0.8724 - val_loss: 1.0214\n",
            "Epoch 81/200\n",
            "70/70 [==============================] - 0s 2ms/step - loss: 0.8708 - val_loss: 1.0117\n",
            "Epoch 82/200\n",
            "70/70 [==============================] - 0s 3ms/step - loss: 0.8697 - val_loss: 1.0176\n",
            "Epoch 83/200\n",
            "70/70 [==============================] - 0s 4ms/step - loss: 0.8709 - val_loss: 1.0034\n",
            "Epoch 84/200\n",
            "70/70 [==============================] - 0s 4ms/step - loss: 0.8681 - val_loss: 1.0091\n",
            "Epoch 85/200\n",
            "70/70 [==============================] - 0s 3ms/step - loss: 0.8693 - val_loss: 0.9974\n",
            "Epoch 86/200\n",
            "70/70 [==============================] - 0s 3ms/step - loss: 0.8674 - val_loss: 1.0169\n",
            "Epoch 87/200\n",
            "70/70 [==============================] - 0s 4ms/step - loss: 0.8692 - val_loss: 1.0170\n",
            "Epoch 88/200\n",
            "70/70 [==============================] - 0s 3ms/step - loss: 0.8639 - val_loss: 1.0121\n",
            "Epoch 89/200\n",
            "70/70 [==============================] - 0s 3ms/step - loss: 0.8629 - val_loss: 1.0053\n",
            "Epoch 90/200\n",
            "70/70 [==============================] - 0s 3ms/step - loss: 0.8652 - val_loss: 1.0127\n",
            "Epoch 91/200\n",
            "70/70 [==============================] - 0s 3ms/step - loss: 0.8624 - val_loss: 1.0482\n",
            "Epoch 92/200\n",
            "70/70 [==============================] - 0s 3ms/step - loss: 0.8632 - val_loss: 1.0125\n",
            "Epoch 93/200\n",
            "70/70 [==============================] - 0s 2ms/step - loss: 0.8618 - val_loss: 1.0054\n",
            "Epoch 94/200\n",
            "70/70 [==============================] - 0s 3ms/step - loss: 0.8604 - val_loss: 1.0173\n",
            "Epoch 95/200\n",
            "70/70 [==============================] - 0s 3ms/step - loss: 0.8587 - val_loss: 1.0382\n",
            "Epoch 96/200\n",
            "70/70 [==============================] - 0s 4ms/step - loss: 0.8562 - val_loss: 1.0312\n",
            "Epoch 97/200\n",
            "70/70 [==============================] - 0s 3ms/step - loss: 0.8577 - val_loss: 1.0266\n",
            "Epoch 98/200\n",
            "70/70 [==============================] - 0s 3ms/step - loss: 0.8558 - val_loss: 1.0387\n",
            "Epoch 99/200\n",
            "70/70 [==============================] - 0s 4ms/step - loss: 0.8549 - val_loss: 1.0226\n",
            "Epoch 100/200\n",
            "70/70 [==============================] - 0s 3ms/step - loss: 0.8564 - val_loss: 1.0482\n",
            "Epoch 101/200\n",
            "70/70 [==============================] - 0s 4ms/step - loss: 0.8562 - val_loss: 1.0222\n",
            "Epoch 102/200\n",
            "70/70 [==============================] - 0s 3ms/step - loss: 0.8530 - val_loss: 1.0590\n",
            "Epoch 103/200\n",
            "70/70 [==============================] - 0s 4ms/step - loss: 0.8529 - val_loss: 1.0401\n",
            "Epoch 104/200\n",
            "70/70 [==============================] - 0s 4ms/step - loss: 0.8497 - val_loss: 1.0335\n",
            "Epoch 105/200\n",
            "70/70 [==============================] - 0s 5ms/step - loss: 0.8518 - val_loss: 1.0595\n",
            "Epoch 106/200\n",
            "70/70 [==============================] - 0s 4ms/step - loss: 0.8520 - val_loss: 1.0486\n",
            "Epoch 107/200\n",
            "70/70 [==============================] - 0s 4ms/step - loss: 0.8491 - val_loss: 1.0672\n",
            "Epoch 108/200\n",
            "70/70 [==============================] - 0s 3ms/step - loss: 0.8489 - val_loss: 1.0652\n",
            "Epoch 109/200\n",
            "70/70 [==============================] - 0s 3ms/step - loss: 0.8470 - val_loss: 1.0348\n",
            "Epoch 110/200\n",
            "70/70 [==============================] - 0s 3ms/step - loss: 0.8474 - val_loss: 1.0687\n",
            "Epoch 111/200\n",
            "70/70 [==============================] - 0s 3ms/step - loss: 0.8461 - val_loss: 1.0534\n",
            "Epoch 112/200\n",
            "70/70 [==============================] - 0s 4ms/step - loss: 0.8470 - val_loss: 1.0403\n",
            "Epoch 113/200\n",
            "70/70 [==============================] - 0s 2ms/step - loss: 0.8446 - val_loss: 1.0604\n",
            "Epoch 114/200\n",
            "70/70 [==============================] - 0s 3ms/step - loss: 0.8435 - val_loss: 1.0535\n",
            "Epoch 115/200\n",
            "70/70 [==============================] - 0s 2ms/step - loss: 0.8438 - val_loss: 1.0662\n",
            "Epoch 116/200\n",
            "70/70 [==============================] - 0s 3ms/step - loss: 0.8435 - val_loss: 1.0814\n",
            "Epoch 117/200\n",
            "70/70 [==============================] - 0s 4ms/step - loss: 0.8408 - val_loss: 1.0607\n",
            "Epoch 118/200\n",
            "70/70 [==============================] - 0s 3ms/step - loss: 0.8419 - val_loss: 1.0863\n",
            "Epoch 119/200\n",
            "70/70 [==============================] - 0s 3ms/step - loss: 0.8399 - val_loss: 1.0912\n",
            "Epoch 120/200\n",
            "70/70 [==============================] - 0s 3ms/step - loss: 0.8400 - val_loss: 1.0784\n",
            "Epoch 121/200\n",
            "70/70 [==============================] - 0s 3ms/step - loss: 0.8393 - val_loss: 1.0670\n",
            "Epoch 122/200\n",
            "70/70 [==============================] - 0s 4ms/step - loss: 0.8427 - val_loss: 1.0726\n",
            "Epoch 123/200\n",
            "70/70 [==============================] - 0s 4ms/step - loss: 0.8400 - val_loss: 1.0689\n",
            "Epoch 124/200\n",
            "70/70 [==============================] - 0s 5ms/step - loss: 0.8386 - val_loss: 1.1184\n",
            "Epoch 125/200\n",
            "70/70 [==============================] - 0s 7ms/step - loss: 0.8384 - val_loss: 1.0983\n",
            "Epoch 126/200\n",
            "70/70 [==============================] - 0s 5ms/step - loss: 0.8373 - val_loss: 1.1176\n",
            "Epoch 127/200\n",
            "70/70 [==============================] - 0s 5ms/step - loss: 0.8364 - val_loss: 1.0993\n",
            "Epoch 128/200\n",
            "70/70 [==============================] - 0s 4ms/step - loss: 0.8351 - val_loss: 1.1300\n",
            "Epoch 129/200\n",
            "70/70 [==============================] - 0s 4ms/step - loss: 0.8344 - val_loss: 1.0962\n",
            "Epoch 130/200\n",
            "70/70 [==============================] - 0s 5ms/step - loss: 0.8344 - val_loss: 1.1121\n",
            "Epoch 131/200\n",
            "70/70 [==============================] - 0s 3ms/step - loss: 0.8334 - val_loss: 1.0960\n",
            "Epoch 132/200\n",
            "70/70 [==============================] - 0s 5ms/step - loss: 0.8335 - val_loss: 1.1099\n",
            "Epoch 133/200\n",
            "70/70 [==============================] - 0s 3ms/step - loss: 0.8332 - val_loss: 1.1177\n",
            "Epoch 134/200\n",
            "70/70 [==============================] - 0s 3ms/step - loss: 0.8325 - val_loss: 1.1023\n",
            "Epoch 135/200\n",
            "70/70 [==============================] - 0s 3ms/step - loss: 0.8324 - val_loss: 1.1098\n",
            "Epoch 136/200\n",
            "70/70 [==============================] - 0s 4ms/step - loss: 0.8323 - val_loss: 1.0929\n",
            "Epoch 137/200\n",
            "70/70 [==============================] - 0s 5ms/step - loss: 0.8294 - val_loss: 1.1241\n",
            "Epoch 138/200\n",
            "70/70 [==============================] - 0s 3ms/step - loss: 0.8322 - val_loss: 1.1306\n",
            "Epoch 139/200\n",
            "70/70 [==============================] - 0s 4ms/step - loss: 0.8272 - val_loss: 1.0963\n",
            "Epoch 140/200\n",
            "70/70 [==============================] - 0s 4ms/step - loss: 0.8272 - val_loss: 1.1008\n",
            "Epoch 141/200\n",
            "70/70 [==============================] - 0s 3ms/step - loss: 0.8282 - val_loss: 1.1189\n",
            "Epoch 142/200\n",
            "70/70 [==============================] - 0s 4ms/step - loss: 0.8253 - val_loss: 1.1050\n",
            "Epoch 143/200\n",
            "70/70 [==============================] - 0s 2ms/step - loss: 0.8261 - val_loss: 1.1013\n",
            "Epoch 144/200\n",
            "70/70 [==============================] - 0s 4ms/step - loss: 0.8274 - val_loss: 1.1127\n",
            "Epoch 145/200\n",
            "70/70 [==============================] - 0s 3ms/step - loss: 0.8242 - val_loss: 1.0923\n",
            "Epoch 146/200\n",
            "70/70 [==============================] - 0s 3ms/step - loss: 0.8228 - val_loss: 1.1196\n",
            "Epoch 147/200\n",
            "70/70 [==============================] - 0s 2ms/step - loss: 0.8235 - val_loss: 1.1165\n",
            "Epoch 148/200\n",
            "70/70 [==============================] - 0s 4ms/step - loss: 0.8222 - val_loss: 1.0951\n",
            "Epoch 149/200\n",
            "70/70 [==============================] - 0s 5ms/step - loss: 0.8195 - val_loss: 1.1162\n",
            "Epoch 150/200\n",
            "70/70 [==============================] - 0s 5ms/step - loss: 0.8215 - val_loss: 1.1114\n",
            "Epoch 151/200\n",
            "70/70 [==============================] - 0s 4ms/step - loss: 0.8237 - val_loss: 1.1055\n",
            "Epoch 152/200\n",
            "70/70 [==============================] - 0s 4ms/step - loss: 0.8203 - val_loss: 1.0981\n",
            "Epoch 153/200\n",
            "70/70 [==============================] - 0s 4ms/step - loss: 0.8202 - val_loss: 1.1107\n",
            "Epoch 154/200\n",
            "70/70 [==============================] - 0s 3ms/step - loss: 0.8208 - val_loss: 1.1296\n",
            "Epoch 155/200\n",
            "70/70 [==============================] - 0s 3ms/step - loss: 0.8217 - val_loss: 1.1042\n",
            "Epoch 156/200\n",
            "70/70 [==============================] - 0s 3ms/step - loss: 0.8186 - val_loss: 1.1047\n",
            "Epoch 157/200\n",
            "70/70 [==============================] - 0s 3ms/step - loss: 0.8247 - val_loss: 1.1016\n",
            "Epoch 158/200\n",
            "70/70 [==============================] - 0s 5ms/step - loss: 0.8221 - val_loss: 1.1033\n",
            "Epoch 159/200\n",
            "70/70 [==============================] - 0s 3ms/step - loss: 0.8162 - val_loss: 1.1169\n",
            "Epoch 160/200\n",
            "70/70 [==============================] - 0s 3ms/step - loss: 0.8157 - val_loss: 1.1159\n",
            "Epoch 161/200\n",
            "70/70 [==============================] - 0s 4ms/step - loss: 0.8186 - val_loss: 1.1042\n",
            "Epoch 162/200\n",
            "70/70 [==============================] - 0s 6ms/step - loss: 0.8129 - val_loss: 1.1281\n",
            "Epoch 163/200\n",
            "70/70 [==============================] - 0s 4ms/step - loss: 0.8150 - val_loss: 1.1100\n",
            "Epoch 164/200\n",
            "70/70 [==============================] - 0s 4ms/step - loss: 0.8143 - val_loss: 1.1207\n",
            "Epoch 165/200\n",
            "70/70 [==============================] - 0s 4ms/step - loss: 0.8134 - val_loss: 1.1152\n",
            "Epoch 166/200\n",
            "70/70 [==============================] - 0s 3ms/step - loss: 0.8141 - val_loss: 1.1262\n",
            "Epoch 167/200\n",
            "70/70 [==============================] - 0s 3ms/step - loss: 0.8141 - val_loss: 1.0808\n",
            "Epoch 168/200\n",
            "70/70 [==============================] - 0s 5ms/step - loss: 0.8117 - val_loss: 1.1221\n",
            "Epoch 169/200\n",
            "70/70 [==============================] - 0s 3ms/step - loss: 0.8119 - val_loss: 1.1132\n",
            "Epoch 170/200\n",
            "70/70 [==============================] - 0s 3ms/step - loss: 0.8102 - val_loss: 1.1092\n",
            "Epoch 171/200\n",
            "70/70 [==============================] - 0s 3ms/step - loss: 0.8118 - val_loss: 1.1036\n",
            "Epoch 172/200\n",
            "70/70 [==============================] - 0s 4ms/step - loss: 0.8126 - val_loss: 1.1176\n",
            "Epoch 173/200\n",
            "70/70 [==============================] - 0s 3ms/step - loss: 0.8096 - val_loss: 1.0939\n",
            "Epoch 174/200\n",
            "70/70 [==============================] - 0s 3ms/step - loss: 0.8100 - val_loss: 1.1029\n",
            "Epoch 175/200\n",
            "70/70 [==============================] - 0s 3ms/step - loss: 0.8111 - val_loss: 1.0913\n",
            "Epoch 176/200\n",
            "70/70 [==============================] - 0s 3ms/step - loss: 0.8089 - val_loss: 1.1153\n",
            "Epoch 177/200\n",
            "70/70 [==============================] - 0s 3ms/step - loss: 0.8091 - val_loss: 1.1209\n",
            "Epoch 178/200\n",
            "70/70 [==============================] - 0s 3ms/step - loss: 0.8084 - val_loss: 1.1202\n",
            "Epoch 179/200\n",
            "70/70 [==============================] - 0s 4ms/step - loss: 0.8072 - val_loss: 1.1565\n",
            "Epoch 180/200\n",
            "70/70 [==============================] - 0s 4ms/step - loss: 0.8091 - val_loss: 1.0960\n",
            "Epoch 181/200\n",
            "70/70 [==============================] - 0s 4ms/step - loss: 0.8080 - val_loss: 1.1252\n",
            "Epoch 182/200\n",
            "70/70 [==============================] - 0s 4ms/step - loss: 0.8090 - val_loss: 1.1384\n",
            "Epoch 183/200\n",
            "70/70 [==============================] - 0s 3ms/step - loss: 0.8079 - val_loss: 1.0880\n",
            "Epoch 184/200\n",
            "70/70 [==============================] - 0s 3ms/step - loss: 0.8058 - val_loss: 1.1030\n",
            "Epoch 185/200\n",
            "70/70 [==============================] - 0s 4ms/step - loss: 0.8038 - val_loss: 1.1088\n",
            "Epoch 186/200\n",
            "70/70 [==============================] - 0s 5ms/step - loss: 0.8057 - val_loss: 1.0971\n",
            "Epoch 187/200\n",
            "70/70 [==============================] - 0s 5ms/step - loss: 0.8057 - val_loss: 1.1196\n",
            "Epoch 188/200\n",
            "70/70 [==============================] - 0s 3ms/step - loss: 0.8034 - val_loss: 1.1003\n",
            "Epoch 189/200\n",
            "70/70 [==============================] - 0s 4ms/step - loss: 0.8023 - val_loss: 1.1040\n",
            "Epoch 190/200\n",
            "70/70 [==============================] - 0s 4ms/step - loss: 0.8033 - val_loss: 1.1117\n",
            "Epoch 191/200\n",
            "70/70 [==============================] - 0s 5ms/step - loss: 0.8016 - val_loss: 1.1329\n",
            "Epoch 192/200\n",
            "70/70 [==============================] - 0s 5ms/step - loss: 0.8002 - val_loss: 1.1135\n",
            "Epoch 193/200\n",
            "70/70 [==============================] - 0s 3ms/step - loss: 0.8010 - val_loss: 1.1175\n",
            "Epoch 194/200\n",
            "70/70 [==============================] - 0s 3ms/step - loss: 0.8037 - val_loss: 1.1078\n",
            "Epoch 195/200\n",
            "70/70 [==============================] - 0s 3ms/step - loss: 0.8000 - val_loss: 1.1004\n",
            "Epoch 196/200\n",
            "70/70 [==============================] - 0s 4ms/step - loss: 0.7983 - val_loss: 1.1086\n",
            "Epoch 197/200\n",
            "70/70 [==============================] - 0s 5ms/step - loss: 0.8011 - val_loss: 1.0978\n",
            "Epoch 198/200\n",
            "70/70 [==============================] - 0s 4ms/step - loss: 0.8009 - val_loss: 1.1443\n",
            "Epoch 199/200\n",
            "70/70 [==============================] - 0s 4ms/step - loss: 0.8009 - val_loss: 1.1085\n",
            "Epoch 200/200\n",
            "70/70 [==============================] - 0s 3ms/step - loss: 0.7984 - val_loss: 1.1152\n"
          ]
        }
      ]
    },
    {
      "cell_type": "code",
      "source": [
        "plt.plot(r.history['loss'], label='train loss')\n",
        "plt.plot(r.history['val_loss'], label='test loss')\n",
        "plt.legend();"
      ],
      "metadata": {
        "colab": {
          "base_uri": "https://localhost:8080/",
          "height": 264
        },
        "id": "vmc7DFyQsPFo",
        "outputId": "a936b749-894a-42ee-abbc-703d3f68f24f"
      },
      "execution_count": null,
      "outputs": [
        {
          "output_type": "display_data",
          "data": {
            "image/png": "[encoded data removed]",
            "text/plain": [
              "<Figure size 432x288 with 1 Axes>"
            ]
          },
          "metadata": {
            "needs_background": "light"
          }
        }
      ]
    },
    {
      "cell_type": "markdown",
      "source": [
        "Notice how there is Overfitting, which we can observe by looking at the test loss."
      ],
      "metadata": {
        "id": "9IAntRVJuRYn"
      }
    },
    {
      "cell_type": "code",
      "source": [
        "train_idx[:T+1] = False #first T+1 values are not predictable"
      ],
      "metadata": {
        "id": "cvxvaGzj2N-K"
      },
      "execution_count": null,
      "outputs": []
    },
    {
      "cell_type": "markdown",
      "source": [
        "Next step is to obtain the model predictions, so normally we would just call model predict, but recall that our data has been scaled.\n",
        "\n",
        "Therefore we need to invert the scaling by calling scale or inverse transform."
      ],
      "metadata": {
        "id": "-2svUDy5ugcU"
      }
    },
    {
      "cell_type": "code",
      "source": [
        "ptrain = model.predict(xtrain)\n",
        "ptest = model.predict(xtest)\n",
        "\n",
        "ptrain = scaler.inverse_transform(ptrain).flatten()\n",
        "ptest = scaler.inverse_transform(ptest).flatten()"
      ],
      "metadata": {
        "id": "8ZyDlyvc2Wet"
      },
      "execution_count": null,
      "outputs": []
    },
    {
      "cell_type": "code",
      "source": [
        "# Store diff predictions\n",
        "df.loc[train_idx, 'Diff ANN Train Prediction'] = ptrain\n",
        "df.loc[test_idx, 'Diff ANN Test Prediction'] = ptest"
      ],
      "metadata": {
        "id": "0GhpsQur2hW6"
      },
      "execution_count": null,
      "outputs": []
    },
    {
      "cell_type": "code",
      "source": [
        "cols = [\n",
        "        'DiffLogClose',\n",
        "        'Diff ANN Train Prediction',\n",
        "        'Diff ANN Test Prediction'\n",
        "]\n",
        "df[cols].plot(figsize=(10, 6))"
      ],
      "metadata": {
        "colab": {
          "base_uri": "https://localhost:8080/",
          "height": 385
        },
        "id": "PdDBXzDI21gg",
        "outputId": "98add7c0-ec9a-42f3-faa3-d78a2ea5c688"
      },
      "execution_count": null,
      "outputs": [
        {
          "output_type": "execute_result",
          "data": {
            "text/plain": [
              "<matplotlib.axes._subplots.AxesSubplot at 0x7f86f477c450>"
            ]
          },
          "metadata": {},
          "execution_count": 128
        },
        {
          "output_type": "display_data",
          "data": {
            "image/png": "[encoded data removed]",
            "text/plain": [
              "<Figure size 720x432 with 1 Axes>"
            ]
          },
          "metadata": {
            "needs_background": "light"
          }
        }
      ]
    },
    {
      "cell_type": "markdown",
      "source": [
        "Here's a plot of the one step stock return predictions.\n",
        "Note that it's pretty difficult to see since there are so many values, so you might want to try just plotting the last few steps.\n"
      ],
      "metadata": {
        "id": "ZGyi6y2RuvMK"
      }
    },
    {
      "cell_type": "code",
      "source": [
        "df['ShiftLogClose'] = df['LogClose'].shift()\n",
        "prev = df['ShiftLogClose']"
      ],
      "metadata": {
        "id": "J-5pVvuA3jeA"
      },
      "execution_count": null,
      "outputs": []
    },
    {
      "cell_type": "code",
      "source": [
        "df.head()"
      ],
      "metadata": {
        "colab": {
          "base_uri": "https://localhost:8080/",
          "height": 423
        },
        "id": "dWli1jY6vDEa",
        "outputId": "bf94cc3f-da2b-41b0-b04c-f1010c3d50e5"
      },
      "execution_count": null,
      "outputs": [
        {
          "output_type": "execute_result",
          "data": {
            "text/html": [
              "\n",
              "  <div id=\"df-5986787b-2711-4b0d-8ca4-053fe14b16cc\">\n",
              "    <div class=\"colab-df-container\">\n",
              "      <div>\n",
              "<style scoped>\n",
              "    .dataframe tbody tr th:only-of-type {\n",
              "        vertical-align: middle;\n",
              "    }\n",
              "\n",
              "    .dataframe tbody tr th {\n",
              "        vertical-align: top;\n",
              "    }\n",
              "\n",
              "    .dataframe thead th {\n",
              "        text-align: right;\n",
              "    }\n",
              "</style>\n",
              "<table border=\"1\" class=\"dataframe\">\n",
              "  <thead>\n",
              "    <tr style=\"text-align: right;\">\n",
              "      <th></th>\n",
              "      <th>Close</th>\n",
              "      <th>LogClose</th>\n",
              "      <th>DiffLogClose</th>\n",
              "      <th>ScaledLogReturn</th>\n",
              "      <th>Diff ANN Train Prediction</th>\n",
              "      <th>Diff ANN Test Prediction</th>\n",
              "      <th>ShiftLogClose</th>\n",
              "      <th>1step_train</th>\n",
              "      <th>1step_test</th>\n",
              "      <th>multistep</th>\n",
              "      <th>multioutput</th>\n",
              "    </tr>\n",
              "    <tr>\n",
              "      <th>Date</th>\n",
              "      <th></th>\n",
              "      <th></th>\n",
              "      <th></th>\n",
              "      <th></th>\n",
              "      <th></th>\n",
              "      <th></th>\n",
              "      <th></th>\n",
              "      <th></th>\n",
              "      <th></th>\n",
              "      <th></th>\n",
              "      <th></th>\n",
              "    </tr>\n",
              "  </thead>\n",
              "  <tbody>\n",
              "    <tr>\n",
              "      <th>2010-01-04</th>\n",
              "      <td>11.525</td>\n",
              "      <td>2.444519</td>\n",
              "      <td>NaN</td>\n",
              "      <td>NaN</td>\n",
              "      <td>NaN</td>\n",
              "      <td>NaN</td>\n",
              "      <td>NaN</td>\n",
              "      <td>NaN</td>\n",
              "      <td>NaN</td>\n",
              "      <td>NaN</td>\n",
              "      <td>NaN</td>\n",
              "    </tr>\n",
              "    <tr>\n",
              "      <th>2010-01-05</th>\n",
              "      <td>11.795</td>\n",
              "      <td>2.467676</td>\n",
              "      <td>0.023157</td>\n",
              "      <td>1.474542</td>\n",
              "      <td>NaN</td>\n",
              "      <td>NaN</td>\n",
              "      <td>2.444519</td>\n",
              "      <td>NaN</td>\n",
              "      <td>NaN</td>\n",
              "      <td>NaN</td>\n",
              "      <td>NaN</td>\n",
              "    </tr>\n",
              "    <tr>\n",
              "      <th>2010-01-06</th>\n",
              "      <td>11.710</td>\n",
              "      <td>2.460443</td>\n",
              "      <td>-0.007233</td>\n",
              "      <td>-0.527921</td>\n",
              "      <td>NaN</td>\n",
              "      <td>NaN</td>\n",
              "      <td>2.467676</td>\n",
              "      <td>NaN</td>\n",
              "      <td>NaN</td>\n",
              "      <td>NaN</td>\n",
              "      <td>NaN</td>\n",
              "    </tr>\n",
              "    <tr>\n",
              "      <th>2010-01-07</th>\n",
              "      <td>11.680</td>\n",
              "      <td>2.457878</td>\n",
              "      <td>-0.002565</td>\n",
              "      <td>-0.220375</td>\n",
              "      <td>NaN</td>\n",
              "      <td>NaN</td>\n",
              "      <td>2.460443</td>\n",
              "      <td>NaN</td>\n",
              "      <td>NaN</td>\n",
              "      <td>NaN</td>\n",
              "      <td>NaN</td>\n",
              "    </tr>\n",
              "    <tr>\n",
              "      <th>2010-01-08</th>\n",
              "      <td>11.640</td>\n",
              "      <td>2.454447</td>\n",
              "      <td>-0.003431</td>\n",
              "      <td>-0.277396</td>\n",
              "      <td>NaN</td>\n",
              "      <td>NaN</td>\n",
              "      <td>2.457878</td>\n",
              "      <td>NaN</td>\n",
              "      <td>NaN</td>\n",
              "      <td>NaN</td>\n",
              "      <td>NaN</td>\n",
              "    </tr>\n",
              "  </tbody>\n",
              "</table>\n",
              "</div>\n",
              "      <button class=\"colab-df-convert\" onclick=\"convertToInteractive('df-5986787b-2711-4b0d-8ca4-053fe14b16cc')\"\n",
              "              title=\"Convert this dataframe to an interactive table.\"\n",
              "              style=\"display:none;\">\n",
              "        \n",
              "  <svg xmlns=\"http://www.w3.org/2000/svg\" height=\"24px\"viewBox=\"0 0 24 24\"\n",
              "       width=\"24px\">\n",
              "    <path d=\"M0 0h24v24H0V0z\" fill=\"none\"/>\n",
              "    <path d=\"M18.56 5.44l.94 2.06.94-2.06 2.06-.94-2.06-.94-.94-2.06-.94 2.06-2.06.94zm-11 1L8.5 8.5l.94-2.06 2.06-.94-2.06-.94L8.5 2.5l-.94 2.06-2.06.94zm10 10l.94 2.06.94-2.06 2.06-.94-2.06-.94-.94-2.06-.94 2.06-2.06.94z\"/><path d=\"M17.41 7.96l-1.37-1.37c-.4-.4-.92-.59-1.43-.59-.52 0-1.04.2-1.43.59L10.3 9.45l-7.72 7.72c-.78.78-.78 2.05 0 2.83L4 21.41c.39.39.9.59 1.41.59.51 0 1.02-.2 1.41-.59l7.78-7.78 2.81-2.81c.8-.78.8-2.07 0-2.86zM5.41 20L4 18.59l7.72-7.72 1.47 1.35L5.41 20z\"/>\n",
              "  </svg>\n",
              "      </button>\n",
              "      \n",
              "  <style>\n",
              "    .colab-df-container {\n",
              "      display:flex;\n",
              "      flex-wrap:wrap;\n",
              "      gap: 12px;\n",
              "    }\n",
              "\n",
              "    .colab-df-convert {\n",
              "      background-color: #E8F0FE;\n",
              "      border: none;\n",
              "      border-radius: 50%;\n",
              "      cursor: pointer;\n",
              "      display: none;\n",
              "      fill: #1967D2;\n",
              "      height: 32px;\n",
              "      padding: 0 0 0 0;\n",
              "      width: 32px;\n",
              "    }\n",
              "\n",
              "    .colab-df-convert:hover {\n",
              "      background-color: #E2EBFA;\n",
              "      box-shadow: 0px 1px 2px rgba(60, 64, 67, 0.3), 0px 1px 3px 1px rgba(60, 64, 67, 0.15);\n",
              "      fill: #174EA6;\n",
              "    }\n",
              "\n",
              "    [theme=dark] .colab-df-convert {\n",
              "      background-color: #3B4455;\n",
              "      fill: #D2E3FC;\n",
              "    }\n",
              "\n",
              "    [theme=dark] .colab-df-convert:hover {\n",
              "      background-color: #434B5C;\n",
              "      box-shadow: 0px 1px 3px 1px rgba(0, 0, 0, 0.15);\n",
              "      filter: drop-shadow(0px 1px 2px rgba(0, 0, 0, 0.3));\n",
              "      fill: #FFFFFF;\n",
              "    }\n",
              "  </style>\n",
              "\n",
              "      <script>\n",
              "        const buttonEl =\n",
              "          document.querySelector('#df-5986787b-2711-4b0d-8ca4-053fe14b16cc button.colab-df-convert');\n",
              "        buttonEl.style.display =\n",
              "          google.colab.kernel.accessAllowed ? 'block' : 'none';\n",
              "\n",
              "        async function convertToInteractive(key) {\n",
              "          const element = document.querySelector('#df-5986787b-2711-4b0d-8ca4-053fe14b16cc');\n",
              "          const dataTable =\n",
              "            await google.colab.kernel.invokeFunction('convertToInteractive',\n",
              "                                                     [key], {});\n",
              "          if (!dataTable) return;\n",
              "\n",
              "          const docLinkHtml = 'Like what you see? Visit the ' +\n",
              "            '<a target=\"_blank\" href=https://colab.research.google.com/notebooks/data_table.ipynb>data table notebook</a>'\n",
              "            + ' to learn more about interactive tables.';\n",
              "          element.innerHTML = '';\n",
              "          dataTable['output_type'] = 'display_data';\n",
              "          await google.colab.output.renderOutput(dataTable, element);\n",
              "          const docLink = document.createElement('div');\n",
              "          docLink.innerHTML = docLinkHtml;\n",
              "          element.appendChild(docLink);\n",
              "        }\n",
              "      </script>\n",
              "    </div>\n",
              "  </div>\n",
              "  "
            ],
            "text/plain": [
              "             Close  LogClose  DiffLogClose  ...  1step_test  multistep  multioutput\n",
              "Date                                        ...                                    \n",
              "2010-01-04  11.525  2.444519           NaN  ...         NaN        NaN          NaN\n",
              "2010-01-05  11.795  2.467676      0.023157  ...         NaN        NaN          NaN\n",
              "2010-01-06  11.710  2.460443     -0.007233  ...         NaN        NaN          NaN\n",
              "2010-01-07  11.680  2.457878     -0.002565  ...         NaN        NaN          NaN\n",
              "2010-01-08  11.640  2.454447     -0.003431  ...         NaN        NaN          NaN\n",
              "\n",
              "[5 rows x 11 columns]"
            ]
          },
          "metadata": {},
          "execution_count": 157
        }
      ]
    },
    {
      "cell_type": "markdown",
      "source": [
        "Next step is to save the last known train value, although we won't need this just yet"
      ],
      "metadata": {
        "id": "Y_TcBY62vSsH"
      }
    },
    {
      "cell_type": "code",
      "source": [
        "# last-known train value\n",
        "last_train = train.iloc[-1]['LogClose']"
      ],
      "metadata": {
        "id": "4Hhc0jra38mr"
      },
      "execution_count": null,
      "outputs": []
    },
    {
      "cell_type": "markdown",
      "source": [
        "#### **1-Step Forecast**"
      ],
      "metadata": {
        "id": "-bJbtG54vcwU"
      }
    },
    {
      "cell_type": "markdown",
      "source": [
        "Next step is to add the previous close price to the predicted returns, since this is just the 1-step forecast, we use the same method for both train and test"
      ],
      "metadata": {
        "id": "-umHRUrxvyBw"
      }
    },
    {
      "cell_type": "code",
      "source": [
        "# 1-step forecast\n",
        "df.loc[train_idx, '1step_train'] = prev[train_idx] + ptrain\n",
        "df.loc[test_idx, '1step_test'] = prev[test_idx] + ptest"
      ],
      "metadata": {
        "id": "m_HZl7kz4B_Q"
      },
      "execution_count": null,
      "outputs": []
    },
    {
      "cell_type": "code",
      "source": [
        "# plot 1-step forecast\n",
        "df.iloc[-100:][['LogClose', '1step_train', '1step_test']].plot(figsize=(10, 6))"
      ],
      "metadata": {
        "colab": {
          "base_uri": "https://localhost:8080/",
          "height": 393
        },
        "id": "0ALfSAIU4PmZ",
        "outputId": "1ba45d0a-71b4-4e59-d301-cb1ca46f4f5f"
      },
      "execution_count": null,
      "outputs": [
        {
          "output_type": "execute_result",
          "data": {
            "text/plain": [
              "<matplotlib.axes._subplots.AxesSubplot at 0x7f86f76327d0>"
            ]
          },
          "metadata": {},
          "execution_count": 132
        },
        {
          "output_type": "display_data",
          "data": {
            "image/png": "[encoded data removed]",
            "text/plain": [
              "<Figure size 720x432 with 1 Axes>"
            ]
          },
          "metadata": {
            "needs_background": "light"
          }
        }
      ]
    },
    {
      "cell_type": "markdown",
      "source": [
        "Here's a plot of the one step stock price predictions.\n",
        "Notice how the model basically just lags the previous value, which is not unexpected"
      ],
      "metadata": {
        "id": "hvl51KObv3W1"
      }
    },
    {
      "cell_type": "markdown",
      "source": [
        "#### **Multi-Step Forecast**"
      ],
      "metadata": {
        "id": "BXhQDnI-v8-C"
      }
    },
    {
      "cell_type": "code",
      "source": [
        "# multi-step forecast\n",
        "multistep_predictions = []\n",
        "\n",
        "# first test input\n",
        "last_x = xtest[0]\n",
        "\n",
        "while len(multistep_predictions) < Ntest:\n",
        "  p = model.predict(last_x.reshape(1, -1))[0]\n",
        "\n",
        "  # update the predictions list\n",
        "  multistep_predictions.append(p)\n",
        "\n",
        "  # make the new input\n",
        "  last_x = np.roll(last_x, -1)\n",
        "  last_x[-1] = p"
      ],
      "metadata": {
        "id": "n8qqL9Iz4c-v"
      },
      "execution_count": null,
      "outputs": []
    },
    {
      "cell_type": "markdown",
      "source": [
        "Next step is to invert the scaling on our predictions to do this, we're going to convert our list of predictions into a `numpy_array`.\n",
        "\n",
        "We then reshape this to be two dimensional, which is required for scikit-learn.\n",
        "\n",
        "And then after obtaining the un-scaled prediction, we flatten it back to a 1D Array"
      ],
      "metadata": {
        "id": "85htR2RbwI-J"
      }
    },
    {
      "cell_type": "code",
      "source": [
        "# unscale\n",
        "multistep_predictions = np.array(multistep_predictions)\n",
        "multistep_predictions = scaler.inverse_transform(\n",
        "    multistep_predictions.reshape(-1, 1)).flatten()"
      ],
      "metadata": {
        "id": "yGYvCClO4zm6"
      },
      "execution_count": null,
      "outputs": []
    },
    {
      "cell_type": "code",
      "source": [
        "# save multi-step forecast to dataframe\n",
        "df.loc[test_idx, 'multistep'] = last_train + np.cumsum(multistep_predictions)\n",
        "# np.cumsum = cumulative sum"
      ],
      "metadata": {
        "id": "N-wCdBbi5C0R"
      },
      "execution_count": null,
      "outputs": []
    },
    {
      "cell_type": "code",
      "source": [
        "# plot 1-step and multi-step forecast\n",
        "df.iloc[-100:][['LogClose', 'multistep', '1step_test']].plot(figsize=(10, 6));"
      ],
      "metadata": {
        "colab": {
          "base_uri": "https://localhost:8080/",
          "height": 374
        },
        "id": "rZ193fBf5N79",
        "outputId": "575aa874-1fe5-429f-a481-58e783322b30"
      },
      "execution_count": null,
      "outputs": [
        {
          "output_type": "display_data",
          "data": {
            "image/png": "[encoded data removed]",
            "text/plain": [
              "<Figure size 720x432 with 1 Axes>"
            ]
          },
          "metadata": {
            "needs_background": "light"
          }
        }
      ]
    },
    {
      "cell_type": "markdown",
      "source": [
        "As you can see, it comes up to be almost a straight line with a trend, which makes sense, although it is not a good prediction."
      ],
      "metadata": {
        "id": "Ob_XjbChwchv"
      }
    },
    {
      "cell_type": "markdown",
      "source": [
        "#### Multi-output Forecast"
      ],
      "metadata": {
        "id": "maueNBrJwiNf"
      }
    },
    {
      "cell_type": "code",
      "source": [
        "# Make multi-output supervised dataset\n",
        "Tx = T\n",
        "Ty = Ntest\n",
        "x = []\n",
        "y = []\n",
        "\n",
        "for t in range(len(series) - Tx - Ty + 1):\n",
        "  X = series[t:t+Tx]\n",
        "  x.append(X)\n",
        "  Y = series[t+Tx:t+Tx+Ty]\n",
        "  y.append(Y)\n",
        "\n",
        "x = np.array(x).reshape(-1, Tx)\n",
        "y = np.array(y).reshape(-1, Ty)\n",
        "N = len(x)\n",
        "print('x.shape', x.shape, 'y.shape', y.shape)"
      ],
      "metadata": {
        "colab": {
          "base_uri": "https://localhost:8080/"
        },
        "id": "A6lmwCPX5uOI",
        "outputId": "b6800fb4-4fe6-436f-8a05-7977e67ebd58"
      },
      "execution_count": null,
      "outputs": [
        {
          "output_type": "stream",
          "name": "stdout",
          "text": [
            "x.shape (2232, 10) y.shape (2232, 21)\n"
          ]
        }
      ]
    },
    {
      "cell_type": "markdown",
      "source": [
        "Next step is to split our new data into train and test. Recall that the test set is only the last row since that contains our entire forecast horizon"
      ],
      "metadata": {
        "id": "w7KdbPxQwnbG"
      }
    },
    {
      "cell_type": "code",
      "source": [
        "xtrain_m, ytrain_m = x[:-1], y[:-1]\n",
        "xtest_m, ytest_m = x[-1:], y[-1:]"
      ],
      "metadata": {
        "id": "5tGbaRry53GS"
      },
      "execution_count": null,
      "outputs": []
    },
    {
      "cell_type": "code",
      "source": [
        "# Basic ANN\n",
        "i = Input(shape=(Tx,)) #input\n",
        "x = Dense(32, activation='relu')(i) #hidden units 32 size\n",
        "x = Dense(Ty)(x) #output\n",
        "model = Model(i, x)"
      ],
      "metadata": {
        "id": "1840kWLG6-LA"
      },
      "execution_count": null,
      "outputs": []
    },
    {
      "cell_type": "code",
      "source": [
        "model.compile(\n",
        "    loss='mse',\n",
        "    optimizer='adam',\n",
        ")"
      ],
      "metadata": {
        "id": "PRwCzyji7KyU"
      },
      "execution_count": null,
      "outputs": []
    },
    {
      "cell_type": "code",
      "source": [
        "r = model.fit(\n",
        "    xtrain_m,\n",
        "    ytrain_m,\n",
        "    epochs=100,\n",
        "    validation_data=(xtest_m, ytest_m)\n",
        ")"
      ],
      "metadata": {
        "colab": {
          "base_uri": "https://localhost:8080/"
        },
        "id": "ugsxUnXN7PUE",
        "outputId": "9fdda1e0-8c3e-4a3a-d021-9e0411743396"
      },
      "execution_count": null,
      "outputs": [
        {
          "output_type": "stream",
          "name": "stdout",
          "text": [
            "Epoch 1/100\n",
            "70/70 [==============================] - 1s 3ms/step - loss: 1.1321 - val_loss: 1.0284\n",
            "Epoch 2/100\n",
            "70/70 [==============================] - 0s 2ms/step - loss: 1.0588 - val_loss: 1.0414\n",
            "Epoch 3/100\n",
            "70/70 [==============================] - 0s 2ms/step - loss: 1.0339 - val_loss: 1.0370\n",
            "Epoch 4/100\n",
            "70/70 [==============================] - 0s 2ms/step - loss: 1.0212 - val_loss: 1.0405\n",
            "Epoch 5/100\n",
            "70/70 [==============================] - 0s 2ms/step - loss: 1.0134 - val_loss: 1.0348\n",
            "Epoch 6/100\n",
            "70/70 [==============================] - 0s 2ms/step - loss: 1.0083 - val_loss: 1.0300\n",
            "Epoch 7/100\n",
            "70/70 [==============================] - 0s 2ms/step - loss: 1.0046 - val_loss: 1.0324\n",
            "Epoch 8/100\n",
            "70/70 [==============================] - 0s 2ms/step - loss: 1.0017 - val_loss: 1.0248\n",
            "Epoch 9/100\n",
            "70/70 [==============================] - 0s 2ms/step - loss: 0.9994 - val_loss: 1.0219\n",
            "Epoch 10/100\n",
            "70/70 [==============================] - 0s 2ms/step - loss: 0.9976 - val_loss: 1.0167\n",
            "Epoch 11/100\n",
            "70/70 [==============================] - 0s 2ms/step - loss: 0.9960 - val_loss: 1.0135\n",
            "Epoch 12/100\n",
            "70/70 [==============================] - 0s 2ms/step - loss: 0.9946 - val_loss: 1.0175\n",
            "Epoch 13/100\n",
            "70/70 [==============================] - 0s 2ms/step - loss: 0.9935 - val_loss: 1.0165\n",
            "Epoch 14/100\n",
            "70/70 [==============================] - 0s 2ms/step - loss: 0.9926 - val_loss: 1.0113\n",
            "Epoch 15/100\n",
            "70/70 [==============================] - 0s 2ms/step - loss: 0.9916 - val_loss: 1.0139\n",
            "Epoch 16/100\n",
            "70/70 [==============================] - 0s 2ms/step - loss: 0.9907 - val_loss: 1.0108\n",
            "Epoch 17/100\n",
            "70/70 [==============================] - 0s 2ms/step - loss: 0.9900 - val_loss: 1.0134\n",
            "Epoch 18/100\n",
            "70/70 [==============================] - 0s 2ms/step - loss: 0.9892 - val_loss: 1.0155\n",
            "Epoch 19/100\n",
            "70/70 [==============================] - 0s 2ms/step - loss: 0.9886 - val_loss: 1.0176\n",
            "Epoch 20/100\n",
            "70/70 [==============================] - 0s 2ms/step - loss: 0.9881 - val_loss: 1.0198\n",
            "Epoch 21/100\n",
            "70/70 [==============================] - 0s 2ms/step - loss: 0.9876 - val_loss: 1.0239\n",
            "Epoch 22/100\n",
            "70/70 [==============================] - 0s 2ms/step - loss: 0.9870 - val_loss: 1.0217\n",
            "Epoch 23/100\n",
            "70/70 [==============================] - 0s 2ms/step - loss: 0.9865 - val_loss: 1.0233\n",
            "Epoch 24/100\n",
            "70/70 [==============================] - 0s 2ms/step - loss: 0.9860 - val_loss: 1.0240\n",
            "Epoch 25/100\n",
            "70/70 [==============================] - 0s 2ms/step - loss: 0.9854 - val_loss: 1.0282\n",
            "Epoch 26/100\n",
            "70/70 [==============================] - 0s 2ms/step - loss: 0.9850 - val_loss: 1.0252\n",
            "Epoch 27/100\n",
            "70/70 [==============================] - 0s 2ms/step - loss: 0.9848 - val_loss: 1.0249\n",
            "Epoch 28/100\n",
            "70/70 [==============================] - 0s 2ms/step - loss: 0.9846 - val_loss: 1.0263\n",
            "Epoch 29/100\n",
            "70/70 [==============================] - 0s 2ms/step - loss: 0.9839 - val_loss: 1.0290\n",
            "Epoch 30/100\n",
            "70/70 [==============================] - 0s 2ms/step - loss: 0.9835 - val_loss: 1.0309\n",
            "Epoch 31/100\n",
            "70/70 [==============================] - 0s 2ms/step - loss: 0.9833 - val_loss: 1.0333\n",
            "Epoch 32/100\n",
            "70/70 [==============================] - 0s 2ms/step - loss: 0.9829 - val_loss: 1.0288\n",
            "Epoch 33/100\n",
            "70/70 [==============================] - 0s 2ms/step - loss: 0.9826 - val_loss: 1.0299\n",
            "Epoch 34/100\n",
            "70/70 [==============================] - 0s 2ms/step - loss: 0.9823 - val_loss: 1.0291\n",
            "Epoch 35/100\n",
            "70/70 [==============================] - 0s 2ms/step - loss: 0.9818 - val_loss: 1.0372\n",
            "Epoch 36/100\n",
            "70/70 [==============================] - 0s 2ms/step - loss: 0.9818 - val_loss: 1.0335\n",
            "Epoch 37/100\n",
            "70/70 [==============================] - 0s 2ms/step - loss: 0.9813 - val_loss: 1.0356\n",
            "Epoch 38/100\n",
            "70/70 [==============================] - 0s 2ms/step - loss: 0.9809 - val_loss: 1.0327\n",
            "Epoch 39/100\n",
            "70/70 [==============================] - 0s 2ms/step - loss: 0.9806 - val_loss: 1.0333\n",
            "Epoch 40/100\n",
            "70/70 [==============================] - 0s 2ms/step - loss: 0.9803 - val_loss: 1.0365\n",
            "Epoch 41/100\n",
            "70/70 [==============================] - 0s 2ms/step - loss: 0.9800 - val_loss: 1.0376\n",
            "Epoch 42/100\n",
            "70/70 [==============================] - 0s 2ms/step - loss: 0.9796 - val_loss: 1.0396\n",
            "Epoch 43/100\n",
            "70/70 [==============================] - 0s 2ms/step - loss: 0.9794 - val_loss: 1.0425\n",
            "Epoch 44/100\n",
            "70/70 [==============================] - 0s 2ms/step - loss: 0.9791 - val_loss: 1.0405\n",
            "Epoch 45/100\n",
            "70/70 [==============================] - 0s 2ms/step - loss: 0.9788 - val_loss: 1.0417\n",
            "Epoch 46/100\n",
            "70/70 [==============================] - 0s 2ms/step - loss: 0.9787 - val_loss: 1.0435\n",
            "Epoch 47/100\n",
            "70/70 [==============================] - 0s 2ms/step - loss: 0.9783 - val_loss: 1.0417\n",
            "Epoch 48/100\n",
            "70/70 [==============================] - 0s 2ms/step - loss: 0.9780 - val_loss: 1.0458\n",
            "Epoch 49/100\n",
            "70/70 [==============================] - 0s 2ms/step - loss: 0.9776 - val_loss: 1.0466\n",
            "Epoch 50/100\n",
            "70/70 [==============================] - 0s 2ms/step - loss: 0.9774 - val_loss: 1.0432\n",
            "Epoch 51/100\n",
            "70/70 [==============================] - 0s 2ms/step - loss: 0.9773 - val_loss: 1.0491\n",
            "Epoch 52/100\n",
            "70/70 [==============================] - 0s 2ms/step - loss: 0.9771 - val_loss: 1.0513\n",
            "Epoch 53/100\n",
            "70/70 [==============================] - 0s 2ms/step - loss: 0.9769 - val_loss: 1.0513\n",
            "Epoch 54/100\n",
            "70/70 [==============================] - 0s 2ms/step - loss: 0.9768 - val_loss: 1.0543\n",
            "Epoch 55/100\n",
            "70/70 [==============================] - 0s 2ms/step - loss: 0.9764 - val_loss: 1.0517\n",
            "Epoch 56/100\n",
            "70/70 [==============================] - 0s 2ms/step - loss: 0.9761 - val_loss: 1.0489\n",
            "Epoch 57/100\n",
            "70/70 [==============================] - 0s 2ms/step - loss: 0.9758 - val_loss: 1.0510\n",
            "Epoch 58/100\n",
            "70/70 [==============================] - 0s 2ms/step - loss: 0.9756 - val_loss: 1.0564\n",
            "Epoch 59/100\n",
            "70/70 [==============================] - 0s 2ms/step - loss: 0.9755 - val_loss: 1.0493\n",
            "Epoch 60/100\n",
            "70/70 [==============================] - 0s 2ms/step - loss: 0.9753 - val_loss: 1.0530\n",
            "Epoch 61/100\n",
            "70/70 [==============================] - 0s 2ms/step - loss: 0.9749 - val_loss: 1.0546\n",
            "Epoch 62/100\n",
            "70/70 [==============================] - 0s 2ms/step - loss: 0.9748 - val_loss: 1.0536\n",
            "Epoch 63/100\n",
            "70/70 [==============================] - 0s 2ms/step - loss: 0.9747 - val_loss: 1.0511\n",
            "Epoch 64/100\n",
            "70/70 [==============================] - 0s 2ms/step - loss: 0.9744 - val_loss: 1.0588\n",
            "Epoch 65/100\n",
            "70/70 [==============================] - 0s 2ms/step - loss: 0.9741 - val_loss: 1.0637\n",
            "Epoch 66/100\n",
            "70/70 [==============================] - 0s 2ms/step - loss: 0.9741 - val_loss: 1.0562\n",
            "Epoch 67/100\n",
            "70/70 [==============================] - 0s 2ms/step - loss: 0.9738 - val_loss: 1.0551\n",
            "Epoch 68/100\n",
            "70/70 [==============================] - 0s 2ms/step - loss: 0.9736 - val_loss: 1.0559\n",
            "Epoch 69/100\n",
            "70/70 [==============================] - 0s 2ms/step - loss: 0.9733 - val_loss: 1.0668\n",
            "Epoch 70/100\n",
            "70/70 [==============================] - 0s 2ms/step - loss: 0.9732 - val_loss: 1.0621\n",
            "Epoch 71/100\n",
            "70/70 [==============================] - 0s 2ms/step - loss: 0.9729 - val_loss: 1.0607\n",
            "Epoch 72/100\n",
            "70/70 [==============================] - 0s 2ms/step - loss: 0.9729 - val_loss: 1.0608\n",
            "Epoch 73/100\n",
            "70/70 [==============================] - 0s 2ms/step - loss: 0.9726 - val_loss: 1.0556\n",
            "Epoch 74/100\n",
            "70/70 [==============================] - 0s 2ms/step - loss: 0.9725 - val_loss: 1.0645\n",
            "Epoch 75/100\n",
            "70/70 [==============================] - 0s 2ms/step - loss: 0.9724 - val_loss: 1.0619\n",
            "Epoch 76/100\n",
            "70/70 [==============================] - 0s 2ms/step - loss: 0.9722 - val_loss: 1.0629\n",
            "Epoch 77/100\n",
            "70/70 [==============================] - 0s 2ms/step - loss: 0.9720 - val_loss: 1.0649\n",
            "Epoch 78/100\n",
            "70/70 [==============================] - 0s 2ms/step - loss: 0.9717 - val_loss: 1.0632\n",
            "Epoch 79/100\n",
            "70/70 [==============================] - 0s 2ms/step - loss: 0.9716 - val_loss: 1.0652\n",
            "Epoch 80/100\n",
            "70/70 [==============================] - 0s 2ms/step - loss: 0.9714 - val_loss: 1.0685\n",
            "Epoch 81/100\n",
            "70/70 [==============================] - 0s 2ms/step - loss: 0.9713 - val_loss: 1.0658\n",
            "Epoch 82/100\n",
            "70/70 [==============================] - 0s 2ms/step - loss: 0.9711 - val_loss: 1.0620\n",
            "Epoch 83/100\n",
            "70/70 [==============================] - 0s 2ms/step - loss: 0.9710 - val_loss: 1.0648\n",
            "Epoch 84/100\n",
            "70/70 [==============================] - 0s 2ms/step - loss: 0.9710 - val_loss: 1.0711\n",
            "Epoch 85/100\n",
            "70/70 [==============================] - 0s 2ms/step - loss: 0.9708 - val_loss: 1.0612\n",
            "Epoch 86/100\n",
            "70/70 [==============================] - 0s 2ms/step - loss: 0.9707 - val_loss: 1.0638\n",
            "Epoch 87/100\n",
            "70/70 [==============================] - 0s 2ms/step - loss: 0.9705 - val_loss: 1.0624\n",
            "Epoch 88/100\n",
            "70/70 [==============================] - 0s 2ms/step - loss: 0.9705 - val_loss: 1.0674\n",
            "Epoch 89/100\n",
            "70/70 [==============================] - 0s 2ms/step - loss: 0.9702 - val_loss: 1.0653\n",
            "Epoch 90/100\n",
            "70/70 [==============================] - 0s 2ms/step - loss: 0.9701 - val_loss: 1.0625\n",
            "Epoch 91/100\n",
            "70/70 [==============================] - 0s 2ms/step - loss: 0.9701 - val_loss: 1.0703\n",
            "Epoch 92/100\n",
            "70/70 [==============================] - 0s 2ms/step - loss: 0.9699 - val_loss: 1.0650\n",
            "Epoch 93/100\n",
            "70/70 [==============================] - 0s 2ms/step - loss: 0.9697 - val_loss: 1.0713\n",
            "Epoch 94/100\n",
            "70/70 [==============================] - 0s 2ms/step - loss: 0.9697 - val_loss: 1.0725\n",
            "Epoch 95/100\n",
            "70/70 [==============================] - 0s 2ms/step - loss: 0.9695 - val_loss: 1.0700\n",
            "Epoch 96/100\n",
            "70/70 [==============================] - 0s 2ms/step - loss: 0.9696 - val_loss: 1.0686\n",
            "Epoch 97/100\n",
            "70/70 [==============================] - 0s 2ms/step - loss: 0.9693 - val_loss: 1.0673\n",
            "Epoch 98/100\n",
            "70/70 [==============================] - 0s 2ms/step - loss: 0.9694 - val_loss: 1.0642\n",
            "Epoch 99/100\n",
            "70/70 [==============================] - 0s 2ms/step - loss: 0.9693 - val_loss: 1.0699\n",
            "Epoch 100/100\n",
            "70/70 [==============================] - 0s 2ms/step - loss: 0.9693 - val_loss: 1.0681\n"
          ]
        }
      ]
    },
    {
      "cell_type": "code",
      "source": [
        "plt.plot(r.history['loss'], label='train loss')\n",
        "plt.plot(r.history['val_loss'], label='test loss')\n",
        "plt.legend();"
      ],
      "metadata": {
        "colab": {
          "base_uri": "https://localhost:8080/",
          "height": 268
        },
        "id": "En6OAZ117fFt",
        "outputId": "f2b99167-9b8f-47e4-879c-af1413e9f9fd"
      },
      "execution_count": null,
      "outputs": [
        {
          "output_type": "display_data",
          "data": {
            "image/png": "[encoded data removed]",
            "text/plain": [
              "<Figure size 432x288 with 1 Axes>"
            ]
          },
          "metadata": {
            "needs_background": "light"
          }
        }
      ]
    },
    {
      "cell_type": "markdown",
      "source": [
        "Notice that the plot is over overfit."
      ],
      "metadata": {
        "id": "_3HjA4i9w3cK"
      }
    },
    {
      "cell_type": "code",
      "source": [
        "ptrain = model.predict(xtrain)\n",
        "ptest = model.predict(xtest)"
      ],
      "metadata": {
        "id": "D0KdV7qX7tuu"
      },
      "execution_count": null,
      "outputs": []
    },
    {
      "cell_type": "code",
      "source": [
        "ptrain.shape, ptest.shape"
      ],
      "metadata": {
        "colab": {
          "base_uri": "https://localhost:8080/"
        },
        "id": "iimjg87m74rY",
        "outputId": "2012c38b-722d-4cd9-f7d6-5740e0a17e88"
      },
      "execution_count": null,
      "outputs": [
        {
          "output_type": "execute_result",
          "data": {
            "text/plain": [
              "((2231, 21), (21, 21))"
            ]
          },
          "metadata": {},
          "execution_count": 144
        }
      ]
    },
    {
      "cell_type": "code",
      "source": [
        "ptrain = ptrain[:,0]\n",
        "ptest = ptest[0]"
      ],
      "metadata": {
        "id": "Or_kmYyf76QX"
      },
      "execution_count": null,
      "outputs": []
    },
    {
      "cell_type": "markdown",
      "source": [
        "The main difference here is that we need to call inversed Transform to put our predictions back on the original scale."
      ],
      "metadata": {
        "id": "CMbinaWyxH6y"
      }
    },
    {
      "cell_type": "code",
      "source": [
        "# unscale\n",
        "ptest = scaler.inverse_transform(ptest.reshape(-1, 1)).flatten()"
      ],
      "metadata": {
        "id": "cd7TMzJr9TEE"
      },
      "execution_count": null,
      "outputs": []
    },
    {
      "cell_type": "code",
      "source": [
        "# save multi-output forecast to dataframe\n",
        "df.loc[test_idx, 'multioutput'] = last_train + np.cumsum(ptest)"
      ],
      "metadata": {
        "id": "60iA7NCF9wI9"
      },
      "execution_count": null,
      "outputs": []
    },
    {
      "cell_type": "code",
      "source": [
        "# plot all forecast\n",
        "cols = ['LogClose', 'multistep', '1step_test', 'multioutput']\n",
        "df.iloc[-100:][cols].plot(figsize=(10, 6));"
      ],
      "metadata": {
        "colab": {
          "base_uri": "https://localhost:8080/",
          "height": 374
        },
        "id": "kektaulI94hy",
        "outputId": "f2113ac6-4b7c-4e19-c27e-9296dddb8adb"
      },
      "execution_count": null,
      "outputs": [
        {
          "output_type": "display_data",
          "data": {
            "image/png": "[encoded data removed]",
            "text/plain": [
              "<Figure size 720x432 with 1 Axes>"
            ]
          },
          "metadata": {
            "needs_background": "light"
          }
        }
      ]
    },
    {
      "cell_type": "markdown",
      "source": [
        "It's pretty much just a straight line with a small trend."
      ],
      "metadata": {
        "id": "66E90V7WxQ44"
      }
    },
    {
      "cell_type": "code",
      "source": [
        "# MAPE\n",
        "test_log_pass = df.iloc[-Ntest:]['LogClose']\n",
        "mape1 = mean_absolute_percentage_error(\n",
        "    test_log_pass, df.loc[test_idx, 'multistep'])\n",
        "print('multi-step MAPE:', mape1)\n",
        "mape2 = mean_absolute_percentage_error(\n",
        "    test_log_pass, df.loc[test_idx, 'multioutput'])\n",
        "print('multi-output MAPE:', mape2)"
      ],
      "metadata": {
        "colab": {
          "base_uri": "https://localhost:8080/"
        },
        "id": "lRB6mIJT-EtA",
        "outputId": "bf0c75b9-db21-4fe3-b001-2bc8577b0c7f"
      },
      "execution_count": null,
      "outputs": [
        {
          "output_type": "stream",
          "name": "stdout",
          "text": [
            "multi-step MAPE: 0.008941029893924412\n",
            "multi-output MAPE: 0.008424864019732883\n"
          ]
        }
      ]
    },
    {
      "cell_type": "markdown",
      "source": [
        "## **1-Step Binary Classification**\n",
        "\n",
        "Next step is to make our problems simpler by doing a one step binary classification."
      ],
      "metadata": {
        "id": "k8meuZDn-VWC"
      }
    },
    {
      "cell_type": "markdown",
      "source": [
        "\n",
        "So in order to build this data set, we can simply use what we had before.\n",
        "\n",
        "We just need to make new targets by assigning anything above zero to one and anything below zero to zero."
      ],
      "metadata": {
        "id": "85hdqmugxrHs"
      }
    },
    {
      "cell_type": "code",
      "source": [
        "ytrain_b = (ytrain > 0) * 1\n",
        "ytest_b = (ytest > 0) * 1"
      ],
      "metadata": {
        "id": "XQrrrAVS-NtL"
      },
      "execution_count": null,
      "outputs": []
    },
    {
      "cell_type": "code",
      "source": [
        "#Basic ANN\n",
        "i = Input(shape=(T,))\n",
        "x = Dense(32, activation='relu')(i)\n",
        "x = Dense(1)(x)\n",
        "model = Model(i, x)"
      ],
      "metadata": {
        "id": "_SJs8lPv-ot9"
      },
      "execution_count": null,
      "outputs": []
    },
    {
      "cell_type": "code",
      "source": [
        "model.compile(\n",
        "    loss=tf.keras.losses.BinaryCrossentropy(from_logits=True), #binary classification\n",
        "    optimizer = 'adam',\n",
        "    metrics =['accuracy']\n",
        ")"
      ],
      "metadata": {
        "id": "KpAr2Z33-0eg"
      },
      "execution_count": null,
      "outputs": []
    },
    {
      "cell_type": "code",
      "source": [
        "r = model.fit(\n",
        "    xtrain,\n",
        "    ytrain_b,\n",
        "    epochs=100,\n",
        "    validation_data=(xtest, ytest_b)\n",
        ")"
      ],
      "metadata": {
        "colab": {
          "base_uri": "https://localhost:8080/"
        },
        "id": "O6E_dUBd_B7d",
        "outputId": "efb51ea7-9462-4daf-e0c3-8dc3ec901d66"
      },
      "execution_count": null,
      "outputs": [
        {
          "output_type": "stream",
          "name": "stdout",
          "text": [
            "Epoch 1/100\n",
            "70/70 [==============================] - 1s 4ms/step - loss: 0.7516 - accuracy: 0.5016 - val_loss: 0.7012 - val_accuracy: 0.5238\n",
            "Epoch 2/100\n",
            "70/70 [==============================] - 0s 2ms/step - loss: 0.7087 - accuracy: 0.5043 - val_loss: 0.7071 - val_accuracy: 0.5238\n",
            "Epoch 3/100\n",
            "70/70 [==============================] - 0s 2ms/step - loss: 0.6993 - accuracy: 0.5034 - val_loss: 0.7045 - val_accuracy: 0.5238\n",
            "Epoch 4/100\n",
            "70/70 [==============================] - 0s 2ms/step - loss: 0.6949 - accuracy: 0.5043 - val_loss: 0.7067 - val_accuracy: 0.5238\n",
            "Epoch 5/100\n",
            "70/70 [==============================] - 0s 2ms/step - loss: 0.6917 - accuracy: 0.5074 - val_loss: 0.6991 - val_accuracy: 0.5238\n",
            "Epoch 6/100\n",
            "70/70 [==============================] - 0s 2ms/step - loss: 0.6897 - accuracy: 0.5047 - val_loss: 0.6981 - val_accuracy: 0.5238\n",
            "Epoch 7/100\n",
            "70/70 [==============================] - 0s 2ms/step - loss: 0.6874 - accuracy: 0.5065 - val_loss: 0.6951 - val_accuracy: 0.5238\n",
            "Epoch 8/100\n",
            "70/70 [==============================] - 0s 2ms/step - loss: 0.6858 - accuracy: 0.5132 - val_loss: 0.6909 - val_accuracy: 0.5238\n",
            "Epoch 9/100\n",
            "70/70 [==============================] - 0s 2ms/step - loss: 0.6843 - accuracy: 0.5092 - val_loss: 0.6947 - val_accuracy: 0.5238\n",
            "Epoch 10/100\n",
            "70/70 [==============================] - 0s 2ms/step - loss: 0.6827 - accuracy: 0.5119 - val_loss: 0.6951 - val_accuracy: 0.5238\n",
            "Epoch 11/100\n",
            "70/70 [==============================] - 0s 2ms/step - loss: 0.6819 - accuracy: 0.5141 - val_loss: 0.6938 - val_accuracy: 0.5238\n",
            "Epoch 12/100\n",
            "70/70 [==============================] - 0s 2ms/step - loss: 0.6806 - accuracy: 0.5150 - val_loss: 0.6892 - val_accuracy: 0.5238\n",
            "Epoch 13/100\n",
            "70/70 [==============================] - 0s 2ms/step - loss: 0.6801 - accuracy: 0.5199 - val_loss: 0.6896 - val_accuracy: 0.5238\n",
            "Epoch 14/100\n",
            "70/70 [==============================] - 0s 2ms/step - loss: 0.6788 - accuracy: 0.5226 - val_loss: 0.6873 - val_accuracy: 0.5238\n",
            "Epoch 15/100\n",
            "70/70 [==============================] - 0s 2ms/step - loss: 0.6784 - accuracy: 0.5204 - val_loss: 0.6892 - val_accuracy: 0.5238\n",
            "Epoch 16/100\n",
            "70/70 [==============================] - 0s 2ms/step - loss: 0.6776 - accuracy: 0.5164 - val_loss: 0.6880 - val_accuracy: 0.5238\n",
            "Epoch 17/100\n",
            "70/70 [==============================] - 0s 2ms/step - loss: 0.6764 - accuracy: 0.5249 - val_loss: 0.6858 - val_accuracy: 0.5238\n",
            "Epoch 18/100\n",
            "70/70 [==============================] - 0s 2ms/step - loss: 0.6767 - accuracy: 0.5204 - val_loss: 0.6870 - val_accuracy: 0.5238\n",
            "Epoch 19/100\n",
            "70/70 [==============================] - 0s 2ms/step - loss: 0.6751 - accuracy: 0.5222 - val_loss: 0.6865 - val_accuracy: 0.5238\n",
            "Epoch 20/100\n",
            "70/70 [==============================] - 0s 2ms/step - loss: 0.6749 - accuracy: 0.5262 - val_loss: 0.6851 - val_accuracy: 0.5238\n",
            "Epoch 21/100\n",
            "70/70 [==============================] - 0s 2ms/step - loss: 0.6742 - accuracy: 0.5222 - val_loss: 0.6844 - val_accuracy: 0.5238\n",
            "Epoch 22/100\n",
            "70/70 [==============================] - 0s 2ms/step - loss: 0.6738 - accuracy: 0.5253 - val_loss: 0.6834 - val_accuracy: 0.5238\n",
            "Epoch 23/100\n",
            "70/70 [==============================] - 0s 2ms/step - loss: 0.6731 - accuracy: 0.5267 - val_loss: 0.6824 - val_accuracy: 0.5238\n",
            "Epoch 24/100\n",
            "70/70 [==============================] - 0s 2ms/step - loss: 0.6729 - accuracy: 0.5231 - val_loss: 0.6796 - val_accuracy: 0.5238\n",
            "Epoch 25/100\n",
            "70/70 [==============================] - 0s 2ms/step - loss: 0.6723 - accuracy: 0.5249 - val_loss: 0.6846 - val_accuracy: 0.5238\n",
            "Epoch 26/100\n",
            "70/70 [==============================] - 0s 2ms/step - loss: 0.6719 - accuracy: 0.5294 - val_loss: 0.6832 - val_accuracy: 0.5238\n",
            "Epoch 27/100\n",
            "70/70 [==============================] - 0s 2ms/step - loss: 0.6710 - accuracy: 0.5289 - val_loss: 0.6802 - val_accuracy: 0.5238\n",
            "Epoch 28/100\n",
            "70/70 [==============================] - 0s 2ms/step - loss: 0.6705 - accuracy: 0.5285 - val_loss: 0.6836 - val_accuracy: 0.5238\n",
            "Epoch 29/100\n",
            "70/70 [==============================] - 0s 2ms/step - loss: 0.6701 - accuracy: 0.5316 - val_loss: 0.6798 - val_accuracy: 0.5238\n",
            "Epoch 30/100\n",
            "70/70 [==============================] - 0s 2ms/step - loss: 0.6699 - accuracy: 0.5312 - val_loss: 0.6764 - val_accuracy: 0.5238\n",
            "Epoch 31/100\n",
            "70/70 [==============================] - 0s 2ms/step - loss: 0.6693 - accuracy: 0.5289 - val_loss: 0.6828 - val_accuracy: 0.5238\n",
            "Epoch 32/100\n",
            "70/70 [==============================] - 0s 2ms/step - loss: 0.6692 - accuracy: 0.5365 - val_loss: 0.6801 - val_accuracy: 0.5238\n",
            "Epoch 33/100\n",
            "70/70 [==============================] - 0s 2ms/step - loss: 0.6686 - accuracy: 0.5307 - val_loss: 0.6802 - val_accuracy: 0.5238\n",
            "Epoch 34/100\n",
            "70/70 [==============================] - 0s 2ms/step - loss: 0.6683 - accuracy: 0.5303 - val_loss: 0.6797 - val_accuracy: 0.5238\n",
            "Epoch 35/100\n",
            "70/70 [==============================] - 0s 2ms/step - loss: 0.6682 - accuracy: 0.5361 - val_loss: 0.6741 - val_accuracy: 0.5238\n",
            "Epoch 36/100\n",
            "70/70 [==============================] - 0s 2ms/step - loss: 0.6679 - accuracy: 0.5325 - val_loss: 0.6719 - val_accuracy: 0.5238\n",
            "Epoch 37/100\n",
            "70/70 [==============================] - 0s 2ms/step - loss: 0.6681 - accuracy: 0.5316 - val_loss: 0.6750 - val_accuracy: 0.5238\n",
            "Epoch 38/100\n",
            "70/70 [==============================] - 0s 2ms/step - loss: 0.6665 - accuracy: 0.5361 - val_loss: 0.6756 - val_accuracy: 0.5238\n",
            "Epoch 39/100\n",
            "70/70 [==============================] - 0s 2ms/step - loss: 0.6666 - accuracy: 0.5356 - val_loss: 0.6725 - val_accuracy: 0.5238\n",
            "Epoch 40/100\n",
            "70/70 [==============================] - 0s 2ms/step - loss: 0.6666 - accuracy: 0.5320 - val_loss: 0.6749 - val_accuracy: 0.5238\n",
            "Epoch 41/100\n",
            "70/70 [==============================] - 0s 2ms/step - loss: 0.6660 - accuracy: 0.5383 - val_loss: 0.6763 - val_accuracy: 0.5238\n",
            "Epoch 42/100\n",
            "70/70 [==============================] - 0s 2ms/step - loss: 0.6657 - accuracy: 0.5356 - val_loss: 0.6755 - val_accuracy: 0.5238\n",
            "Epoch 43/100\n",
            "70/70 [==============================] - 0s 2ms/step - loss: 0.6657 - accuracy: 0.5379 - val_loss: 0.6766 - val_accuracy: 0.5238\n",
            "Epoch 44/100\n",
            "70/70 [==============================] - 0s 2ms/step - loss: 0.6656 - accuracy: 0.5374 - val_loss: 0.6769 - val_accuracy: 0.4762\n",
            "Epoch 45/100\n",
            "70/70 [==============================] - 0s 2ms/step - loss: 0.6648 - accuracy: 0.5374 - val_loss: 0.6709 - val_accuracy: 0.5238\n",
            "Epoch 46/100\n",
            "70/70 [==============================] - 0s 2ms/step - loss: 0.6646 - accuracy: 0.5433 - val_loss: 0.6695 - val_accuracy: 0.5238\n",
            "Epoch 47/100\n",
            "70/70 [==============================] - 0s 2ms/step - loss: 0.6643 - accuracy: 0.5392 - val_loss: 0.6670 - val_accuracy: 0.5238\n",
            "Epoch 48/100\n",
            "70/70 [==============================] - 0s 2ms/step - loss: 0.6639 - accuracy: 0.5379 - val_loss: 0.6677 - val_accuracy: 0.5238\n",
            "Epoch 49/100\n",
            "70/70 [==============================] - 0s 2ms/step - loss: 0.6631 - accuracy: 0.5415 - val_loss: 0.6663 - val_accuracy: 0.5238\n",
            "Epoch 50/100\n",
            "70/70 [==============================] - 0s 2ms/step - loss: 0.6632 - accuracy: 0.5428 - val_loss: 0.6687 - val_accuracy: 0.5238\n",
            "Epoch 51/100\n",
            "70/70 [==============================] - 0s 2ms/step - loss: 0.6626 - accuracy: 0.5433 - val_loss: 0.6673 - val_accuracy: 0.5238\n",
            "Epoch 52/100\n",
            "70/70 [==============================] - 0s 2ms/step - loss: 0.6632 - accuracy: 0.5401 - val_loss: 0.6680 - val_accuracy: 0.5238\n",
            "Epoch 53/100\n",
            "70/70 [==============================] - 0s 2ms/step - loss: 0.6625 - accuracy: 0.5446 - val_loss: 0.6674 - val_accuracy: 0.5238\n",
            "Epoch 54/100\n",
            "70/70 [==============================] - 0s 2ms/step - loss: 0.6621 - accuracy: 0.5397 - val_loss: 0.6672 - val_accuracy: 0.5238\n",
            "Epoch 55/100\n",
            "70/70 [==============================] - 0s 2ms/step - loss: 0.6618 - accuracy: 0.5442 - val_loss: 0.6682 - val_accuracy: 0.5238\n",
            "Epoch 56/100\n",
            "70/70 [==============================] - 0s 2ms/step - loss: 0.6614 - accuracy: 0.5446 - val_loss: 0.6677 - val_accuracy: 0.5238\n",
            "Epoch 57/100\n",
            "70/70 [==============================] - 0s 2ms/step - loss: 0.6613 - accuracy: 0.5428 - val_loss: 0.6635 - val_accuracy: 0.5238\n",
            "Epoch 58/100\n",
            "70/70 [==============================] - 0s 2ms/step - loss: 0.6611 - accuracy: 0.5428 - val_loss: 0.6642 - val_accuracy: 0.5238\n",
            "Epoch 59/100\n",
            "70/70 [==============================] - 0s 2ms/step - loss: 0.6614 - accuracy: 0.5437 - val_loss: 0.6694 - val_accuracy: 0.5238\n",
            "Epoch 60/100\n",
            "70/70 [==============================] - 0s 2ms/step - loss: 0.6608 - accuracy: 0.5446 - val_loss: 0.6643 - val_accuracy: 0.5238\n",
            "Epoch 61/100\n",
            "70/70 [==============================] - 0s 2ms/step - loss: 0.6605 - accuracy: 0.5424 - val_loss: 0.6689 - val_accuracy: 0.5238\n",
            "Epoch 62/100\n",
            "70/70 [==============================] - 0s 2ms/step - loss: 0.6599 - accuracy: 0.5406 - val_loss: 0.6698 - val_accuracy: 0.5714\n",
            "Epoch 63/100\n",
            "70/70 [==============================] - 0s 2ms/step - loss: 0.6599 - accuracy: 0.5450 - val_loss: 0.6604 - val_accuracy: 0.5238\n",
            "Epoch 64/100\n",
            "70/70 [==============================] - 0s 2ms/step - loss: 0.6601 - accuracy: 0.5455 - val_loss: 0.6632 - val_accuracy: 0.5238\n",
            "Epoch 65/100\n",
            "70/70 [==============================] - 0s 2ms/step - loss: 0.6590 - accuracy: 0.5437 - val_loss: 0.6649 - val_accuracy: 0.5238\n",
            "Epoch 66/100\n",
            "70/70 [==============================] - 0s 2ms/step - loss: 0.6593 - accuracy: 0.5518 - val_loss: 0.6616 - val_accuracy: 0.5238\n",
            "Epoch 67/100\n",
            "70/70 [==============================] - 0s 2ms/step - loss: 0.6597 - accuracy: 0.5450 - val_loss: 0.6619 - val_accuracy: 0.5238\n",
            "Epoch 68/100\n",
            "70/70 [==============================] - 0s 2ms/step - loss: 0.6589 - accuracy: 0.5464 - val_loss: 0.6625 - val_accuracy: 0.5238\n",
            "Epoch 69/100\n",
            "70/70 [==============================] - 0s 2ms/step - loss: 0.6589 - accuracy: 0.5464 - val_loss: 0.6635 - val_accuracy: 0.5714\n",
            "Epoch 70/100\n",
            "70/70 [==============================] - 0s 2ms/step - loss: 0.6591 - accuracy: 0.5477 - val_loss: 0.6688 - val_accuracy: 0.5714\n",
            "Epoch 71/100\n",
            "70/70 [==============================] - 0s 2ms/step - loss: 0.6582 - accuracy: 0.5509 - val_loss: 0.6721 - val_accuracy: 0.4762\n",
            "Epoch 72/100\n",
            "70/70 [==============================] - 0s 2ms/step - loss: 0.6579 - accuracy: 0.5513 - val_loss: 0.6652 - val_accuracy: 0.4762\n",
            "Epoch 73/100\n",
            "70/70 [==============================] - 0s 2ms/step - loss: 0.6578 - accuracy: 0.5459 - val_loss: 0.6653 - val_accuracy: 0.5238\n",
            "Epoch 74/100\n",
            "70/70 [==============================] - 0s 2ms/step - loss: 0.6577 - accuracy: 0.5459 - val_loss: 0.6633 - val_accuracy: 0.5238\n",
            "Epoch 75/100\n",
            "70/70 [==============================] - 0s 2ms/step - loss: 0.6574 - accuracy: 0.5509 - val_loss: 0.6611 - val_accuracy: 0.5238\n",
            "Epoch 76/100\n",
            "70/70 [==============================] - 0s 2ms/step - loss: 0.6576 - accuracy: 0.5509 - val_loss: 0.6615 - val_accuracy: 0.5714\n",
            "Epoch 77/100\n",
            "70/70 [==============================] - 0s 2ms/step - loss: 0.6577 - accuracy: 0.5491 - val_loss: 0.6664 - val_accuracy: 0.5714\n",
            "Epoch 78/100\n",
            "70/70 [==============================] - 0s 2ms/step - loss: 0.6573 - accuracy: 0.5509 - val_loss: 0.6638 - val_accuracy: 0.5714\n",
            "Epoch 79/100\n",
            "70/70 [==============================] - 0s 2ms/step - loss: 0.6575 - accuracy: 0.5513 - val_loss: 0.6619 - val_accuracy: 0.5714\n",
            "Epoch 80/100\n",
            "70/70 [==============================] - 0s 2ms/step - loss: 0.6564 - accuracy: 0.5545 - val_loss: 0.6625 - val_accuracy: 0.6190\n",
            "Epoch 81/100\n",
            "70/70 [==============================] - 0s 2ms/step - loss: 0.6563 - accuracy: 0.5549 - val_loss: 0.6600 - val_accuracy: 0.5238\n",
            "Epoch 82/100\n",
            "70/70 [==============================] - 0s 2ms/step - loss: 0.6569 - accuracy: 0.5540 - val_loss: 0.6625 - val_accuracy: 0.5714\n",
            "Epoch 83/100\n",
            "70/70 [==============================] - 0s 2ms/step - loss: 0.6565 - accuracy: 0.5491 - val_loss: 0.6681 - val_accuracy: 0.6190\n",
            "Epoch 84/100\n",
            "70/70 [==============================] - 0s 2ms/step - loss: 0.6561 - accuracy: 0.5473 - val_loss: 0.6606 - val_accuracy: 0.6190\n",
            "Epoch 85/100\n",
            "70/70 [==============================] - 0s 2ms/step - loss: 0.6561 - accuracy: 0.5522 - val_loss: 0.6648 - val_accuracy: 0.5714\n",
            "Epoch 86/100\n",
            "70/70 [==============================] - 0s 2ms/step - loss: 0.6553 - accuracy: 0.5513 - val_loss: 0.6648 - val_accuracy: 0.5714\n",
            "Epoch 87/100\n",
            "70/70 [==============================] - 0s 2ms/step - loss: 0.6561 - accuracy: 0.5554 - val_loss: 0.6590 - val_accuracy: 0.5238\n",
            "Epoch 88/100\n",
            "70/70 [==============================] - 0s 2ms/step - loss: 0.6549 - accuracy: 0.5540 - val_loss: 0.6631 - val_accuracy: 0.5714\n",
            "Epoch 89/100\n",
            "70/70 [==============================] - 0s 2ms/step - loss: 0.6550 - accuracy: 0.5504 - val_loss: 0.6619 - val_accuracy: 0.5714\n",
            "Epoch 90/100\n",
            "70/70 [==============================] - 0s 2ms/step - loss: 0.6552 - accuracy: 0.5509 - val_loss: 0.6636 - val_accuracy: 0.5714\n",
            "Epoch 91/100\n",
            "70/70 [==============================] - 0s 2ms/step - loss: 0.6544 - accuracy: 0.5563 - val_loss: 0.6691 - val_accuracy: 0.5238\n",
            "Epoch 92/100\n",
            "70/70 [==============================] - 0s 2ms/step - loss: 0.6551 - accuracy: 0.5527 - val_loss: 0.6634 - val_accuracy: 0.5238\n",
            "Epoch 93/100\n",
            "70/70 [==============================] - 0s 2ms/step - loss: 0.6544 - accuracy: 0.5531 - val_loss: 0.6616 - val_accuracy: 0.5238\n",
            "Epoch 94/100\n",
            "70/70 [==============================] - 0s 2ms/step - loss: 0.6544 - accuracy: 0.5527 - val_loss: 0.6624 - val_accuracy: 0.5238\n",
            "Epoch 95/100\n",
            "70/70 [==============================] - 0s 2ms/step - loss: 0.6538 - accuracy: 0.5531 - val_loss: 0.6689 - val_accuracy: 0.5714\n",
            "Epoch 96/100\n",
            "70/70 [==============================] - 0s 2ms/step - loss: 0.6541 - accuracy: 0.5527 - val_loss: 0.6603 - val_accuracy: 0.5238\n",
            "Epoch 97/100\n",
            "70/70 [==============================] - 0s 2ms/step - loss: 0.6537 - accuracy: 0.5580 - val_loss: 0.6658 - val_accuracy: 0.5238\n",
            "Epoch 98/100\n",
            "70/70 [==============================] - 0s 2ms/step - loss: 0.6532 - accuracy: 0.5545 - val_loss: 0.6642 - val_accuracy: 0.5714\n",
            "Epoch 99/100\n",
            "70/70 [==============================] - 0s 2ms/step - loss: 0.6534 - accuracy: 0.5554 - val_loss: 0.6613 - val_accuracy: 0.5714\n",
            "Epoch 100/100\n",
            "70/70 [==============================] - 0s 2ms/step - loss: 0.6532 - accuracy: 0.5580 - val_loss: 0.6589 - val_accuracy: 0.5714\n"
          ]
        }
      ]
    },
    {
      "cell_type": "code",
      "source": [
        "plt.plot(r.history['loss'], label='train loss')\n",
        "plt.plot(r.history['val_loss'], label='test loss')\n",
        "plt.legend();"
      ],
      "metadata": {
        "colab": {
          "base_uri": "https://localhost:8080/",
          "height": 264
        },
        "id": "yDQ_XsJG_KBj",
        "outputId": "68d9d372-f068-4858-ac95-db5be9f8f5e7"
      },
      "execution_count": null,
      "outputs": [
        {
          "output_type": "display_data",
          "data": {
            "image/png": "[encoded data removed]",
            "text/plain": [
              "<Figure size 432x288 with 1 Axes>"
            ]
          },
          "metadata": {
            "needs_background": "light"
          }
        }
      ]
    },
    {
      "cell_type": "markdown",
      "source": [
        "Test loss no longer increases"
      ],
      "metadata": {
        "id": "eOwYHia_x29u"
      }
    },
    {
      "cell_type": "code",
      "source": [
        "plt.plot(r.history['accuracy'], label='train accuracy')\n",
        "plt.plot(r.history['val_accuracy'], label='test accuracy')\n",
        "plt.legend();"
      ],
      "metadata": {
        "colab": {
          "base_uri": "https://localhost:8080/",
          "height": 264
        },
        "id": "l-pqMct0_SDf",
        "outputId": "03e3dd33-3ad2-48b4-c7c2-b4e5e1b522f9"
      },
      "execution_count": null,
      "outputs": [
        {
          "output_type": "display_data",
          "data": {
            "image/png": "[encoded data removed]",
            "text/plain": [
              "<Figure size 432x288 with 1 Axes>"
            ]
          },
          "metadata": {
            "needs_background": "light"
          }
        }
      ]
    },
    {
      "cell_type": "markdown",
      "source": [
        "So notice how even for the test set, which is quite small, we seem to do better than just predicting a random coin toss.\n",
        "\n",
        "Of course, the real test is whether or not you can do this consistently.\n"
      ],
      "metadata": {
        "id": "13iQDBgxx30S"
      }
    },
    {
      "cell_type": "code",
      "source": [
        ""
      ],
      "metadata": {
        "id": "5kU_Lipo_bck"
      },
      "execution_count": null,
      "outputs": []
    }
  ]
}